{
 "cells": [
  {
   "cell_type": "markdown",
   "metadata": {
    "id": "view-in-github"
   },
   "source": [
    "<a href=\"https://colab.research.google.com/github/eftekhar-hossain/Disaster_IEEE-Access/blob/main/damage_identification.ipynb\" target=\"_parent\"><img src=\"https://colab.research.google.com/assets/colab-badge.svg\" alt=\"Open In Colab\"/></a>"
   ]
  },
  {
   "cell_type": "code",
   "execution_count": 8,
   "metadata": {
    "colab": {
     "base_uri": "https://localhost:8080/"
    },
    "id": "h2fqu2atx5m0",
    "outputId": "0d2cf7bb-66bf-42af-e14d-911a63c4910d"
   },
   "outputs": [
    {
     "name": "stdout",
     "output_type": "stream",
     "text": [
      "Drive already mounted at /content/drive; to attempt to forcibly remount, call drive.mount(\"/content/drive\", force_remount=True).\n"
     ]
    }
   ],
   "source": [
    "from google.colab import drive\n",
    "drive.mount('/content/drive')"
   ]
  },
  {
   "cell_type": "markdown",
   "metadata": {
    "id": "D09VDHN9xiww"
   },
   "source": [
    "## Libraries"
   ]
  },
  {
   "cell_type": "code",
   "execution_count": null,
   "metadata": {
    "colab": {
     "base_uri": "https://localhost:8080/"
    },
    "id": "6OdpHrd7yReb",
    "outputId": "7eabf2bc-44a2-40d7-9166-996283a53adf"
   },
   "outputs": [
    {
     "name": "stderr",
     "output_type": "stream",
     "text": [
      "[nltk_data] Downloading package punkt to /root/nltk_data...\n",
      "[nltk_data]   Unzipping tokenizers/punkt.zip.\n"
     ]
    },
    {
     "name": "stdout",
     "output_type": "stream",
     "text": [
      "CPU times: user 9.51 s, sys: 1.42 s, total: 10.9 s\n",
      "Wall time: 16.9 s\n"
     ]
    }
   ],
   "source": [
    "%%time\n",
    "import os\n",
    "from glob import glob\n",
    "import numpy as np\n",
    "import matplotlib.pyplot as plt\n",
    "%matplotlib inline\n",
    "import pandas as pd\n",
    "import seaborn as sns\n",
    "import re,nltk,json\n",
    "from sklearn.metrics import confusion_matrix,classification_report \n",
    "from sklearn.model_selection import train_test_split\n",
    "from sklearn.metrics import accuracy_score,precision_score,recall_score,f1_score,roc_auc_score\n",
    "from sklearn.metrics import average_precision_score,roc_auc_score, roc_curve, precision_recall_curve\n",
    "from keras.utils.vis_utils import plot_model\n",
    "np.random.seed(42)\n",
    "nltk.download('punkt')\n",
    "from nltk.corpus import stopwords\n",
    "from nltk.tokenize import word_tokenize\n",
    "from nltk.tokenize import ToktokTokenizer\n",
    "import string, spacy,unicodedata, random\n",
    "from bs4 import BeautifulSoup\n",
    "class color: # Text style\n",
    "   PURPLE = '\\033[95m'\n",
    "   CYAN = '\\033[96m'\n",
    "   DARKCYAN = '\\033[36m'\n",
    "   BLUE = '\\033[94m'\n",
    "   GREEN = '\\033[92m'\n",
    "   YELLOW = '\\033[93m'\n",
    "   RED = '\\033[91m'\n",
    "   BOLD = '\\033[1m'\n",
    "   UNDERLINE = '\\033[4m'\n",
    "   END = '\\033[0m'\n",
    "import warnings\n",
    "warnings.filterwarnings('ignore')\n",
    "### Pretrained Word Embeddings\n",
    "pretrained_path = \"/content/drive/MyDrive/TaheriThesis/Dataset/PreTrained Wordembedding/\"\n",
    "# dataset_path = \"/content/drive/MyDrive/Colab Notebooks/MSC Presentation Tasks/Disaster Response/Images/\"\n",
    "# folder_path = \"/content/drive/MyDrive/Colab Notebooks/MSC Presentation Tasks/Disaster Response/\"\n",
    "models_path = \"/content/drive/MyDrive/TaheriThesis/Dataset/Multimodal Sentiment/\"\n",
    "\n",
    "\n",
    "folder_path = \"/content/drive/MyDrive/TaheriThesis/Dataset/\"\n",
    "# models_path = \"/content/drive/MyDrive/TaheriThesis/Dataset/Multimodal Sentiment/Models/\"\n",
    "# results_path = \"/content/drive/MyDrive/TaheriThesis/Dataset/Multimodal Sentiment/Results/\"\n",
    "dataset_path = \"/content/drive/MyDrive/TaheriThesis/Dataset/Images/\""
   ]
  },
  {
   "cell_type": "code",
   "execution_count": null,
   "metadata": {
    "id": "l767bYFbGNLf"
   },
   "outputs": [],
   "source": [
    "from keras.preprocessing import image\n",
    "from keras.applications.vgg16 import VGG16\n",
    "from keras.applications.inception_v3 import InceptionV3\n",
    "from tensorflow.keras.applications.resnet50 import ResNet50\n",
    "from keras.applications.vgg16 import preprocess_input\n",
    "from keras.preprocessing.text import Tokenizer\n",
    "from keras.layers import Dense, GlobalAveragePooling2D, Embedding, LSTM, multiply\n",
    "from keras.models import Model\n",
    "from keras import preprocessing, Input\n",
    "from tensorflow import keras\n",
    "from keras.models import Sequential\n",
    "#Import from keras_preprocessing not from keras.preprocessing\n",
    "# from keras_preprocessing.image import ImageDataGenerator\n",
    "from keras.layers import Dense, Activation, Flatten, Dropout, BatchNormalization\n",
    "from keras.layers import Conv2D, MaxPooling2D\n",
    "from keras import regularizers, optimizers\n",
    "from tensorflow.keras.models import load_model\n",
    "import itertools\n",
    "from PIL import Image, ImageFile\n",
    "import tensorflow as tf\n",
    "import tensorflow.keras as keras\n",
    "from tensorflow.keras.preprocessing.text import Tokenizer\n",
    "from tensorflow.keras.preprocessing.sequence import pad_sequences\n",
    "from tensorflow.keras.layers import Concatenate, Dense, Input, LSTM, Embedding, Dropout, Activation, GRU, Flatten\n",
    "from tensorflow.keras.layers import Bidirectional, GlobalMaxPool1D\n",
    "from tensorflow.keras.models import Model, Sequential\n",
    "from tensorflow.keras.layers import Convolution1D,MaxPooling1D,Conv1D\n",
    "from tensorflow.keras import initializers, regularizers, constraints, optimizers, layers\n",
    "from tensorflow.keras.layers import Add, BatchNormalization, Activation, Dropout\n",
    "from tensorflow.keras.optimizers import RMSprop,Adam,SGD,Nadam\n",
    "keras.backend.clear_session()"
   ]
  },
  {
   "cell_type": "markdown",
   "metadata": {
    "id": "jjImoyXizNSk"
   },
   "source": [
    "#Fetching Dataset"
   ]
  },
  {
   "cell_type": "code",
   "execution_count": null,
   "metadata": {
    "id": "nt9hWjXNzQxq"
   },
   "outputs": [],
   "source": [
    "# train_data = pd.read_excel(folder_path+'train.xlsx')\n",
    "# test_data = pd.read_csv(folder_path+'test.xlsx')\n",
    "# valid_data = pd.read_excel(main_path+'valid_new.xlsx')\n",
    "\n",
    "\n",
    "\n",
    "train_data = pd.read_csv(folder_path+'train.csv')\n",
    "valid_data = pd.read_csv(folder_path+'val.csv')\n",
    "test_data = pd.read_csv(folder_path+'test.csv')\n",
    "\n"
   ]
  },
  {
   "cell_type": "code",
   "execution_count": null,
   "metadata": {
    "colab": {
     "base_uri": "https://localhost:8080/"
    },
    "id": "1lDAsGYgMs8r",
    "outputId": "2485a63b-0db8-4652-c8c0-bdac9c50fdca"
   },
   "outputs": [
    {
     "data": {
      "text/plain": [
       "Index(['image_name', 'Captions', 'Label_Sentiment', 'Label'], dtype='object')"
      ]
     },
     "execution_count": 6,
     "metadata": {},
     "output_type": "execute_result"
    }
   ],
   "source": [
    "train_data.columns"
   ]
  },
  {
   "cell_type": "code",
   "execution_count": null,
   "metadata": {
    "colab": {
     "base_uri": "https://localhost:8080/"
    },
    "id": "RhUgGvUa2WFX",
    "outputId": "46c3fe03-08a2-43fd-f3fb-3e0d5feaf889"
   },
   "outputs": [
    {
     "data": {
      "text/plain": [
       "0    861\n",
       "6    716\n",
       "4    623\n",
       "1    477\n",
       "5    408\n",
       "3    400\n",
       "2    348\n",
       "Name: Label, dtype: int64"
      ]
     },
     "execution_count": 7,
     "metadata": {},
     "output_type": "execute_result"
    }
   ],
   "source": [
    "train_data['Label'].value_counts()"
   ]
  },
  {
   "cell_type": "code",
   "execution_count": null,
   "metadata": {
    "colab": {
     "base_uri": "https://localhost:8080/"
    },
    "id": "nPO59gZr2c5p",
    "outputId": "f0b4afd9-a7e7-4410-ffad-eae4b57b3838"
   },
   "outputs": [
    {
     "data": {
      "text/plain": [
       "0    93\n",
       "6    79\n",
       "4    68\n",
       "5    46\n",
       "3    44\n",
       "1    44\n",
       "2    40\n",
       "Name: Label, dtype: int64"
      ]
     },
     "execution_count": 8,
     "metadata": {},
     "output_type": "execute_result"
    }
   ],
   "source": [
    "test_data['Label'].value_counts()"
   ]
  },
  {
   "cell_type": "code",
   "execution_count": 11,
   "metadata": {
    "id": "qJO4yFDY2nTP"
   },
   "outputs": [],
   "source": [
    "\n",
    "\n",
    "\n",
    "train_data['enc_label'] = train_data['Label_Sentiment'].replace({'happy':0,'angry':1,'disgust':2,'fear':3,'sad':4,'surprise':5,'other':6})\n",
    "valid_data['enc_label'] = valid_data['Label_Sentiment'].replace({'happy':0,'angry':1,'disgust':2,'fear':3,'sad':4,'surprise':5,'other':6})\n",
    "test_data['enc_label'] = test_data['Label_Sentiment'].replace({'happy':0,'angry':1,'disgust':2,'fear':3,'sad':4,'surprise':5,'other':6})"
   ]
  },
  {
   "cell_type": "code",
   "execution_count": null,
   "metadata": {
    "colab": {
     "base_uri": "https://localhost:8080/"
    },
    "id": "NqXJL1QY3Gte",
    "outputId": "e9c0aaae-7e7e-4f16-dbb1-5259677f457f"
   },
   "outputs": [
    {
     "name": "stdout",
     "output_type": "stream",
     "text": [
      "Size of the training data ==>  (3833, 5)\n",
      "Size of the Test data ==> (414, 5)\n"
     ]
    }
   ],
   "source": [
    "print(\"Size of the training data ==> \", train_data.shape)\n",
    "print(\"Size of the Test data ==>\", test_data.shape)"
   ]
  },
  {
   "cell_type": "markdown",
   "metadata": {
    "id": "-f7tj6t_MbR2"
   },
   "source": [
    "## Image Fetching"
   ]
  },
  {
   "cell_type": "code",
   "execution_count": 12,
   "metadata": {
    "id": "ER4zNOmfMe_8"
   },
   "outputs": [],
   "source": [
    "## collect image names from the folders\n",
    "def create_img_array(img_dirct):\n",
    "    all_imgs = []\n",
    "    for root, j, files in os.walk(img_dirct):\n",
    "        for file in files:\n",
    "            file = root + '' + file\n",
    "            all_imgs.append(file)\n",
    "    return all_imgs\n",
    "\n",
    "def create_img_path(DF, Col_name, img_dir):\n",
    "    img_path = [img_dir + '' + name for name in DF[Col_name]]\n",
    "    return img_path"
   ]
  },
  {
   "cell_type": "code",
   "execution_count": null,
   "metadata": {
    "id": "1X--YjxFMo4v"
   },
   "outputs": [],
   "source": [
    "# Creating train, test and validation image path\n",
    "train_img_path = create_img_path(train_data,'image_name', dataset_path)\n",
    "valid_img_path = create_img_path(valid_data,'image_name', dataset_path)"
   ]
  },
  {
   "cell_type": "code",
   "execution_count": 13,
   "metadata": {
    "id": "4RLito_j4WxC"
   },
   "outputs": [],
   "source": [
    "test_img_path = create_img_path(test_data,'image_name', dataset_path)"
   ]
  },
  {
   "cell_type": "code",
   "execution_count": 14,
   "metadata": {
    "id": "t3FUNU_bM7Tn"
   },
   "outputs": [],
   "source": [
    "# Function that returns image reading from the path\n",
    "def get_input(path):\n",
    "    # Loading image from given path\n",
    "    # and resizing it to 150*150*3 format\n",
    "    ImageFile.LOAD_TRUNCATED_IMAGES = True\n",
    "    img= tf.keras.utils.load_img(path, target_size=(150,150)) \n",
    "    # img.close()   \n",
    "    return(img)\n",
    "\n",
    "# Takes in image and preprocess it\n",
    "def process_input(img):\n",
    "    # Converting image to array    \n",
    "    img_data =tf.keras.utils.img_to_array(img)\n",
    "    # Adding one more dimension to array    \n",
    "    img_data = np.expand_dims(img_data, axis=0)\n",
    "    #     \n",
    "    img_data = preprocess_input(img_data)\n",
    "    #img_data = preprocess_input(img_data)\n",
    "    return(img_data)\n"
   ]
  },
  {
   "cell_type": "code",
   "execution_count": null,
   "metadata": {
    "id": "pUdvKi_yNCb5"
   },
   "outputs": [],
   "source": [
    "# Create an array of training images\n",
    "train_images = []\n",
    "for n,i in enumerate(train_img_path):\n",
    "  input_img = get_input(i)\n",
    "  process_img = process_input(input_img)\n",
    "  # print(n)\n",
    "  train_images.append(process_img[0])"
   ]
  },
  {
   "cell_type": "code",
   "execution_count": null,
   "metadata": {
    "id": "ZdaVOmrw1CpK"
   },
   "outputs": [],
   "source": [
    "# Create an array of training images\n",
    "valid_images = []\n",
    "for n,i in enumerate(valid_img_path):\n",
    "  input_img = get_input(i)\n",
    "  process_img = process_input(input_img)\n",
    "  # print(n)\n",
    "  valid_images.append(process_img[0])"
   ]
  },
  {
   "cell_type": "code",
   "execution_count": 15,
   "metadata": {
    "id": "KeGcMyaKY7s_"
   },
   "outputs": [],
   "source": [
    "# Create an array of training images\n",
    "test_images = []\n",
    "for n,i in enumerate(test_img_path):\n",
    "  input_img = get_input(i)\n",
    "  process_img = process_input(input_img)\n",
    "  # print(n)\n",
    "  test_images.append(process_img[0])\n"
   ]
  },
  {
   "cell_type": "code",
   "execution_count": null,
   "metadata": {
    "id": "fd31qUec4o6j"
   },
   "outputs": [],
   "source": [
    "# convert into numpy array\n",
    "train_image = np.array(train_images)"
   ]
  },
  {
   "cell_type": "code",
   "execution_count": null,
   "metadata": {
    "id": "EkmubC2u1Vhn"
   },
   "outputs": [],
   "source": [
    "valid_image = np.array(valid_images)"
   ]
  },
  {
   "cell_type": "code",
   "execution_count": 16,
   "metadata": {
    "id": "G731BdDt4p5E"
   },
   "outputs": [],
   "source": [
    "test_image = np.array(test_images)"
   ]
  },
  {
   "cell_type": "code",
   "execution_count": null,
   "metadata": {
    "id": "PTGSeCyIb3i0"
   },
   "outputs": [],
   "source": [
    "import pickle as pkl\n",
    "with open(dataset_path+'train.pkl','wb') as f:\n",
    "    pkl.dump(train_image, f)\n",
    "\n",
    "# with open(dataset_path+'test.pkl','wb') as f:\n",
    "#     pkl.dump(test_image, f)    "
   ]
  },
  {
   "cell_type": "code",
   "execution_count": null,
   "metadata": {
    "id": "en4g5tsp1ahU"
   },
   "outputs": [],
   "source": [
    "import pickle as pkl\n",
    "with open(dataset_path+'valid.pkl','wb') as f:\n",
    "    pkl.dump(valid_image, f)"
   ]
  },
  {
   "cell_type": "code",
   "execution_count": 17,
   "metadata": {
    "id": "cT1sl0lZx_KG"
   },
   "outputs": [],
   "source": [
    "import pickle as pkl\n",
    "\n",
    "\n",
    "with open(dataset_path+'test.pkl','wb') as f:\n",
    "    pkl.dump(test_image, f)  "
   ]
  },
  {
   "cell_type": "code",
   "execution_count": null,
   "metadata": {
    "colab": {
     "base_uri": "https://localhost:8080/"
    },
    "id": "AKDZjc1uxvvh",
    "outputId": "dada7b13-77cd-4248-c129-f687dc475502"
   },
   "outputs": [
    {
     "name": "stdout",
     "output_type": "stream",
     "text": [
      "Training Images:--  (3833, 150, 150, 3)\n"
     ]
    }
   ],
   "source": [
    "\n",
    "with open(dataset_path+'train.pkl','rb') as f:\n",
    "  train_image = pkl.load(f)\n",
    "  print(\"Training Images:-- \",train_image.shape)"
   ]
  },
  {
   "cell_type": "code",
   "execution_count": null,
   "metadata": {
    "colab": {
     "base_uri": "https://localhost:8080/"
    },
    "id": "Cbh76eTW1v4M",
    "outputId": "e7b62b0d-1813-435e-ac7f-147f4398ed44"
   },
   "outputs": [
    {
     "name": "stdout",
     "output_type": "stream",
     "text": [
      "Validation Images:--  (414, 150, 150, 3)\n"
     ]
    }
   ],
   "source": [
    "\n",
    "with open(dataset_path+'valid.pkl','rb') as f:\n",
    "  valid_image = pkl.load(f)\n",
    "  print(\"Validation Images:-- \",valid_image.shape)"
   ]
  },
  {
   "cell_type": "code",
   "execution_count": 18,
   "metadata": {
    "colab": {
     "base_uri": "https://localhost:8080/"
    },
    "id": "gwok956k44jA",
    "outputId": "921d4f59-7507-4a91-af22-f4bb91429b67"
   },
   "outputs": [
    {
     "name": "stdout",
     "output_type": "stream",
     "text": [
      "Test Images:--  (414, 150, 150, 3)\n"
     ]
    }
   ],
   "source": [
    "with open(dataset_path+'test.pkl','rb') as f:\n",
    "  test_image = pkl.load(f)\n",
    "  print(\"Test Images:-- \",test_image.shape)"
   ]
  },
  {
   "cell_type": "markdown",
   "metadata": {
    "id": "C55eRoK23rzC"
   },
   "source": [
    "## One Hot Encoding"
   ]
  },
  {
   "cell_type": "code",
   "execution_count": 19,
   "metadata": {
    "id": "dNGZabRk3vSN"
   },
   "outputs": [],
   "source": [
    "import pandas as pd\n",
    "from sklearn.preprocessing import OneHotEncoder"
   ]
  },
  {
   "cell_type": "code",
   "execution_count": 20,
   "metadata": {
    "id": "vfd2Z0c-3x6_"
   },
   "outputs": [],
   "source": [
    "# encoder=OneHotEncoder(sparse=False)\n",
    "\n",
    "# encoded_labels = pd.DataFrame (encoder.fit_transform(train_data[['label']]))\n",
    "\n",
    "# encoded_labels .columns = encoder.get_feature_names(['label'])\n",
    "\n",
    "# train_data= pd.concat([train_data, encoded_labels ], axis=1)\n",
    "\n",
    "import pandas as pd\n",
    "\n",
    "# Define the list of categories for your Label_Sentiment variable\n",
    "categories = ['happy', 'angry', 'disgust', 'fear', 'sad', 'surprise', 'other']\n",
    "\n",
    "# Perform one-hot encoding using get_dummies() function\n",
    "encoded_labels = pd.get_dummies(train_data['Label_Sentiment'], columns=categories, prefix='Label_Sentiment')\n",
    "\n",
    "# Concatenate the encoded labels with your original train_data DataFrame\n",
    "train_data = pd.concat([train_data, encoded_labels], axis=1)"
   ]
  },
  {
   "cell_type": "code",
   "execution_count": 21,
   "metadata": {
    "colab": {
     "base_uri": "https://localhost:8080/"
    },
    "id": "OmdmEo9033SX",
    "outputId": "bcfa9d0e-f34f-4e7d-fabf-7099ec2a8d67"
   },
   "outputs": [
    {
     "data": {
      "text/plain": [
       "Index(['image_name', 'Captions', 'Label_Sentiment', 'Label', 'enc_label',\n",
       "       'Label_Sentiment_angry', 'Label_Sentiment_disgust',\n",
       "       'Label_Sentiment_fear', 'Label_Sentiment_happy',\n",
       "       'Label_Sentiment_other', 'Label_Sentiment_sad',\n",
       "       'Label_Sentiment_surprise'],\n",
       "      dtype='object')"
      ]
     },
     "execution_count": 21,
     "metadata": {},
     "output_type": "execute_result"
    }
   ],
   "source": [
    "train_data.columns"
   ]
  },
  {
   "cell_type": "code",
   "execution_count": 22,
   "metadata": {
    "colab": {
     "base_uri": "https://localhost:8080/",
     "height": 1000
    },
    "id": "alEhfx5H3-tX",
    "outputId": "a241d0dd-db06-40da-dda6-f0f2dbb0a4e9"
   },
   "outputs": [
    {
     "data": {
      "text/html": [
       "\n",
       "  <div id=\"df-2bc30b41-83ec-4d80-8d86-5982db6acfb0\">\n",
       "    <div class=\"colab-df-container\">\n",
       "      <div>\n",
       "<style scoped>\n",
       "    .dataframe tbody tr th:only-of-type {\n",
       "        vertical-align: middle;\n",
       "    }\n",
       "\n",
       "    .dataframe tbody tr th {\n",
       "        vertical-align: top;\n",
       "    }\n",
       "\n",
       "    .dataframe thead th {\n",
       "        text-align: right;\n",
       "    }\n",
       "</style>\n",
       "<table border=\"1\" class=\"dataframe\">\n",
       "  <thead>\n",
       "    <tr style=\"text-align: right;\">\n",
       "      <th></th>\n",
       "      <th>image_name</th>\n",
       "      <th>Captions</th>\n",
       "      <th>Label_Sentiment</th>\n",
       "      <th>Label</th>\n",
       "      <th>enc_label</th>\n",
       "      <th>angry</th>\n",
       "      <th>disgust</th>\n",
       "      <th>fear</th>\n",
       "      <th>happy</th>\n",
       "      <th>other</th>\n",
       "      <th>sad</th>\n",
       "      <th>surprise</th>\n",
       "    </tr>\n",
       "  </thead>\n",
       "  <tbody>\n",
       "    <tr>\n",
       "      <th>0</th>\n",
       "      <td>205.jpg</td>\n",
       "      <td>নির্বোধ দেখার এবং আপনি যে যত্নশীল তা না করার ক...</td>\n",
       "      <td>other</td>\n",
       "      <td>6</td>\n",
       "      <td>6</td>\n",
       "      <td>0</td>\n",
       "      <td>0</td>\n",
       "      <td>0</td>\n",
       "      <td>0</td>\n",
       "      <td>1</td>\n",
       "      <td>0</td>\n",
       "      <td>0</td>\n",
       "    </tr>\n",
       "    <tr>\n",
       "      <th>1</th>\n",
       "      <td>209.jpg</td>\n",
       "      <td>একটি বোর্ডার আর্ম স্কেটার একটি আমন্ত্রণ উপার্জ...</td>\n",
       "      <td>other</td>\n",
       "      <td>6</td>\n",
       "      <td>6</td>\n",
       "      <td>0</td>\n",
       "      <td>0</td>\n",
       "      <td>0</td>\n",
       "      <td>0</td>\n",
       "      <td>1</td>\n",
       "      <td>0</td>\n",
       "      <td>0</td>\n",
       "    </tr>\n",
       "    <tr>\n",
       "      <th>2</th>\n",
       "      <td>210.jpg</td>\n",
       "      <td>যদি শরীর দুর্বল হয় তবে মন শক্তিশালী হবে না।</td>\n",
       "      <td>other</td>\n",
       "      <td>6</td>\n",
       "      <td>6</td>\n",
       "      <td>0</td>\n",
       "      <td>0</td>\n",
       "      <td>0</td>\n",
       "      <td>0</td>\n",
       "      <td>1</td>\n",
       "      <td>0</td>\n",
       "      <td>0</td>\n",
       "    </tr>\n",
       "    <tr>\n",
       "      <th>3</th>\n",
       "      <td>215.jpg</td>\n",
       "      <td>একজন ধার্মিক ব্যক্তির কার্যকর উত্সাহ প্রার্থনা...</td>\n",
       "      <td>other</td>\n",
       "      <td>6</td>\n",
       "      <td>6</td>\n",
       "      <td>0</td>\n",
       "      <td>0</td>\n",
       "      <td>0</td>\n",
       "      <td>0</td>\n",
       "      <td>1</td>\n",
       "      <td>0</td>\n",
       "      <td>0</td>\n",
       "    </tr>\n",
       "    <tr>\n",
       "      <th>4</th>\n",
       "      <td>222.jpg</td>\n",
       "      <td>অসমাপ্ত ?</td>\n",
       "      <td>other</td>\n",
       "      <td>6</td>\n",
       "      <td>6</td>\n",
       "      <td>0</td>\n",
       "      <td>0</td>\n",
       "      <td>0</td>\n",
       "      <td>0</td>\n",
       "      <td>1</td>\n",
       "      <td>0</td>\n",
       "      <td>0</td>\n",
       "    </tr>\n",
       "    <tr>\n",
       "      <th>...</th>\n",
       "      <td>...</td>\n",
       "      <td>...</td>\n",
       "      <td>...</td>\n",
       "      <td>...</td>\n",
       "      <td>...</td>\n",
       "      <td>...</td>\n",
       "      <td>...</td>\n",
       "      <td>...</td>\n",
       "      <td>...</td>\n",
       "      <td>...</td>\n",
       "      <td>...</td>\n",
       "      <td>...</td>\n",
       "    </tr>\n",
       "    <tr>\n",
       "      <th>3828</th>\n",
       "      <td>4676.jpg</td>\n",
       "      <td>অভিনন্দন ২ প্রথম আইবিএম প্যাথওয়েসটেক পণ্ডিতরা...</td>\n",
       "      <td>happy</td>\n",
       "      <td>0</td>\n",
       "      <td>0</td>\n",
       "      <td>0</td>\n",
       "      <td>0</td>\n",
       "      <td>0</td>\n",
       "      <td>1</td>\n",
       "      <td>0</td>\n",
       "      <td>0</td>\n",
       "      <td>0</td>\n",
       "    </tr>\n",
       "    <tr>\n",
       "      <th>3829</th>\n",
       "      <td>4677.jpg</td>\n",
       "      <td>সবেমাত্র আমার চুলের সাথে রুটোশায়ার স্ক্যাল্প ...</td>\n",
       "      <td>happy</td>\n",
       "      <td>0</td>\n",
       "      <td>0</td>\n",
       "      <td>0</td>\n",
       "      <td>0</td>\n",
       "      <td>0</td>\n",
       "      <td>1</td>\n",
       "      <td>0</td>\n",
       "      <td>0</td>\n",
       "      <td>0</td>\n",
       "    </tr>\n",
       "    <tr>\n",
       "      <th>3830</th>\n",
       "      <td>4678.jpg</td>\n",
       "      <td>সবেমাত্র এই ওক ড্রেসারটি শেষ করেছেন।</td>\n",
       "      <td>happy</td>\n",
       "      <td>0</td>\n",
       "      <td>0</td>\n",
       "      <td>0</td>\n",
       "      <td>0</td>\n",
       "      <td>0</td>\n",
       "      <td>1</td>\n",
       "      <td>0</td>\n",
       "      <td>0</td>\n",
       "      <td>0</td>\n",
       "    </tr>\n",
       "    <tr>\n",
       "      <th>3831</th>\n",
       "      <td>4682.jpg</td>\n",
       "      <td>সুগারম্যান রজার্স মামলা-মোকদ্দমা কেমব্রিজে গত ...</td>\n",
       "      <td>happy</td>\n",
       "      <td>0</td>\n",
       "      <td>0</td>\n",
       "      <td>0</td>\n",
       "      <td>0</td>\n",
       "      <td>0</td>\n",
       "      <td>1</td>\n",
       "      <td>0</td>\n",
       "      <td>0</td>\n",
       "      <td>0</td>\n",
       "    </tr>\n",
       "    <tr>\n",
       "      <th>3832</th>\n",
       "      <td>4704.jpg</td>\n",
       "      <td>সন্ত্রাসীদের আতঙ্কিত করা উচিত। কী সেই নাজি প্র...</td>\n",
       "      <td>happy</td>\n",
       "      <td>0</td>\n",
       "      <td>0</td>\n",
       "      <td>0</td>\n",
       "      <td>0</td>\n",
       "      <td>0</td>\n",
       "      <td>1</td>\n",
       "      <td>0</td>\n",
       "      <td>0</td>\n",
       "      <td>0</td>\n",
       "    </tr>\n",
       "  </tbody>\n",
       "</table>\n",
       "<p>3833 rows × 12 columns</p>\n",
       "</div>\n",
       "      <button class=\"colab-df-convert\" onclick=\"convertToInteractive('df-2bc30b41-83ec-4d80-8d86-5982db6acfb0')\"\n",
       "              title=\"Convert this dataframe to an interactive table.\"\n",
       "              style=\"display:none;\">\n",
       "        \n",
       "  <svg xmlns=\"http://www.w3.org/2000/svg\" height=\"24px\"viewBox=\"0 0 24 24\"\n",
       "       width=\"24px\">\n",
       "    <path d=\"M0 0h24v24H0V0z\" fill=\"none\"/>\n",
       "    <path d=\"M18.56 5.44l.94 2.06.94-2.06 2.06-.94-2.06-.94-.94-2.06-.94 2.06-2.06.94zm-11 1L8.5 8.5l.94-2.06 2.06-.94-2.06-.94L8.5 2.5l-.94 2.06-2.06.94zm10 10l.94 2.06.94-2.06 2.06-.94-2.06-.94-.94-2.06-.94 2.06-2.06.94z\"/><path d=\"M17.41 7.96l-1.37-1.37c-.4-.4-.92-.59-1.43-.59-.52 0-1.04.2-1.43.59L10.3 9.45l-7.72 7.72c-.78.78-.78 2.05 0 2.83L4 21.41c.39.39.9.59 1.41.59.51 0 1.02-.2 1.41-.59l7.78-7.78 2.81-2.81c.8-.78.8-2.07 0-2.86zM5.41 20L4 18.59l7.72-7.72 1.47 1.35L5.41 20z\"/>\n",
       "  </svg>\n",
       "      </button>\n",
       "      \n",
       "  <style>\n",
       "    .colab-df-container {\n",
       "      display:flex;\n",
       "      flex-wrap:wrap;\n",
       "      gap: 12px;\n",
       "    }\n",
       "\n",
       "    .colab-df-convert {\n",
       "      background-color: #E8F0FE;\n",
       "      border: none;\n",
       "      border-radius: 50%;\n",
       "      cursor: pointer;\n",
       "      display: none;\n",
       "      fill: #1967D2;\n",
       "      height: 32px;\n",
       "      padding: 0 0 0 0;\n",
       "      width: 32px;\n",
       "    }\n",
       "\n",
       "    .colab-df-convert:hover {\n",
       "      background-color: #E2EBFA;\n",
       "      box-shadow: 0px 1px 2px rgba(60, 64, 67, 0.3), 0px 1px 3px 1px rgba(60, 64, 67, 0.15);\n",
       "      fill: #174EA6;\n",
       "    }\n",
       "\n",
       "    [theme=dark] .colab-df-convert {\n",
       "      background-color: #3B4455;\n",
       "      fill: #D2E3FC;\n",
       "    }\n",
       "\n",
       "    [theme=dark] .colab-df-convert:hover {\n",
       "      background-color: #434B5C;\n",
       "      box-shadow: 0px 1px 3px 1px rgba(0, 0, 0, 0.15);\n",
       "      filter: drop-shadow(0px 1px 2px rgba(0, 0, 0, 0.3));\n",
       "      fill: #FFFFFF;\n",
       "    }\n",
       "  </style>\n",
       "\n",
       "      <script>\n",
       "        const buttonEl =\n",
       "          document.querySelector('#df-2bc30b41-83ec-4d80-8d86-5982db6acfb0 button.colab-df-convert');\n",
       "        buttonEl.style.display =\n",
       "          google.colab.kernel.accessAllowed ? 'block' : 'none';\n",
       "\n",
       "        async function convertToInteractive(key) {\n",
       "          const element = document.querySelector('#df-2bc30b41-83ec-4d80-8d86-5982db6acfb0');\n",
       "          const dataTable =\n",
       "            await google.colab.kernel.invokeFunction('convertToInteractive',\n",
       "                                                     [key], {});\n",
       "          if (!dataTable) return;\n",
       "\n",
       "          const docLinkHtml = 'Like what you see? Visit the ' +\n",
       "            '<a target=\"_blank\" href=https://colab.research.google.com/notebooks/data_table.ipynb>data table notebook</a>'\n",
       "            + ' to learn more about interactive tables.';\n",
       "          element.innerHTML = '';\n",
       "          dataTable['output_type'] = 'display_data';\n",
       "          await google.colab.output.renderOutput(dataTable, element);\n",
       "          const docLink = document.createElement('div');\n",
       "          docLink.innerHTML = docLinkHtml;\n",
       "          element.appendChild(docLink);\n",
       "        }\n",
       "      </script>\n",
       "    </div>\n",
       "  </div>\n",
       "  "
      ],
      "text/plain": [
       "     image_name                                           Captions  \\\n",
       "0       205.jpg  নির্বোধ দেখার এবং আপনি যে যত্নশীল তা না করার ক...   \n",
       "1       209.jpg  একটি বোর্ডার আর্ম স্কেটার একটি আমন্ত্রণ উপার্জ...   \n",
       "2       210.jpg       যদি শরীর দুর্বল হয় তবে মন শক্তিশালী হবে না।   \n",
       "3       215.jpg  একজন ধার্মিক ব্যক্তির কার্যকর উত্সাহ প্রার্থনা...   \n",
       "4       222.jpg                                          অসমাপ্ত ?   \n",
       "...         ...                                                ...   \n",
       "3828   4676.jpg  অভিনন্দন ২ প্রথম আইবিএম প্যাথওয়েসটেক পণ্ডিতরা...   \n",
       "3829   4677.jpg  সবেমাত্র আমার চুলের সাথে রুটোশায়ার স্ক্যাল্প ...   \n",
       "3830   4678.jpg               সবেমাত্র এই ওক ড্রেসারটি শেষ করেছেন।   \n",
       "3831   4682.jpg  সুগারম্যান রজার্স মামলা-মোকদ্দমা কেমব্রিজে গত ...   \n",
       "3832   4704.jpg  সন্ত্রাসীদের আতঙ্কিত করা উচিত। কী সেই নাজি প্র...   \n",
       "\n",
       "     Label_Sentiment  Label  enc_label  angry  disgust  fear  happy  other  \\\n",
       "0              other      6          6      0        0     0      0      1   \n",
       "1              other      6          6      0        0     0      0      1   \n",
       "2              other      6          6      0        0     0      0      1   \n",
       "3              other      6          6      0        0     0      0      1   \n",
       "4              other      6          6      0        0     0      0      1   \n",
       "...              ...    ...        ...    ...      ...   ...    ...    ...   \n",
       "3828           happy      0          0      0        0     0      1      0   \n",
       "3829           happy      0          0      0        0     0      1      0   \n",
       "3830           happy      0          0      0        0     0      1      0   \n",
       "3831           happy      0          0      0        0     0      1      0   \n",
       "3832           happy      0          0      0        0     0      1      0   \n",
       "\n",
       "      sad  surprise  \n",
       "0       0         0  \n",
       "1       0         0  \n",
       "2       0         0  \n",
       "3       0         0  \n",
       "4       0         0  \n",
       "...   ...       ...  \n",
       "3828    0         0  \n",
       "3829    0         0  \n",
       "3830    0         0  \n",
       "3831    0         0  \n",
       "3832    0         0  \n",
       "\n",
       "[3833 rows x 12 columns]"
      ]
     },
     "execution_count": 22,
     "metadata": {},
     "output_type": "execute_result"
    }
   ],
   "source": [
    "# train_data = train_data.rename(columns={'label_damaged_infrastructure':'damaged_infrastructure', 'label_damaged_nature':'damaged_nature', \n",
    "#                                         'label_fires':'fires','label_flood':'flood',\n",
    "#                                         'label_human_damage':'human_damage', 'label_non_damage':'non_damage'})\n",
    "\n",
    "\n",
    "train_data = train_data.rename(columns={'Label_Sentiment_happy':'happy', \n",
    "                                        'Label_Sentiment_angry':'angry',\n",
    "                                        'Label_Sentiment_disgust':'disgust',\n",
    "                                        'Label_Sentiment_fear':'fear',\n",
    "                                        'Label_Sentiment_sad':'sad',\n",
    "                                        'Label_Sentiment_surprise':'surprise',\n",
    "                                        'Label_Sentiment_other':'other'})\n",
    "     \n",
    "\n",
    "train_data"
   ]
  },
  {
   "cell_type": "code",
   "execution_count": null,
   "metadata": {
    "colab": {
     "base_uri": "https://localhost:8080/"
    },
    "id": "6-XCXOsb-zxc",
    "outputId": "106d6824-d689-4484-cc8e-af0490bf92a6"
   },
   "outputs": [
    {
     "data": {
      "text/plain": [
       "Index(['image_name', 'Captions', 'Label_Sentiment', 'Label', 'enc_label',\n",
       "       'angry', 'disgust', 'fear', 'happy', 'other', 'sad', 'surprise'],\n",
       "      dtype='object')"
      ]
     },
     "execution_count": 35,
     "metadata": {},
     "output_type": "execute_result"
    }
   ],
   "source": [
    "train_data.columns"
   ]
  },
  {
   "cell_type": "code",
   "execution_count": null,
   "metadata": {
    "id": "48JRGZ4U6Kvv"
   },
   "outputs": [],
   "source": [
    "train_data.Captions = train_data.Captions.astype(str)"
   ]
  },
  {
   "cell_type": "markdown",
   "metadata": {
    "id": "22E5_M_h4fo9"
   },
   "source": [
    "## Text Cleaning"
   ]
  },
  {
   "cell_type": "code",
   "execution_count": 23,
   "metadata": {
    "colab": {
     "base_uri": "https://localhost:8080/"
    },
    "id": "yPXMlxVxGhBZ",
    "outputId": "27a7fdcf-00e4-4636-d2d5-02e02bcd6424"
   },
   "outputs": [
    {
     "name": "stdout",
     "output_type": "stream",
     "text": [
      "ANSI_X3.4-1968\n"
     ]
    }
   ],
   "source": [
    "\n",
    "import locale\n",
    "print(locale.getpreferredencoding())\n",
    "\n",
    "import locale\n",
    "def getpreferredencoding(do_setlocale = True):\n",
    "    return \"UTF-8\"\n",
    "locale.getpreferredencoding = getpreferredencoding"
   ]
  },
  {
   "cell_type": "code",
   "execution_count": 24,
   "metadata": {
    "colab": {
     "base_uri": "https://localhost:8080/"
    },
    "id": "rlKxqd159uMF",
    "outputId": "20fba99e-7947-425b-bc12-fa552874bb99"
   },
   "outputs": [
    {
     "name": "stdout",
     "output_type": "stream",
     "text": [
      "Looking in indexes: https://pypi.org/simple, https://us-python.pkg.dev/colab-wheels/public/simple/\n",
      "Collecting emoji\n",
      "  Downloading emoji-2.5.0.tar.gz (355 kB)\n",
      "\u001b[2K     \u001b[90m━━━━━━━━━━━━━━━━━━━━━━━━━━━━━━━━━━━━━━\u001b[0m \u001b[32m355.8/355.8 kB\u001b[0m \u001b[31m20.0 MB/s\u001b[0m eta \u001b[36m0:00:00\u001b[0m\n",
      "\u001b[?25h  Preparing metadata (setup.py) ... \u001b[?25l\u001b[?25hdone\n",
      "Building wheels for collected packages: emoji\n",
      "  Building wheel for emoji (setup.py) ... \u001b[?25l\u001b[?25hdone\n",
      "  Created wheel for emoji: filename=emoji-2.5.0-py2.py3-none-any.whl size=351211 sha256=43eccdbde0b8ef300f62467d0d7782cad9a87d0f13b84268eb9050d99468c04a\n",
      "  Stored in directory: /root/.cache/pip/wheels/2a/0c/2c/07b5af72b120503fe24590691d24c462a25e5e530db8700a96\n",
      "Successfully built emoji\n",
      "Installing collected packages: emoji\n",
      "Successfully installed emoji-2.5.0\n"
     ]
    }
   ],
   "source": [
    "!pip install emoji"
   ]
  },
  {
   "cell_type": "code",
   "execution_count": null,
   "metadata": {
    "id": "kiBYCn8ToWlC"
   },
   "outputs": [],
   "source": [
    "# stp_path = '/content/drive/MyDrive/TaheriThesis/Dataset/'\n",
    "# stp = open(stp_path+'bangla_stopwords.txt','r',encoding='utf-8').read().split()"
   ]
  },
  {
   "cell_type": "code",
   "execution_count": 25,
   "metadata": {
    "id": "NN2wdrH74nD7"
   },
   "outputs": [],
   "source": [
    "'''\n",
    "Text Cleaning\n",
    "'''\n",
    "import emoji\n",
    "import re\n",
    "\n",
    "def remove_emojis(text):\n",
    "    emoji_pattern = re.compile(\"[\"\n",
    "        u\"\\U0001F600-\\U0001F64F\"  # emoticons\n",
    "        u\"\\U0001F300-\\U0001F5FF\"  # symbols & pictographs\n",
    "        u\"\\U0001F680-\\U0001F6FF\"  # transport & map symbols\n",
    "        u\"\\U0001F1E0-\\U0001F1FF\"  # flags (iOS)\n",
    "                           \"]+\", flags=re.UNICODE)\n",
    "    return emoji_pattern.sub(r'', text)\n",
    "\n",
    "\n",
    "def text_cleaning(row):\n",
    "   #to remove HTML tags\n",
    "  text = BeautifulSoup(row, 'html.parser').get_text()\n",
    "  d = re.sub(r'(https|http)?:\\/\\/(\\w|\\.|\\/|\\?|\\=|\\&|\\%)*\\b', '', text, flags=re.MULTILINE) #This line is for removing url\n",
    "  post = d.replace('\\n', '')\n",
    "  post = d.replace('\\r\\n', '')\n",
    "  post = post.replace('—', ' ') \n",
    "  post = post.replace('।', ' ')\n",
    "  text = ''.join([c for c in post if c not in string.punctuation])\n",
    "  text= remove_emojis(text)\n",
    "  # to remove special characters\n",
    "  pattern = r'^\\s*|\\s\\s*'\n",
    "  text = re.sub(pattern, ' ', text).strip()\n",
    "  # convert into lower case\n",
    "  text = text.lower() \n",
    "  # # Stopword \n",
    "  # result = text.split()\n",
    "  # text = [word.strip() for word in result if word not in stp ]\n",
    "  # text =\" \".join(text)\n",
    "  \n",
    "  return text"
   ]
  },
  {
   "cell_type": "code",
   "execution_count": 26,
   "metadata": {
    "colab": {
     "base_uri": "https://localhost:8080/"
    },
    "id": "s_xYDRDq42TU",
    "outputId": "dba4d1cb-2ac4-4756-e413-3a7b09cc9d68"
   },
   "outputs": [
    {
     "name": "stdout",
     "output_type": "stream",
     "text": [
      "Data samples after cleaning:\n",
      "\n",
      "Original Data:===\n",
      " নির্বোধ দেখার এবং আপনি যে যত্নশীল তা না করার ক্ষমতা আছে \n",
      "Cleaned Data:===\n",
      " নির্বোধ দেখার এবং আপনি যে যত্নশীল তা না করার ক্ষমতা আছে\n",
      "Original Data:===\n",
      " একটি বোর্ডার আর্ম স্কেটার একটি আমন্ত্রণ উপার্জন করবে? \n",
      "Cleaned Data:===\n",
      " একটি বোর্ডার আর্ম স্কেটার একটি আমন্ত্রণ উপার্জন করবে\n",
      "Original Data:===\n",
      " যদি শরীর দুর্বল হয় তবে মন শক্তিশালী হবে না। \n",
      "Cleaned Data:===\n",
      " যদি শরীর দুর্বল হয় তবে মন শক্তিশালী হবে না\n",
      "Original Data:===\n",
      " একজন ধার্মিক ব্যক্তির কার্যকর উত্সাহ প্রার্থনা অনেকটা উপকার পায়। \n",
      "Cleaned Data:===\n",
      " একজন ধার্মিক ব্যক্তির কার্যকর উত্সাহ প্রার্থনা অনেকটা উপকার পায়\n",
      "Original Data:===\n",
      " অসমাপ্ত ? \n",
      "Cleaned Data:===\n",
      " অসমাপ্ত\n",
      "Original Data:===\n",
      " আপনাকে পুরো হতে নিখুঁত হতে হবে না! \n",
      "Cleaned Data:===\n",
      " আপনাকে পুরো হতে নিখুঁত হতে হবে না\n",
      "Original Data:===\n",
      " আজ আমাদের উঠোনে একটি ঠান্ডা, ক্লান্ত, ক্ষুধার্ত, আতঙ্কিত কালো বিড়াল পেয়েছে। সে সেখানে কয়েক দিন ছিল, কেউ তাকে মিস করছে? \n",
      "Cleaned Data:===\n",
      " আজ আমাদের উঠোনে একটি ঠান্ডা ক্লান্ত ক্ষুধার্ত আতঙ্কিত কালো বিড়াল পেয়েছে সে সেখানে কয়েক দিন ছিল কেউ তাকে মিস করছে\n",
      "Original Data:===\n",
      " কৃপণ অবস্থার জন্য টায়ার দুর্দান্ত সেট। \n",
      "Cleaned Data:===\n",
      " কৃপণ অবস্থার জন্য টায়ার দুর্দান্ত সেট\n",
      "Original Data:===\n",
      " চমত্কার তারা ক্যাবলেরো মে মাসে শক্তভাবে আবদ্ধ, ঠাট্টা, হতাশ এবং ধোঁয়াটে ফিরে আসবে \n",
      "Cleaned Data:===\n",
      " চমত্কার তারা ক্যাবলেরো মে মাসে শক্তভাবে আবদ্ধ ঠাট্টা হতাশ এবং ধোঁয়াটে ফিরে আসবে\n",
      "Original Data:===\n",
      " সম্প্রতি আমি একটি দুষ্ট টি-শার্ট পেয়েছি! ? তুমি এটা পছন্দ করো? ? \n",
      "Cleaned Data:===\n",
      " সম্প্রতি আমি একটি দুষ্ট টিশার্ট পেয়েছি তুমি এটা পছন্দ করো\n"
     ]
    }
   ],
   "source": [
    "#Removing punctuations\n",
    "train_data['cleaned'] = train_data['Captions'].apply(text_cleaning)\n",
    "valid_data['cleaned'] = valid_data['Captions'].apply(text_cleaning)\n",
    "test_data['cleaned'] = test_data['Captions'].apply(text_cleaning)\n",
    "\n",
    "\n",
    "## Data samples after cleaning\n",
    "print(\"Data samples after cleaning:\\n\")\n",
    "for i in range(10):\n",
    "  if i in train_data.index:\n",
    "    print(\"Original Data:===\\n\",train_data.Captions[i],\"\\nCleaned Data:===\\n\",train_data.cleaned[i],)"
   ]
  },
  {
   "cell_type": "markdown",
   "metadata": {
    "id": "Gyyw4VqlFXS_"
   },
   "source": [
    "##Evaluation Metrics"
   ]
  },
  {
   "cell_type": "code",
   "execution_count": 27,
   "metadata": {
    "id": "1rgUkMnlFbBU"
   },
   "outputs": [],
   "source": [
    "'''Evaluation Parameters'''\n",
    "\n",
    "def print_metrices(true,pred):\n",
    "    print(confusion_matrix(true,pred))\n",
    "    print(classification_report(true,pred))\n",
    "    print(\"Accuracy : \",accuracy_score(true,pred))\n",
    "    print(\"Precison : \",precision_score(true,pred, average = 'weighted'))\n",
    "    print(\"Recall : \",recall_score(true,pred,  average = 'weighted'))\n",
    "    print(\"F1 : \",f1_score(true,pred,  average = 'weighted'))"
   ]
  },
  {
   "cell_type": "markdown",
   "metadata": {
    "id": "i27YJBb9V_jk"
   },
   "source": [
    "## Confusion Matrix"
   ]
  },
  {
   "cell_type": "code",
   "execution_count": 28,
   "metadata": {
    "id": "PwSSTl3kWB5T"
   },
   "outputs": [],
   "source": [
    "## Confusion matrix function\n",
    "def con_mat(true,pred,class_names,model_name):\n",
    "  cm = confusion_matrix(true,pred)\n",
    "  #sns.set()\n",
    "  plt.figure(figsize =(4, 3))\n",
    "  ax = plt.subplot()\n",
    " # 'Greys', 'Purples', 'Blues', 'Greens', 'Oranges', 'Reds','YlOrBr', 'YlOrRd', 'OrRd', 'PuRd', 'RdPu', 'BuPu',\n",
    "            #'GnBu', 'PuBu', 'YlGnBu', 'PuBuGn', 'BuGn', 'YlGn'\n",
    "  sns.heatmap(cm, annot=True,fmt=\"d\",cmap='YlOrRd', ax = ax,annot_kws={\"size\": 10},) #annot=True to annotate cells\n",
    "  # labels, title and ticks\n",
    "  ax.set_xlabel('Predicted labels',fontsize=10)\n",
    "  ax.set_ylabel('True labels',fontsize=10) \n",
    "  #ax.set_title(f'Confusion Matrix of {model_name}',fontsize=10) \n",
    "  ax.xaxis.set_ticklabels(class_names, rotation=45); ax.yaxis.set_ticklabels(class_names, rotation=45);\n",
    "  ax.xaxis.tick_top()\n",
    " # plt.savefig(folder_path + f\"{model_name}.png\",bbox_inches='tight',dpi =500)"
   ]
  },
  {
   "cell_type": "code",
   "execution_count": null,
   "metadata": {
    "colab": {
     "base_uri": "https://localhost:8080/"
    },
    "id": "Cnsg6drRoiLt",
    "outputId": "97b60703-2791-4df7-8879-492d2d2090f6"
   },
   "outputs": [
    {
     "data": {
      "text/plain": [
       "{0: 0.6359714617554338,\n",
       " 1: 1.147948487571129,\n",
       " 2: 1.5734811165845648,\n",
       " 3: 1.3689285714285715,\n",
       " 4: 0.881757533931447,\n",
       " 5: 1.3355400696864113,\n",
       " 6: 0.7647645650438947}"
      ]
     },
     "execution_count": 7,
     "metadata": {},
     "output_type": "execute_result"
    }
   ],
   "source": [
    "from sklearn.utils import compute_class_weight\n",
    "class_weights = compute_class_weight(\n",
    "                                        class_weight = \"balanced\",\n",
    "                                        classes = np.unique(train_data['enc_label']),\n",
    "                                        y = train_data['enc_label']                                                   \n",
    "                                    )\n",
    "class_weights = dict(zip(np.unique(train_data['enc_label']), class_weights))\n",
    "class_weights"
   ]
  },
  {
   "cell_type": "markdown",
   "metadata": {
    "id": "ZaGHsnStGRZP"
   },
   "source": [
    "#Textual Models"
   ]
  },
  {
   "cell_type": "markdown",
   "metadata": {
    "id": "e7UmwTi-GU7r"
   },
   "source": [
    "## Tokenizer"
   ]
  },
  {
   "cell_type": "code",
   "execution_count": 29,
   "metadata": {
    "colab": {
     "base_uri": "https://localhost:8080/"
    },
    "id": "GEm2Xsd6Fddt",
    "outputId": "ff552eb6-0bf9-47aa-92b2-ae441fc0c98d"
   },
   "outputs": [
    {
     "name": "stdout",
     "output_type": "stream",
     "text": [
      "\u001b[1m\n",
      "\t\t\t====== Encoded Sequences ======\u001b[0m \n",
      "\n",
      "আজ সকালে একটি অন্ধকার লন্ডন কলনিতে আর্সেনালের প্রথম দলের ট্রেন আশা করি আমিরাতরা আগামীকাল হতাশ হবে না \n",
      " [31, 280, 6, 382, 1117, 4136, 4137, 152, 806, 807, 206, 18, 4138, 534, 72, 38, 5]\n",
      "\u001b[1m\n",
      "\t\t\t====== Paded Sequences ======\n",
      "\u001b[0m \n",
      " [  31  280    6  382 1117 4136 4137  152  806  807  206   18 4138  534\n",
      "   72   38    5    0    0    0    0    0    0    0    0    0    0    0\n",
      "    0    0    0    0    0    0    0    0    0    0    0    0    0    0\n",
      "    0    0    0    0    0    0    0    0    0    0    0    0    0    0\n",
      "    0    0    0    0    0    0    0    0    0    0    0    0    0    0\n",
      "    0    0    0    0    0    0    0    0    0    0    0    0    0    0\n",
      "    0    0    0    0    0    0    0    0    0    0    0    0    0    0\n",
      "    0    0    0    0    0    0    0    0    0    0    0    0    0    0\n",
      "    0    0    0    0    0    0    0    0    0    0    0    0    0    0\n",
      "    0    0    0    0    0    0    0    0    0    0    0    0    0    0\n",
      "    0    0    0    0    0    0    0    0    0    0    0    0    0    0\n",
      "    0    0    0    0    0    0    0    0    0    0    0    0    0    0\n",
      "    0    0    0    0    0    0    0    0    0    0    0    0]\n",
      "Number of Train Sequences : (3833, 180)\n",
      "Number of Train Sequences : (414, 180)\n",
      "Number of Test Sequences : (414, 180)\n",
      "Vocabulary Size:  11352\n"
     ]
    }
   ],
   "source": [
    "''' Tokenizer '''\n",
    "\n",
    "def text_tokenizer(train_data,valid_data,test_data,vocabulary,max_len,sample_text_num):\n",
    "  \n",
    "  tokenizer = Tokenizer(num_words = vocabulary ,filters='!\"#$%&()*+,-./:;<=>?@[\\\\]^_`{|}~\\t\\n-', \n",
    "                        split=' ', char_level=False, oov_token='<oov>', document_count=0)\n",
    "  tokenizer.fit_on_texts(train_data['cleaned'])  \n",
    "  word_index = tokenizer.word_index\n",
    "  vocab_size = len(word_index)+1\n",
    "  \n",
    "  # Training Sequences\n",
    "  train_sequences = tokenizer.texts_to_sequences(train_data['cleaned'])\n",
    "  train_pad_sequences =  keras.preprocessing.sequence.pad_sequences(train_sequences, value=0.0, padding='post', maxlen= max_len)\n",
    "\n",
    "\n",
    "  valid_sequences = tokenizer.texts_to_sequences(valid_data['cleaned'])\n",
    "  valid_pad_sequences =  keras.preprocessing.sequence.pad_sequences(valid_sequences, value=0.0, padding='post', maxlen= max_len)\n",
    "  \n",
    "  # Test Sequences\n",
    "  test_sequences = tokenizer.texts_to_sequences(test_data['cleaned'])\n",
    "  test_pad_sequences =  keras.preprocessing.sequence.pad_sequences(test_sequences, value=0.0, padding='post', maxlen= max_len)\n",
    " \n",
    "\n",
    "  print(color.BOLD+\"\\n\\t\\t\\t====== Encoded Sequences ======\"+color.END,\"\\n\")  \n",
    "  print(train_data.cleaned[sample_text_num],\"\\n\",train_sequences[sample_text_num])\n",
    "  print(color.BOLD+\"\\n\\t\\t\\t====== Paded Sequences ======\\n\"+color.END,\"\\n\",train_pad_sequences[sample_text_num]) \n",
    "\n",
    "  return train_pad_sequences, valid_pad_sequences, test_pad_sequences, vocab_size, word_index\n",
    "\n",
    "\n",
    "vocabulary = 50000 \n",
    "max_len = 180 \n",
    "sample_text_num = 10\n",
    "\n",
    "## Call Tokenizer\n",
    "train_pad_sequences,valid_pad_sequences, test_pad_sequences, vocab_size, word_index =  text_tokenizer(train_data,valid_data,test_data,\n",
    "                                                                      vocabulary,max_len,sample_text_num) \n",
    "\n",
    "print(\"Number of Train Sequences :\" ,train_pad_sequences.shape)\n",
    "print(\"Number of Train Sequences :\" ,valid_pad_sequences.shape)\n",
    "print(\"Number of Test Sequences :\" ,test_pad_sequences.shape)\n",
    "print(\"Vocabulary Size: \",vocab_size)"
   ]
  },
  {
   "cell_type": "code",
   "execution_count": 30,
   "metadata": {
    "id": "_TVt_7gWPqS-"
   },
   "outputs": [],
   "source": [
    "## Convert labels into array\n",
    "y_train = np.array(train_data['enc_label']).reshape(-1,1)\n",
    "y_valid = np.array(valid_data['enc_label']).reshape(-1,1)\n",
    "y_test = np.array(test_data['enc_label']).reshape(-1,1)"
   ]
  },
  {
   "cell_type": "markdown",
   "metadata": {
    "id": "pDf4t5nANV1N"
   },
   "source": [
    "## Callbacks"
   ]
  },
  {
   "cell_type": "code",
   "execution_count": null,
   "metadata": {
    "id": "3UdewIycNmIf"
   },
   "outputs": [],
   "source": [
    "''' Callbacks'''\n",
    "keras.backend.clear_session()\n",
    "def callbacks_check(model_name):\n",
    "  num_classes = 7\n",
    "  accuracy_threshold = 0.99\n",
    "\n",
    "  class myCallback(keras.callbacks.Callback):\n",
    "    def on_epoch_end(self, epoch, logs={}):\n",
    "        if(logs.get('accuracy')>accuracy_threshold):\n",
    "          print(\"\\nReached %2.2f%% accuracy so we will stop trianing\" % (accuracy_threshold*100))\n",
    "          self.model.stop_training = True\n",
    "\n",
    "  acc_callback = myCallback()\n",
    "  # Saved the Best Model\n",
    "  filepath = models_path+'Models_3/'+f\"{model_name}.h5\"\n",
    "  checkpoint = keras.callbacks.ModelCheckpoint(filepath, monitor='val_accuracy', verbose=2, save_best_only=True, \n",
    "                                             save_weights_only=False, mode='max')\n",
    "  # callback list\n",
    "  callback_list = [acc_callback, checkpoint] \n",
    "\n",
    "  return callback_list"
   ]
  },
  {
   "cell_type": "markdown",
   "metadata": {
    "id": "bdjfy7SsTIan"
   },
   "source": [
    "## Textual Models (Keras Embeddings)"
   ]
  },
  {
   "cell_type": "code",
   "execution_count": null,
   "metadata": {
    "id": "9uKQhQWU9EzZ"
   },
   "outputs": [],
   "source": [
    "def create_keras_embeddings_models(max_len):\n",
    "\n",
    "  ###### BiLSTM Model #######\n",
    "  bi_text_inputs = Input(shape=(max_len,))\n",
    "  bi_embedding_layer = Embedding(vocab_size, 100)(bi_text_inputs)\n",
    "  LSTM_Layer_1 = Bidirectional(LSTM(128,dropout=0.01))(bi_embedding_layer)\n",
    "  bi_dense_layer_1 = Dense(7, activation='softmax')(LSTM_Layer_1)\n",
    "  bilstm_model = Model(inputs=bi_text_inputs, outputs=bi_dense_layer_1)\n",
    "\n",
    "  ##### CNN Model  #######\n",
    "  cnn_text_inputs = Input(shape=(max_len,))\n",
    "  cnn_embedding_layer = Embedding(vocab_size, 100)(cnn_text_inputs)\n",
    "  cnn_conv1 = Conv1D(128,2,activation='relu')(cnn_embedding_layer)\n",
    "  cnn_pool1 = MaxPooling1D(2)(cnn_conv1)\n",
    "  cnn_flat = Flatten()(cnn_pool1)\n",
    "  cnn_dense_layer_1 = Dense(7, activation='softmax')(cnn_flat)\n",
    "  cnn_model = Model(inputs=cnn_text_inputs, outputs=cnn_dense_layer_1)\n",
    "\n",
    "\n",
    " \n",
    "\n",
    "  return models"
   ]
  },
  {
   "cell_type": "code",
   "execution_count": null,
   "metadata": {
    "id": "yzaDrX3dlrjH"
   },
   "outputs": [],
   "source": [
    "from tensorflow.keras.utils import to_categorical\n",
    "y_train=to_categorical(train_data['enc_label'])\n",
    "y_valid=to_categorical(valid_data['enc_label'])\n",
    "y_test=to_categorical(test_data['enc_label'])"
   ]
  },
  {
   "cell_type": "code",
   "execution_count": null,
   "metadata": {
    "colab": {
     "base_uri": "https://localhost:8080/"
    },
    "id": "VxoNP4ytlwJg",
    "outputId": "47ce668b-bfbe-46eb-8250-888cacc95f9c"
   },
   "outputs": [
    {
     "data": {
      "text/plain": [
       "array([[0., 0., 0., ..., 0., 0., 1.],\n",
       "       [0., 0., 0., ..., 0., 0., 1.],\n",
       "       [0., 0., 0., ..., 0., 0., 1.],\n",
       "       ...,\n",
       "       [1., 0., 0., ..., 0., 0., 0.],\n",
       "       [1., 0., 0., ..., 0., 0., 0.],\n",
       "       [1., 0., 0., ..., 0., 0., 0.]], dtype=float32)"
      ]
     },
     "execution_count": 74,
     "metadata": {},
     "output_type": "execute_result"
    }
   ],
   "source": [
    "y_train"
   ]
  },
  {
   "cell_type": "markdown",
   "metadata": {
    "id": "JSLsF0v4cZ7d"
   },
   "source": [
    "#Visual Models"
   ]
  },
  {
   "cell_type": "code",
   "execution_count": null,
   "metadata": {
    "id": "gsRonbngccEl"
   },
   "outputs": [],
   "source": [
    "keras.backend.clear_session()\n",
    "\n",
    "def visual_models():\n",
    "\n",
    "  # create the base pre-trained model\n",
    "  vgg = VGG16(weights='imagenet', include_top=False,input_shape=(150, 150, 3))\n",
    "  for layer in vgg.layers:\n",
    "      layer.trainable = True\n",
    "  # add a global spatial average pooling layer\n",
    "  x = vgg.output\n",
    "  pool = GlobalAveragePooling2D()(x)\n",
    "  # let's add a fully-connected layer\n",
    "  #flat = Flatten()(pool)\n",
    "  # and a logistic layer -- let's say we have 200 classes\n",
    "  #hidden1 = Dense(512, activation='relu')(flat)\n",
    "  #dropout = Dropout(0.1)(hidden1)\n",
    "  output = Dense(7, activation='softmax')(pool)\n",
    "  # this is the model we will train\n",
    "  vgg_img_model = Model(inputs=vgg.input, outputs=output)\n",
    "\n",
    "  #### Resnet\n",
    "  resnet = ResNet50(weights='imagenet', include_top=False,input_shape=(150, 150, 3))\n",
    "  #resnet.trainable = False\n",
    "  for layer in resnet.layers[0:-10]:\n",
    "      layer.trainable = False\n",
    "  # add a global spatial average pooling layer\n",
    "  y = resnet.output\n",
    "  pool1 = GlobalAveragePooling2D()(y)\n",
    "  # let's add a fully-connected layer\n",
    "  #flat1 = Flatten()(pool1)\n",
    "  # and a logistic layer -- let's say we have 200 classes\n",
    "  #hidden = Dense(512, activation='relu')(flat1)\n",
    "  #dropout1 = Dropout(0.1)(hidden)\n",
    "  output1 = Dense(7, activation='softmax')(pool1)\n",
    "  # this is the model we will train\n",
    "  resnet_img_model = Model(inputs=resnet.input, outputs=output1)\n",
    "\n",
    "  models = [vgg_img_model,resnet_img_model]\n",
    "\n",
    "  return models\n"
   ]
  },
  {
   "cell_type": "code",
   "execution_count": null,
   "metadata": {
    "id": "x3YoMVO40Bnm"
   },
   "outputs": [],
   "source": [
    "## Inception V3\n",
    "def inception_model():\n",
    "# create the base pre-trained model\n",
    "  inception = keras.applications.InceptionV3(weights='imagenet', include_top=False,input_shape=(150, 150, 3))\n",
    "  for layer in inception.layers:\n",
    "    layer.trainable = True\n",
    "  # add a global spatial average pooling layer\n",
    "  w = inception.output\n",
    "  pool = GlobalAveragePooling2D()(w)\n",
    "  output = Dense(7, activation='softmax')(pool)\n",
    "  # this is the model we will train\n",
    "  inception_img_model = Model(inputs=inception.input, outputs=output)\n",
    "  return inception_img_model"
   ]
  },
  {
   "cell_type": "markdown",
   "metadata": {
    "id": "SxkD2z4NL1Rh"
   },
   "source": [
    "## Multimodal Models"
   ]
  },
  {
   "cell_type": "code",
   "execution_count": null,
   "metadata": {
    "colab": {
     "base_uri": "https://localhost:8080/"
    },
    "id": "wdcsTCiFL1Rm",
    "outputId": "a55944c1-d43a-425b-f0e9-3faf4d66f1bf"
   },
   "outputs": [
    {
     "name": "stdout",
     "output_type": "stream",
     "text": [
      "Downloading data from https://storage.googleapis.com/tensorflow/keras-applications/vgg16/vgg16_weights_tf_dim_ordering_tf_kernels_notop.h5\n",
      "58889256/58889256 [==============================] - 3s 0us/step\n",
      "Downloading data from https://storage.googleapis.com/tensorflow/keras-applications/resnet/resnet50_weights_tf_dim_ordering_tf_kernels_notop.h5\n",
      "94765736/94765736 [==============================] - 5s 0us/step\n"
     ]
    }
   ],
   "source": [
    "visual_model_name = ['vgg16','resnet']\n",
    "visual_models_lsit = visual_models()\n",
    "\n",
    "# textual_model_name = ['LSTM','CNN','CNN_LSTM']\n",
    "textual_model_name = ['LSTM','CNN']\n",
    "text_models_list = create_keras_embeddings_models(180)\n"
   ]
  },
  {
   "cell_type": "code",
   "execution_count": null,
   "metadata": {
    "colab": {
     "base_uri": "https://localhost:8080/"
    },
    "id": "L5t4BKMwL1Ro",
    "outputId": "3c695d7d-eb11-4a13-dfb6-d9a87e738bc1"
   },
   "outputs": [
    {
     "name": "stdout",
     "output_type": "stream",
     "text": [
      "Model Name: vgg16+LSTM\n",
      "\n",
      "Epoch 1/50\n",
      "120/120 [==============================] - ETA: 0s - loss: 1.9185 - accuracy: 0.1972\n",
      "Epoch 1: val_accuracy improved from -inf to 0.21981, saving model to /content/drive/MyDrive/TaheriThesis/Dataset/Multimodal Sentiment/Models_3/vgg16LSTM.h5\n",
      "120/120 [==============================] - 82s 395ms/step - loss: 1.9185 - accuracy: 0.1972 - val_loss: 1.8732 - val_accuracy: 0.2198\n",
      "Epoch 2/50\n",
      "120/120 [==============================] - ETA: 0s - loss: 1.8172 - accuracy: 0.2708\n",
      "Epoch 2: val_accuracy improved from 0.21981 to 0.35024, saving model to /content/drive/MyDrive/TaheriThesis/Dataset/Multimodal Sentiment/Models_3/vgg16LSTM.h5\n",
      "120/120 [==============================] - 36s 304ms/step - loss: 1.8172 - accuracy: 0.2708 - val_loss: 1.7123 - val_accuracy: 0.3502\n",
      "Epoch 3/50\n",
      "120/120 [==============================] - ETA: 0s - loss: 1.6563 - accuracy: 0.3352\n",
      "Epoch 3: val_accuracy improved from 0.35024 to 0.36715, saving model to /content/drive/MyDrive/TaheriThesis/Dataset/Multimodal Sentiment/Models_3/vgg16LSTM.h5\n",
      "120/120 [==============================] - 32s 267ms/step - loss: 1.6563 - accuracy: 0.3352 - val_loss: 1.5805 - val_accuracy: 0.3671\n",
      "Epoch 4/50\n",
      "120/120 [==============================] - ETA: 0s - loss: 1.5159 - accuracy: 0.3773\n",
      "Epoch 4: val_accuracy improved from 0.36715 to 0.46135, saving model to /content/drive/MyDrive/TaheriThesis/Dataset/Multimodal Sentiment/Models_3/vgg16LSTM.h5\n",
      "120/120 [==============================] - 34s 286ms/step - loss: 1.5159 - accuracy: 0.3773 - val_loss: 1.4343 - val_accuracy: 0.4614\n",
      "Epoch 5/50\n",
      "120/120 [==============================] - ETA: 0s - loss: 1.3822 - accuracy: 0.4245\n",
      "Epoch 5: val_accuracy improved from 0.46135 to 0.50242, saving model to /content/drive/MyDrive/TaheriThesis/Dataset/Multimodal Sentiment/Models_3/vgg16LSTM.h5\n",
      "120/120 [==============================] - 35s 288ms/step - loss: 1.3822 - accuracy: 0.4245 - val_loss: 1.2646 - val_accuracy: 0.5024\n",
      "Epoch 6/50\n",
      "120/120 [==============================] - ETA: 0s - loss: 1.2530 - accuracy: 0.4941\n",
      "Epoch 6: val_accuracy improved from 0.50242 to 0.53382, saving model to /content/drive/MyDrive/TaheriThesis/Dataset/Multimodal Sentiment/Models_3/vgg16LSTM.h5\n",
      "120/120 [==============================] - 36s 302ms/step - loss: 1.2530 - accuracy: 0.4941 - val_loss: 1.2060 - val_accuracy: 0.5338\n",
      "Epoch 7/50\n",
      "120/120 [==============================] - ETA: 0s - loss: 1.0855 - accuracy: 0.5721\n",
      "Epoch 7: val_accuracy improved from 0.53382 to 0.59420, saving model to /content/drive/MyDrive/TaheriThesis/Dataset/Multimodal Sentiment/Models_3/vgg16LSTM.h5\n",
      "120/120 [==============================] - 34s 286ms/step - loss: 1.0855 - accuracy: 0.5721 - val_loss: 1.1479 - val_accuracy: 0.5942\n",
      "Epoch 8/50\n",
      "120/120 [==============================] - ETA: 0s - loss: 0.9279 - accuracy: 0.6410\n",
      "Epoch 8: val_accuracy improved from 0.59420 to 0.63285, saving model to /content/drive/MyDrive/TaheriThesis/Dataset/Multimodal Sentiment/Models_3/vgg16LSTM.h5\n",
      "120/120 [==============================] - 33s 277ms/step - loss: 0.9279 - accuracy: 0.6410 - val_loss: 1.0465 - val_accuracy: 0.6329\n",
      "Epoch 9/50\n",
      "120/120 [==============================] - ETA: 0s - loss: 0.8033 - accuracy: 0.6948\n",
      "Epoch 9: val_accuracy improved from 0.63285 to 0.66908, saving model to /content/drive/MyDrive/TaheriThesis/Dataset/Multimodal Sentiment/Models_3/vgg16LSTM.h5\n",
      "120/120 [==============================] - 35s 288ms/step - loss: 0.8033 - accuracy: 0.6948 - val_loss: 1.0450 - val_accuracy: 0.6691\n",
      "Epoch 10/50\n",
      "120/120 [==============================] - ETA: 0s - loss: 0.7014 - accuracy: 0.7394\n",
      "Epoch 10: val_accuracy improved from 0.66908 to 0.68116, saving model to /content/drive/MyDrive/TaheriThesis/Dataset/Multimodal Sentiment/Models_3/vgg16LSTM.h5\n",
      "120/120 [==============================] - 30s 252ms/step - loss: 0.7014 - accuracy: 0.7394 - val_loss: 0.9799 - val_accuracy: 0.6812\n",
      "Epoch 11/50\n",
      "120/120 [==============================] - ETA: 0s - loss: 0.6255 - accuracy: 0.7743\n",
      "Epoch 11: val_accuracy improved from 0.68116 to 0.73913, saving model to /content/drive/MyDrive/TaheriThesis/Dataset/Multimodal Sentiment/Models_3/vgg16LSTM.h5\n",
      "120/120 [==============================] - 32s 265ms/step - loss: 0.6255 - accuracy: 0.7743 - val_loss: 0.9776 - val_accuracy: 0.7391\n",
      "Epoch 12/50\n",
      "120/120 [==============================] - ETA: 0s - loss: 0.5578 - accuracy: 0.8012\n",
      "Epoch 12: val_accuracy improved from 0.73913 to 0.76812, saving model to /content/drive/MyDrive/TaheriThesis/Dataset/Multimodal Sentiment/Models_3/vgg16LSTM.h5\n",
      "120/120 [==============================] - 32s 270ms/step - loss: 0.5578 - accuracy: 0.8012 - val_loss: 0.9663 - val_accuracy: 0.7681\n",
      "Epoch 13/50\n",
      "120/120 [==============================] - ETA: 0s - loss: 0.5300 - accuracy: 0.8119\n",
      "Epoch 13: val_accuracy did not improve from 0.76812\n",
      "120/120 [==============================] - 27s 226ms/step - loss: 0.5300 - accuracy: 0.8119 - val_loss: 1.0084 - val_accuracy: 0.7512\n",
      "Epoch 14/50\n",
      "120/120 [==============================] - ETA: 0s - loss: 0.4985 - accuracy: 0.8234\n",
      "Epoch 14: val_accuracy improved from 0.76812 to 0.77295, saving model to /content/drive/MyDrive/TaheriThesis/Dataset/Multimodal Sentiment/Models_3/vgg16LSTM.h5\n",
      "120/120 [==============================] - 30s 253ms/step - loss: 0.4985 - accuracy: 0.8234 - val_loss: 1.0325 - val_accuracy: 0.7729\n",
      "Epoch 15/50\n",
      "120/120 [==============================] - ETA: 0s - loss: 0.4463 - accuracy: 0.8513\n",
      "Epoch 15: val_accuracy did not improve from 0.77295\n",
      "120/120 [==============================] - 27s 227ms/step - loss: 0.4463 - accuracy: 0.8513 - val_loss: 1.0007 - val_accuracy: 0.7729\n",
      "Epoch 16/50\n",
      "120/120 [==============================] - ETA: 0s - loss: 0.4348 - accuracy: 0.8356\n",
      "Epoch 16: val_accuracy did not improve from 0.77295\n",
      "120/120 [==============================] - 27s 228ms/step - loss: 0.4348 - accuracy: 0.8356 - val_loss: 1.1038 - val_accuracy: 0.7512\n",
      "Epoch 17/50\n",
      "120/120 [==============================] - ETA: 0s - loss: 0.3947 - accuracy: 0.8638\n",
      "Epoch 17: val_accuracy improved from 0.77295 to 0.77536, saving model to /content/drive/MyDrive/TaheriThesis/Dataset/Multimodal Sentiment/Models_3/vgg16LSTM.h5\n",
      "120/120 [==============================] - 33s 279ms/step - loss: 0.3947 - accuracy: 0.8638 - val_loss: 1.1454 - val_accuracy: 0.7754\n",
      "Epoch 18/50\n",
      "120/120 [==============================] - ETA: 0s - loss: 0.3805 - accuracy: 0.8740\n",
      "Epoch 18: val_accuracy improved from 0.77536 to 0.78986, saving model to /content/drive/MyDrive/TaheriThesis/Dataset/Multimodal Sentiment/Models_3/vgg16LSTM.h5\n",
      "120/120 [==============================] - 34s 281ms/step - loss: 0.3805 - accuracy: 0.8740 - val_loss: 1.1010 - val_accuracy: 0.7899\n",
      "Epoch 19/50\n",
      "120/120 [==============================] - ETA: 0s - loss: 0.3580 - accuracy: 0.8823\n",
      "Epoch 19: val_accuracy improved from 0.78986 to 0.79710, saving model to /content/drive/MyDrive/TaheriThesis/Dataset/Multimodal Sentiment/Models_3/vgg16LSTM.h5\n",
      "120/120 [==============================] - 32s 266ms/step - loss: 0.3580 - accuracy: 0.8823 - val_loss: 1.1151 - val_accuracy: 0.7971\n",
      "Epoch 20/50\n",
      "120/120 [==============================] - ETA: 0s - loss: 0.3548 - accuracy: 0.8821\n",
      "Epoch 20: val_accuracy did not improve from 0.79710\n",
      "120/120 [==============================] - 27s 224ms/step - loss: 0.3548 - accuracy: 0.8821 - val_loss: 1.1042 - val_accuracy: 0.7899\n",
      "Epoch 21/50\n",
      "120/120 [==============================] - ETA: 0s - loss: 0.3337 - accuracy: 0.8949\n",
      "Epoch 21: val_accuracy did not improve from 0.79710\n",
      "120/120 [==============================] - 27s 226ms/step - loss: 0.3337 - accuracy: 0.8949 - val_loss: 1.1778 - val_accuracy: 0.7778\n",
      "Epoch 22/50\n",
      "120/120 [==============================] - ETA: 0s - loss: 0.3313 - accuracy: 0.8946\n",
      "Epoch 22: val_accuracy did not improve from 0.79710\n",
      "120/120 [==============================] - 28s 234ms/step - loss: 0.3313 - accuracy: 0.8946 - val_loss: 1.1472 - val_accuracy: 0.7923\n",
      "Epoch 23/50\n",
      "120/120 [==============================] - ETA: 0s - loss: 0.3231 - accuracy: 0.8980\n",
      "Epoch 23: val_accuracy did not improve from 0.79710\n",
      "120/120 [==============================] - 28s 230ms/step - loss: 0.3231 - accuracy: 0.8980 - val_loss: 1.1918 - val_accuracy: 0.7899\n",
      "Epoch 24/50\n",
      "120/120 [==============================] - ETA: 0s - loss: 0.3046 - accuracy: 0.9050\n",
      "Epoch 24: val_accuracy did not improve from 0.79710\n",
      "120/120 [==============================] - 27s 228ms/step - loss: 0.3046 - accuracy: 0.9050 - val_loss: 1.2571 - val_accuracy: 0.7899\n",
      "Epoch 25/50\n",
      "120/120 [==============================] - ETA: 0s - loss: 0.2794 - accuracy: 0.9147\n",
      "Epoch 25: val_accuracy improved from 0.79710 to 0.80193, saving model to /content/drive/MyDrive/TaheriThesis/Dataset/Multimodal Sentiment/Models_3/vgg16LSTM.h5\n",
      "120/120 [==============================] - 31s 257ms/step - loss: 0.2794 - accuracy: 0.9147 - val_loss: 1.1267 - val_accuracy: 0.8019\n",
      "Epoch 26/50\n",
      "120/120 [==============================] - ETA: 0s - loss: 0.2494 - accuracy: 0.9220\n",
      "Epoch 26: val_accuracy did not improve from 0.80193\n",
      "120/120 [==============================] - 28s 230ms/step - loss: 0.2494 - accuracy: 0.9220 - val_loss: 1.2214 - val_accuracy: 0.7778\n",
      "Epoch 27/50\n",
      "120/120 [==============================] - ETA: 0s - loss: 0.2590 - accuracy: 0.9160\n",
      "Epoch 27: val_accuracy did not improve from 0.80193\n",
      "120/120 [==============================] - 28s 231ms/step - loss: 0.2590 - accuracy: 0.9160 - val_loss: 1.2214 - val_accuracy: 0.7778\n",
      "Epoch 28/50\n",
      "120/120 [==============================] - ETA: 0s - loss: 0.2384 - accuracy: 0.9254\n",
      "Epoch 28: val_accuracy did not improve from 0.80193\n",
      "120/120 [==============================] - 27s 224ms/step - loss: 0.2384 - accuracy: 0.9254 - val_loss: 1.1159 - val_accuracy: 0.7971\n",
      "Epoch 29/50\n",
      "120/120 [==============================] - ETA: 0s - loss: 0.2143 - accuracy: 0.9366\n",
      "Epoch 29: val_accuracy did not improve from 0.80193\n",
      "120/120 [==============================] - 27s 226ms/step - loss: 0.2143 - accuracy: 0.9366 - val_loss: 1.1506 - val_accuracy: 0.8019\n",
      "Epoch 30/50\n",
      "120/120 [==============================] - ETA: 0s - loss: 0.2115 - accuracy: 0.9371\n",
      "Epoch 30: val_accuracy did not improve from 0.80193\n",
      "120/120 [==============================] - 27s 225ms/step - loss: 0.2115 - accuracy: 0.9371 - val_loss: 1.1718 - val_accuracy: 0.8019\n",
      "Epoch 31/50\n",
      "120/120 [==============================] - ETA: 0s - loss: 0.2070 - accuracy: 0.9358\n",
      "Epoch 31: val_accuracy did not improve from 0.80193\n",
      "120/120 [==============================] - 27s 228ms/step - loss: 0.2070 - accuracy: 0.9358 - val_loss: 1.3443 - val_accuracy: 0.7947\n",
      "Epoch 32/50\n",
      "120/120 [==============================] - ETA: 0s - loss: 0.2122 - accuracy: 0.9382\n",
      "Epoch 32: val_accuracy did not improve from 0.80193\n",
      "120/120 [==============================] - 27s 224ms/step - loss: 0.2122 - accuracy: 0.9382 - val_loss: 1.1931 - val_accuracy: 0.8019\n",
      "Epoch 33/50\n",
      "120/120 [==============================] - ETA: 0s - loss: 0.2180 - accuracy: 0.9400\n",
      "Epoch 33: val_accuracy did not improve from 0.80193\n",
      "120/120 [==============================] - 27s 228ms/step - loss: 0.2180 - accuracy: 0.9400 - val_loss: 1.1978 - val_accuracy: 0.7947\n",
      "Epoch 34/50\n",
      "120/120 [==============================] - ETA: 0s - loss: 0.1902 - accuracy: 0.9510\n",
      "Epoch 34: val_accuracy did not improve from 0.80193\n",
      "120/120 [==============================] - 27s 228ms/step - loss: 0.1902 - accuracy: 0.9510 - val_loss: 1.3242 - val_accuracy: 0.7971\n",
      "Epoch 35/50\n",
      "120/120 [==============================] - ETA: 0s - loss: 0.1658 - accuracy: 0.9609\n",
      "Epoch 35: val_accuracy did not improve from 0.80193\n",
      "120/120 [==============================] - 27s 227ms/step - loss: 0.1658 - accuracy: 0.9609 - val_loss: 1.3136 - val_accuracy: 0.7995\n",
      "Epoch 36/50\n",
      "120/120 [==============================] - ETA: 0s - loss: 0.1939 - accuracy: 0.9496\n",
      "Epoch 36: val_accuracy improved from 0.80193 to 0.80676, saving model to /content/drive/MyDrive/TaheriThesis/Dataset/Multimodal Sentiment/Models_3/vgg16LSTM.h5\n",
      "120/120 [==============================] - 31s 262ms/step - loss: 0.1939 - accuracy: 0.9496 - val_loss: 1.2359 - val_accuracy: 0.8068\n",
      "Epoch 37/50\n",
      "120/120 [==============================] - ETA: 0s - loss: 0.1760 - accuracy: 0.9575\n",
      "Epoch 37: val_accuracy did not improve from 0.80676\n",
      "120/120 [==============================] - 27s 228ms/step - loss: 0.1760 - accuracy: 0.9575 - val_loss: 1.3938 - val_accuracy: 0.7874\n",
      "Epoch 38/50\n",
      "120/120 [==============================] - ETA: 0s - loss: 0.1660 - accuracy: 0.9580\n",
      "Epoch 38: val_accuracy did not improve from 0.80676\n",
      "120/120 [==============================] - 27s 227ms/step - loss: 0.1660 - accuracy: 0.9580 - val_loss: 1.4168 - val_accuracy: 0.7947\n",
      "Epoch 39/50\n",
      "120/120 [==============================] - ETA: 0s - loss: 0.1633 - accuracy: 0.9554\n",
      "Epoch 39: val_accuracy did not improve from 0.80676\n",
      "120/120 [==============================] - 27s 224ms/step - loss: 0.1633 - accuracy: 0.9554 - val_loss: 1.2911 - val_accuracy: 0.7995\n",
      "Epoch 40/50\n",
      "120/120 [==============================] - ETA: 0s - loss: 0.1662 - accuracy: 0.9567\n",
      "Epoch 40: val_accuracy did not improve from 0.80676\n",
      "120/120 [==============================] - 27s 226ms/step - loss: 0.1662 - accuracy: 0.9567 - val_loss: 1.3820 - val_accuracy: 0.8019\n",
      "Epoch 41/50\n",
      "120/120 [==============================] - ETA: 0s - loss: 0.1575 - accuracy: 0.9580\n",
      "Epoch 41: val_accuracy did not improve from 0.80676\n",
      "120/120 [==============================] - 27s 228ms/step - loss: 0.1575 - accuracy: 0.9580 - val_loss: 1.4089 - val_accuracy: 0.7899\n",
      "Epoch 42/50\n",
      "120/120 [==============================] - ETA: 0s - loss: 0.1637 - accuracy: 0.9577\n",
      "Epoch 42: val_accuracy did not improve from 0.80676\n",
      "120/120 [==============================] - 27s 224ms/step - loss: 0.1637 - accuracy: 0.9577 - val_loss: 1.3739 - val_accuracy: 0.7947\n",
      "Epoch 43/50\n",
      "120/120 [==============================] - ETA: 0s - loss: 0.1580 - accuracy: 0.9609\n",
      "Epoch 43: val_accuracy did not improve from 0.80676\n",
      "120/120 [==============================] - 27s 227ms/step - loss: 0.1580 - accuracy: 0.9609 - val_loss: 1.4660 - val_accuracy: 0.7923\n",
      "Epoch 44/50\n",
      "120/120 [==============================] - ETA: 0s - loss: 0.1549 - accuracy: 0.9570\n",
      "Epoch 44: val_accuracy did not improve from 0.80676\n",
      "120/120 [==============================] - 27s 226ms/step - loss: 0.1549 - accuracy: 0.9570 - val_loss: 1.5305 - val_accuracy: 0.7899\n",
      "Epoch 45/50\n",
      "120/120 [==============================] - ETA: 0s - loss: 0.1459 - accuracy: 0.9596\n",
      "Epoch 45: val_accuracy did not improve from 0.80676\n",
      "120/120 [==============================] - 27s 224ms/step - loss: 0.1459 - accuracy: 0.9596 - val_loss: 1.4455 - val_accuracy: 0.7971\n",
      "Epoch 46/50\n",
      "120/120 [==============================] - ETA: 0s - loss: 0.1554 - accuracy: 0.9577\n",
      "Epoch 46: val_accuracy did not improve from 0.80676\n",
      "120/120 [==============================] - 27s 227ms/step - loss: 0.1554 - accuracy: 0.9577 - val_loss: 1.4617 - val_accuracy: 0.7899\n",
      "Epoch 47/50\n",
      "120/120 [==============================] - ETA: 0s - loss: 0.1521 - accuracy: 0.9598\n",
      "Epoch 47: val_accuracy did not improve from 0.80676\n",
      "120/120 [==============================] - 27s 227ms/step - loss: 0.1521 - accuracy: 0.9598 - val_loss: 1.4942 - val_accuracy: 0.7899\n",
      "Epoch 48/50\n",
      "120/120 [==============================] - ETA: 0s - loss: 0.1405 - accuracy: 0.9609\n",
      "Epoch 48: val_accuracy did not improve from 0.80676\n",
      "120/120 [==============================] - 27s 224ms/step - loss: 0.1405 - accuracy: 0.9609 - val_loss: 1.5379 - val_accuracy: 0.7899\n",
      "Epoch 49/50\n",
      "120/120 [==============================] - ETA: 0s - loss: 0.1382 - accuracy: 0.9593\n",
      "Epoch 49: val_accuracy did not improve from 0.80676\n",
      "120/120 [==============================] - 27s 224ms/step - loss: 0.1382 - accuracy: 0.9593 - val_loss: 1.5132 - val_accuracy: 0.8043\n",
      "Epoch 50/50\n",
      "120/120 [==============================] - ETA: 0s - loss: 0.1628 - accuracy: 0.9590\n",
      "Epoch 50: val_accuracy did not improve from 0.80676\n",
      "120/120 [==============================] - 27s 228ms/step - loss: 0.1628 - accuracy: 0.9590 - val_loss: 1.6913 - val_accuracy: 0.7585\n",
      "Model Name: vgg16+CNN\n",
      "\n",
      "Epoch 1/50\n",
      "120/120 [==============================] - ETA: 0s - loss: 1.9046 - accuracy: 0.2131\n",
      "Epoch 1: val_accuracy improved from -inf to 0.21981, saving model to /content/drive/MyDrive/TaheriThesis/Dataset/Multimodal Sentiment/Models_3/vgg16CNN.h5\n",
      "120/120 [==============================] - 47s 341ms/step - loss: 1.9046 - accuracy: 0.2131 - val_loss: 1.9116 - val_accuracy: 0.2198\n",
      "Epoch 2/50\n",
      "120/120 [==============================] - ETA: 0s - loss: 1.8994 - accuracy: 0.2246\n",
      "Epoch 2: val_accuracy did not improve from 0.21981\n",
      "120/120 [==============================] - 28s 234ms/step - loss: 1.8994 - accuracy: 0.2246 - val_loss: 1.9168 - val_accuracy: 0.2198\n",
      "Epoch 3/50\n",
      "120/120 [==============================] - ETA: 0s - loss: 1.9001 - accuracy: 0.2246\n",
      "Epoch 3: val_accuracy did not improve from 0.21981\n",
      "120/120 [==============================] - 27s 226ms/step - loss: 1.9001 - accuracy: 0.2246 - val_loss: 1.9148 - val_accuracy: 0.2198\n",
      "Epoch 4/50\n",
      "120/120 [==============================] - ETA: 0s - loss: 1.8978 - accuracy: 0.2244\n",
      "Epoch 4: val_accuracy improved from 0.21981 to 0.22222, saving model to /content/drive/MyDrive/TaheriThesis/Dataset/Multimodal Sentiment/Models_3/vgg16CNN.h5\n",
      "120/120 [==============================] - 37s 313ms/step - loss: 1.8978 - accuracy: 0.2244 - val_loss: 1.9093 - val_accuracy: 0.2222\n",
      "Epoch 5/50\n",
      "120/120 [==============================] - ETA: 0s - loss: 1.8564 - accuracy: 0.2418\n",
      "Epoch 5: val_accuracy improved from 0.22222 to 0.36473, saving model to /content/drive/MyDrive/TaheriThesis/Dataset/Multimodal Sentiment/Models_3/vgg16CNN.h5\n",
      "120/120 [==============================] - 38s 318ms/step - loss: 1.8564 - accuracy: 0.2418 - val_loss: 1.6492 - val_accuracy: 0.3647\n",
      "Epoch 6/50\n",
      "120/120 [==============================] - ETA: 0s - loss: 1.6094 - accuracy: 0.3512\n",
      "Epoch 6: val_accuracy improved from 0.36473 to 0.45652, saving model to /content/drive/MyDrive/TaheriThesis/Dataset/Multimodal Sentiment/Models_3/vgg16CNN.h5\n",
      "120/120 [==============================] - 36s 297ms/step - loss: 1.6094 - accuracy: 0.3512 - val_loss: 1.4004 - val_accuracy: 0.4565\n",
      "Epoch 7/50\n",
      "120/120 [==============================] - ETA: 0s - loss: 1.3778 - accuracy: 0.4357\n",
      "Epoch 7: val_accuracy improved from 0.45652 to 0.47101, saving model to /content/drive/MyDrive/TaheriThesis/Dataset/Multimodal Sentiment/Models_3/vgg16CNN.h5\n",
      "120/120 [==============================] - 36s 304ms/step - loss: 1.3778 - accuracy: 0.4357 - val_loss: 1.3077 - val_accuracy: 0.4710\n",
      "Epoch 8/50\n",
      "120/120 [==============================] - ETA: 0s - loss: 1.2139 - accuracy: 0.5108\n",
      "Epoch 8: val_accuracy improved from 0.47101 to 0.50966, saving model to /content/drive/MyDrive/TaheriThesis/Dataset/Multimodal Sentiment/Models_3/vgg16CNN.h5\n",
      "120/120 [==============================] - 43s 357ms/step - loss: 1.2139 - accuracy: 0.5108 - val_loss: 1.2109 - val_accuracy: 0.5097\n",
      "Epoch 9/50\n",
      "120/120 [==============================] - ETA: 0s - loss: 1.0420 - accuracy: 0.5583\n",
      "Epoch 9: val_accuracy improved from 0.50966 to 0.55797, saving model to /content/drive/MyDrive/TaheriThesis/Dataset/Multimodal Sentiment/Models_3/vgg16CNN.h5\n",
      "120/120 [==============================] - 37s 312ms/step - loss: 1.0420 - accuracy: 0.5583 - val_loss: 1.1650 - val_accuracy: 0.5580\n",
      "Epoch 10/50\n",
      "120/120 [==============================] - ETA: 0s - loss: 0.9307 - accuracy: 0.6201\n",
      "Epoch 10: val_accuracy improved from 0.55797 to 0.60145, saving model to /content/drive/MyDrive/TaheriThesis/Dataset/Multimodal Sentiment/Models_3/vgg16CNN.h5\n",
      "120/120 [==============================] - 34s 282ms/step - loss: 0.9307 - accuracy: 0.6201 - val_loss: 1.1069 - val_accuracy: 0.6014\n",
      "Epoch 11/50\n",
      "120/120 [==============================] - ETA: 0s - loss: 0.8234 - accuracy: 0.6841\n",
      "Epoch 11: val_accuracy improved from 0.60145 to 0.63043, saving model to /content/drive/MyDrive/TaheriThesis/Dataset/Multimodal Sentiment/Models_3/vgg16CNN.h5\n",
      "120/120 [==============================] - 37s 305ms/step - loss: 0.8234 - accuracy: 0.6841 - val_loss: 1.1177 - val_accuracy: 0.6304\n",
      "Epoch 12/50\n",
      "120/120 [==============================] - ETA: 0s - loss: 0.7590 - accuracy: 0.7219\n",
      "Epoch 12: val_accuracy improved from 0.63043 to 0.65217, saving model to /content/drive/MyDrive/TaheriThesis/Dataset/Multimodal Sentiment/Models_3/vgg16CNN.h5\n",
      "120/120 [==============================] - 39s 323ms/step - loss: 0.7590 - accuracy: 0.7219 - val_loss: 1.0756 - val_accuracy: 0.6522\n",
      "Epoch 13/50\n",
      "120/120 [==============================] - ETA: 0s - loss: 0.6825 - accuracy: 0.7657\n",
      "Epoch 13: val_accuracy improved from 0.65217 to 0.66184, saving model to /content/drive/MyDrive/TaheriThesis/Dataset/Multimodal Sentiment/Models_3/vgg16CNN.h5\n",
      "120/120 [==============================] - 37s 305ms/step - loss: 0.6825 - accuracy: 0.7657 - val_loss: 1.0426 - val_accuracy: 0.6618\n",
      "Epoch 14/50\n",
      "120/120 [==============================] - ETA: 0s - loss: 0.6437 - accuracy: 0.7735\n",
      "Epoch 14: val_accuracy improved from 0.66184 to 0.73188, saving model to /content/drive/MyDrive/TaheriThesis/Dataset/Multimodal Sentiment/Models_3/vgg16CNN.h5\n",
      "120/120 [==============================] - 37s 307ms/step - loss: 0.6437 - accuracy: 0.7735 - val_loss: 0.9975 - val_accuracy: 0.7319\n",
      "Epoch 15/50\n",
      "120/120 [==============================] - ETA: 0s - loss: 0.5874 - accuracy: 0.8028\n",
      "Epoch 15: val_accuracy improved from 0.73188 to 0.74879, saving model to /content/drive/MyDrive/TaheriThesis/Dataset/Multimodal Sentiment/Models_3/vgg16CNN.h5\n",
      "120/120 [==============================] - 38s 317ms/step - loss: 0.5874 - accuracy: 0.8028 - val_loss: 0.9638 - val_accuracy: 0.7488\n",
      "Epoch 16/50\n",
      "120/120 [==============================] - ETA: 0s - loss: 0.5291 - accuracy: 0.8221\n",
      "Epoch 16: val_accuracy did not improve from 0.74879\n",
      "120/120 [==============================] - 27s 221ms/step - loss: 0.5291 - accuracy: 0.8221 - val_loss: 0.9681 - val_accuracy: 0.7271\n",
      "Epoch 17/50\n",
      "120/120 [==============================] - ETA: 0s - loss: 0.4777 - accuracy: 0.8453\n",
      "Epoch 17: val_accuracy improved from 0.74879 to 0.75604, saving model to /content/drive/MyDrive/TaheriThesis/Dataset/Multimodal Sentiment/Models_3/vgg16CNN.h5\n",
      "120/120 [==============================] - 44s 366ms/step - loss: 0.4777 - accuracy: 0.8453 - val_loss: 0.9880 - val_accuracy: 0.7560\n",
      "Epoch 18/50\n",
      "120/120 [==============================] - ETA: 0s - loss: 0.4333 - accuracy: 0.8612\n",
      "Epoch 18: val_accuracy did not improve from 0.75604\n",
      "120/120 [==============================] - 26s 214ms/step - loss: 0.4333 - accuracy: 0.8612 - val_loss: 1.0083 - val_accuracy: 0.7536\n",
      "Epoch 19/50\n",
      "120/120 [==============================] - ETA: 0s - loss: 0.4028 - accuracy: 0.8664\n",
      "Epoch 19: val_accuracy improved from 0.75604 to 0.76087, saving model to /content/drive/MyDrive/TaheriThesis/Dataset/Multimodal Sentiment/Models_3/vgg16CNN.h5\n",
      "120/120 [==============================] - 37s 312ms/step - loss: 0.4028 - accuracy: 0.8664 - val_loss: 1.0029 - val_accuracy: 0.7609\n",
      "Epoch 20/50\n",
      "120/120 [==============================] - ETA: 0s - loss: 0.3901 - accuracy: 0.8617\n",
      "Epoch 20: val_accuracy improved from 0.76087 to 0.77053, saving model to /content/drive/MyDrive/TaheriThesis/Dataset/Multimodal Sentiment/Models_3/vgg16CNN.h5\n",
      "120/120 [==============================] - 34s 283ms/step - loss: 0.3901 - accuracy: 0.8617 - val_loss: 1.0206 - val_accuracy: 0.7705\n",
      "Epoch 21/50\n",
      "120/120 [==============================] - ETA: 0s - loss: 0.3767 - accuracy: 0.8672\n",
      "Epoch 21: val_accuracy did not improve from 0.77053\n",
      "120/120 [==============================] - 27s 223ms/step - loss: 0.3767 - accuracy: 0.8672 - val_loss: 1.0889 - val_accuracy: 0.7585\n",
      "Epoch 22/50\n",
      "120/120 [==============================] - ETA: 0s - loss: 0.3544 - accuracy: 0.8711\n",
      "Epoch 22: val_accuracy did not improve from 0.77053\n",
      "120/120 [==============================] - 26s 218ms/step - loss: 0.3544 - accuracy: 0.8711 - val_loss: 1.1208 - val_accuracy: 0.7585\n",
      "Epoch 23/50\n",
      "120/120 [==============================] - ETA: 0s - loss: 0.3616 - accuracy: 0.8722\n",
      "Epoch 23: val_accuracy did not improve from 0.77053\n",
      "120/120 [==============================] - 27s 221ms/step - loss: 0.3616 - accuracy: 0.8722 - val_loss: 1.1178 - val_accuracy: 0.7512\n",
      "Epoch 24/50\n",
      "120/120 [==============================] - ETA: 0s - loss: 0.3511 - accuracy: 0.8742\n",
      "Epoch 24: val_accuracy did not improve from 0.77053\n",
      "120/120 [==============================] - 26s 217ms/step - loss: 0.3511 - accuracy: 0.8742 - val_loss: 1.0827 - val_accuracy: 0.7585\n",
      "Epoch 25/50\n",
      "120/120 [==============================] - ETA: 0s - loss: 0.3462 - accuracy: 0.8761\n",
      "Epoch 25: val_accuracy did not improve from 0.77053\n",
      "120/120 [==============================] - 26s 216ms/step - loss: 0.3462 - accuracy: 0.8761 - val_loss: 1.1842 - val_accuracy: 0.7512\n",
      "Epoch 26/50\n",
      "120/120 [==============================] - ETA: 0s - loss: 0.3212 - accuracy: 0.8855\n",
      "Epoch 26: val_accuracy did not improve from 0.77053\n",
      "120/120 [==============================] - 26s 215ms/step - loss: 0.3212 - accuracy: 0.8855 - val_loss: 1.1735 - val_accuracy: 0.7440\n",
      "Epoch 27/50\n",
      "120/120 [==============================] - ETA: 0s - loss: 0.2897 - accuracy: 0.9035\n",
      "Epoch 27: val_accuracy improved from 0.77053 to 0.77295, saving model to /content/drive/MyDrive/TaheriThesis/Dataset/Multimodal Sentiment/Models_3/vgg16CNN.h5\n",
      "120/120 [==============================] - 36s 299ms/step - loss: 0.2897 - accuracy: 0.9035 - val_loss: 1.1034 - val_accuracy: 0.7729\n",
      "Epoch 28/50\n",
      "120/120 [==============================] - ETA: 0s - loss: 0.3104 - accuracy: 0.8985\n",
      "Epoch 28: val_accuracy did not improve from 0.77295\n",
      "120/120 [==============================] - 26s 217ms/step - loss: 0.3104 - accuracy: 0.8985 - val_loss: 1.1420 - val_accuracy: 0.7585\n",
      "Epoch 29/50\n",
      "120/120 [==============================] - ETA: 0s - loss: 0.2807 - accuracy: 0.9113\n",
      "Epoch 29: val_accuracy did not improve from 0.77295\n",
      "120/120 [==============================] - 26s 215ms/step - loss: 0.2807 - accuracy: 0.9113 - val_loss: 1.1247 - val_accuracy: 0.7657\n",
      "Epoch 30/50\n",
      "120/120 [==============================] - ETA: 0s - loss: 0.2857 - accuracy: 0.9113\n",
      "Epoch 30: val_accuracy did not improve from 0.77295\n",
      "120/120 [==============================] - 26s 214ms/step - loss: 0.2857 - accuracy: 0.9113 - val_loss: 1.1733 - val_accuracy: 0.7633\n",
      "Epoch 31/50\n",
      "120/120 [==============================] - ETA: 0s - loss: 0.2768 - accuracy: 0.9121\n",
      "Epoch 31: val_accuracy did not improve from 0.77295\n",
      "120/120 [==============================] - 26s 213ms/step - loss: 0.2768 - accuracy: 0.9121 - val_loss: 1.1959 - val_accuracy: 0.7415\n",
      "Epoch 32/50\n",
      "120/120 [==============================] - ETA: 0s - loss: 0.2744 - accuracy: 0.9170\n",
      "Epoch 32: val_accuracy did not improve from 0.77295\n",
      "120/120 [==============================] - 26s 219ms/step - loss: 0.2744 - accuracy: 0.9170 - val_loss: 1.2005 - val_accuracy: 0.7488\n",
      "Epoch 33/50\n",
      "120/120 [==============================] - ETA: 0s - loss: 0.2504 - accuracy: 0.9209\n",
      "Epoch 33: val_accuracy did not improve from 0.77295\n",
      "120/120 [==============================] - 26s 216ms/step - loss: 0.2504 - accuracy: 0.9209 - val_loss: 1.1783 - val_accuracy: 0.7440\n",
      "Epoch 34/50\n",
      "120/120 [==============================] - ETA: 0s - loss: 0.2511 - accuracy: 0.9225\n",
      "Epoch 34: val_accuracy did not improve from 0.77295\n",
      "120/120 [==============================] - 26s 218ms/step - loss: 0.2511 - accuracy: 0.9225 - val_loss: 1.2167 - val_accuracy: 0.7609\n",
      "Epoch 35/50\n",
      "120/120 [==============================] - ETA: 0s - loss: 0.2510 - accuracy: 0.9160\n",
      "Epoch 35: val_accuracy did not improve from 0.77295\n",
      "120/120 [==============================] - 26s 218ms/step - loss: 0.2510 - accuracy: 0.9160 - val_loss: 1.2209 - val_accuracy: 0.7585\n",
      "Epoch 36/50\n",
      "120/120 [==============================] - ETA: 0s - loss: 0.2335 - accuracy: 0.9225\n",
      "Epoch 36: val_accuracy did not improve from 0.77295\n",
      "120/120 [==============================] - 26s 214ms/step - loss: 0.2335 - accuracy: 0.9225 - val_loss: 1.3240 - val_accuracy: 0.7512\n",
      "Epoch 37/50\n",
      "120/120 [==============================] - ETA: 0s - loss: 0.2480 - accuracy: 0.9144\n",
      "Epoch 37: val_accuracy did not improve from 0.77295\n",
      "120/120 [==============================] - 26s 213ms/step - loss: 0.2480 - accuracy: 0.9144 - val_loss: 1.2762 - val_accuracy: 0.7512\n",
      "Epoch 38/50\n",
      "120/120 [==============================] - ETA: 0s - loss: 0.2184 - accuracy: 0.9264\n",
      "Epoch 38: val_accuracy did not improve from 0.77295\n",
      "120/120 [==============================] - 26s 217ms/step - loss: 0.2184 - accuracy: 0.9264 - val_loss: 1.3473 - val_accuracy: 0.7488\n",
      "Epoch 39/50\n",
      "120/120 [==============================] - ETA: 0s - loss: 0.2189 - accuracy: 0.9230\n",
      "Epoch 39: val_accuracy did not improve from 0.77295\n",
      "120/120 [==============================] - 26s 218ms/step - loss: 0.2189 - accuracy: 0.9230 - val_loss: 1.3638 - val_accuracy: 0.7585\n",
      "Epoch 40/50\n",
      "120/120 [==============================] - ETA: 0s - loss: 0.2355 - accuracy: 0.9149\n",
      "Epoch 40: val_accuracy did not improve from 0.77295\n",
      "120/120 [==============================] - 26s 217ms/step - loss: 0.2355 - accuracy: 0.9149 - val_loss: 1.4169 - val_accuracy: 0.7391\n",
      "Epoch 41/50\n",
      "120/120 [==============================] - ETA: 0s - loss: 0.2217 - accuracy: 0.9220\n",
      "Epoch 41: val_accuracy did not improve from 0.77295\n",
      "120/120 [==============================] - 26s 213ms/step - loss: 0.2217 - accuracy: 0.9220 - val_loss: 1.4414 - val_accuracy: 0.7488\n",
      "Epoch 42/50\n",
      "120/120 [==============================] - ETA: 0s - loss: 0.2014 - accuracy: 0.9283\n",
      "Epoch 42: val_accuracy did not improve from 0.77295\n",
      "120/120 [==============================] - 26s 215ms/step - loss: 0.2014 - accuracy: 0.9283 - val_loss: 1.4197 - val_accuracy: 0.7512\n",
      "Epoch 43/50\n",
      "120/120 [==============================] - ETA: 0s - loss: 0.2149 - accuracy: 0.9254\n",
      "Epoch 43: val_accuracy did not improve from 0.77295\n",
      "120/120 [==============================] - 26s 213ms/step - loss: 0.2149 - accuracy: 0.9254 - val_loss: 1.4513 - val_accuracy: 0.7536\n",
      "Epoch 44/50\n",
      "120/120 [==============================] - ETA: 0s - loss: 0.2182 - accuracy: 0.9225\n",
      "Epoch 44: val_accuracy did not improve from 0.77295\n",
      "120/120 [==============================] - 26s 214ms/step - loss: 0.2182 - accuracy: 0.9225 - val_loss: 1.4400 - val_accuracy: 0.7585\n",
      "Epoch 45/50\n",
      "120/120 [==============================] - ETA: 0s - loss: 0.2185 - accuracy: 0.9217\n",
      "Epoch 45: val_accuracy did not improve from 0.77295\n",
      "120/120 [==============================] - 26s 213ms/step - loss: 0.2185 - accuracy: 0.9217 - val_loss: 1.4408 - val_accuracy: 0.7536\n",
      "Epoch 46/50\n",
      "120/120 [==============================] - ETA: 0s - loss: 0.2056 - accuracy: 0.9311\n",
      "Epoch 46: val_accuracy did not improve from 0.77295\n",
      "120/120 [==============================] - 26s 213ms/step - loss: 0.2056 - accuracy: 0.9311 - val_loss: 1.4630 - val_accuracy: 0.7536\n",
      "Epoch 47/50\n",
      "120/120 [==============================] - ETA: 0s - loss: 0.2099 - accuracy: 0.9230\n",
      "Epoch 47: val_accuracy did not improve from 0.77295\n",
      "120/120 [==============================] - 26s 218ms/step - loss: 0.2099 - accuracy: 0.9230 - val_loss: 1.4224 - val_accuracy: 0.7633\n",
      "Epoch 48/50\n",
      "120/120 [==============================] - ETA: 0s - loss: 0.1847 - accuracy: 0.9366\n",
      "Epoch 48: val_accuracy did not improve from 0.77295\n",
      "120/120 [==============================] - 26s 217ms/step - loss: 0.1847 - accuracy: 0.9366 - val_loss: 1.4737 - val_accuracy: 0.7633\n",
      "Epoch 49/50\n",
      "120/120 [==============================] - ETA: 0s - loss: 0.1990 - accuracy: 0.9259\n",
      "Epoch 49: val_accuracy did not improve from 0.77295\n",
      "120/120 [==============================] - 26s 215ms/step - loss: 0.1990 - accuracy: 0.9259 - val_loss: 1.4664 - val_accuracy: 0.7560\n",
      "Epoch 50/50\n",
      "120/120 [==============================] - ETA: 0s - loss: 0.2021 - accuracy: 0.9270\n",
      "Epoch 50: val_accuracy did not improve from 0.77295\n",
      "120/120 [==============================] - 26s 215ms/step - loss: 0.2021 - accuracy: 0.9270 - val_loss: 1.4498 - val_accuracy: 0.7609\n",
      "Model Name: resnet+LSTM\n",
      "\n",
      "Epoch 1/50\n",
      "120/120 [==============================] - ETA: 0s - loss: 1.4799 - accuracy: 0.5680\n",
      "Epoch 1: val_accuracy improved from -inf to 0.59662, saving model to /content/drive/MyDrive/TaheriThesis/Dataset/Multimodal Sentiment/Models_3/resnetLSTM.h5\n",
      "120/120 [==============================] - 36s 208ms/step - loss: 1.4799 - accuracy: 0.5680 - val_loss: 1.2491 - val_accuracy: 0.5966\n",
      "Epoch 2/50\n",
      "120/120 [==============================] - ETA: 0s - loss: 0.8311 - accuracy: 0.7146\n",
      "Epoch 2: val_accuracy improved from 0.59662 to 0.72464, saving model to /content/drive/MyDrive/TaheriThesis/Dataset/Multimodal Sentiment/Models_3/resnetLSTM.h5\n",
      "120/120 [==============================] - 24s 202ms/step - loss: 0.8311 - accuracy: 0.7146 - val_loss: 0.9545 - val_accuracy: 0.7246\n",
      "Epoch 3/50\n",
      "120/120 [==============================] - ETA: 0s - loss: 0.6129 - accuracy: 0.7790\n",
      "Epoch 3: val_accuracy improved from 0.72464 to 0.74396, saving model to /content/drive/MyDrive/TaheriThesis/Dataset/Multimodal Sentiment/Models_3/resnetLSTM.h5\n",
      "120/120 [==============================] - 20s 163ms/step - loss: 0.6129 - accuracy: 0.7790 - val_loss: 0.9032 - val_accuracy: 0.7440\n",
      "Epoch 4/50\n",
      "120/120 [==============================] - ETA: 0s - loss: 0.5148 - accuracy: 0.7991\n",
      "Epoch 4: val_accuracy did not improve from 0.74396\n",
      "120/120 [==============================] - 11s 95ms/step - loss: 0.5148 - accuracy: 0.7991 - val_loss: 0.9089 - val_accuracy: 0.7343\n",
      "Epoch 5/50\n",
      "120/120 [==============================] - ETA: 0s - loss: 0.5174 - accuracy: 0.7871\n",
      "Epoch 5: val_accuracy did not improve from 0.74396\n",
      "120/120 [==============================] - 11s 96ms/step - loss: 0.5174 - accuracy: 0.7871 - val_loss: 0.9130 - val_accuracy: 0.7343\n",
      "Epoch 6/50\n",
      "120/120 [==============================] - ETA: 0s - loss: 0.4558 - accuracy: 0.8351\n",
      "Epoch 6: val_accuracy improved from 0.74396 to 0.78502, saving model to /content/drive/MyDrive/TaheriThesis/Dataset/Multimodal Sentiment/Models_3/resnetLSTM.h5\n",
      "120/120 [==============================] - 25s 209ms/step - loss: 0.4558 - accuracy: 0.8351 - val_loss: 0.8931 - val_accuracy: 0.7850\n",
      "Epoch 7/50\n",
      "120/120 [==============================] - ETA: 0s - loss: 0.4059 - accuracy: 0.8445\n",
      "Epoch 7: val_accuracy did not improve from 0.78502\n",
      "120/120 [==============================] - 11s 91ms/step - loss: 0.4059 - accuracy: 0.8445 - val_loss: 0.8889 - val_accuracy: 0.7826\n",
      "Epoch 8/50\n",
      "120/120 [==============================] - ETA: 0s - loss: 0.3771 - accuracy: 0.8544\n",
      "Epoch 8: val_accuracy did not improve from 0.78502\n",
      "120/120 [==============================] - 11s 88ms/step - loss: 0.3771 - accuracy: 0.8544 - val_loss: 0.9801 - val_accuracy: 0.7754\n",
      "Epoch 9/50\n",
      "120/120 [==============================] - ETA: 0s - loss: 0.3574 - accuracy: 0.8651\n",
      "Epoch 9: val_accuracy did not improve from 0.78502\n",
      "120/120 [==============================] - 11s 90ms/step - loss: 0.3574 - accuracy: 0.8651 - val_loss: 0.9590 - val_accuracy: 0.7778\n",
      "Epoch 10/50\n",
      "120/120 [==============================] - ETA: 0s - loss: 0.3417 - accuracy: 0.8677\n",
      "Epoch 10: val_accuracy did not improve from 0.78502\n",
      "120/120 [==============================] - 11s 92ms/step - loss: 0.3417 - accuracy: 0.8677 - val_loss: 1.0109 - val_accuracy: 0.7778\n",
      "Epoch 11/50\n",
      "120/120 [==============================] - ETA: 0s - loss: 0.3553 - accuracy: 0.8706\n",
      "Epoch 11: val_accuracy did not improve from 0.78502\n",
      "120/120 [==============================] - 11s 90ms/step - loss: 0.3553 - accuracy: 0.8706 - val_loss: 1.1008 - val_accuracy: 0.7633\n",
      "Epoch 12/50\n",
      "120/120 [==============================] - ETA: 0s - loss: 0.3290 - accuracy: 0.8711\n",
      "Epoch 12: val_accuracy improved from 0.78502 to 0.78744, saving model to /content/drive/MyDrive/TaheriThesis/Dataset/Multimodal Sentiment/Models_3/resnetLSTM.h5\n",
      "120/120 [==============================] - 22s 186ms/step - loss: 0.3290 - accuracy: 0.8711 - val_loss: 0.9945 - val_accuracy: 0.7874\n",
      "Epoch 13/50\n",
      "120/120 [==============================] - ETA: 0s - loss: 0.3426 - accuracy: 0.8662\n",
      "Epoch 13: val_accuracy did not improve from 0.78744\n",
      "120/120 [==============================] - 11s 93ms/step - loss: 0.3426 - accuracy: 0.8662 - val_loss: 1.0684 - val_accuracy: 0.7874\n",
      "Epoch 14/50\n",
      "120/120 [==============================] - ETA: 0s - loss: 0.3086 - accuracy: 0.8855\n",
      "Epoch 14: val_accuracy improved from 0.78744 to 0.79227, saving model to /content/drive/MyDrive/TaheriThesis/Dataset/Multimodal Sentiment/Models_3/resnetLSTM.h5\n",
      "120/120 [==============================] - 23s 194ms/step - loss: 0.3086 - accuracy: 0.8855 - val_loss: 1.0336 - val_accuracy: 0.7923\n",
      "Epoch 15/50\n",
      "120/120 [==============================] - ETA: 0s - loss: 0.2929 - accuracy: 0.8865\n",
      "Epoch 15: val_accuracy did not improve from 0.79227\n",
      "120/120 [==============================] - 11s 93ms/step - loss: 0.2929 - accuracy: 0.8865 - val_loss: 1.0437 - val_accuracy: 0.7874\n",
      "Epoch 16/50\n",
      "120/120 [==============================] - ETA: 0s - loss: 0.3035 - accuracy: 0.8821\n",
      "Epoch 16: val_accuracy did not improve from 0.79227\n",
      "120/120 [==============================] - 11s 94ms/step - loss: 0.3035 - accuracy: 0.8821 - val_loss: 1.1049 - val_accuracy: 0.7899\n",
      "Epoch 17/50\n",
      "120/120 [==============================] - ETA: 0s - loss: 0.3003 - accuracy: 0.8920\n",
      "Epoch 17: val_accuracy did not improve from 0.79227\n",
      "120/120 [==============================] - 11s 95ms/step - loss: 0.3003 - accuracy: 0.8920 - val_loss: 1.1234 - val_accuracy: 0.7729\n",
      "Epoch 18/50\n",
      "120/120 [==============================] - ETA: 0s - loss: 0.2857 - accuracy: 0.9032\n",
      "Epoch 18: val_accuracy did not improve from 0.79227\n",
      "120/120 [==============================] - 11s 88ms/step - loss: 0.2857 - accuracy: 0.9032 - val_loss: 1.1215 - val_accuracy: 0.7826\n",
      "Epoch 19/50\n",
      "120/120 [==============================] - ETA: 0s - loss: 0.2825 - accuracy: 0.9050\n",
      "Epoch 19: val_accuracy did not improve from 0.79227\n",
      "120/120 [==============================] - 10s 83ms/step - loss: 0.2825 - accuracy: 0.9050 - val_loss: 1.1515 - val_accuracy: 0.7778\n",
      "Epoch 20/50\n",
      "120/120 [==============================] - ETA: 0s - loss: 0.2946 - accuracy: 0.8943\n",
      "Epoch 20: val_accuracy did not improve from 0.79227\n",
      "120/120 [==============================] - 11s 91ms/step - loss: 0.2946 - accuracy: 0.8943 - val_loss: 1.1994 - val_accuracy: 0.7681\n",
      "Epoch 21/50\n",
      "120/120 [==============================] - ETA: 0s - loss: 0.2595 - accuracy: 0.9087\n",
      "Epoch 21: val_accuracy did not improve from 0.79227\n",
      "120/120 [==============================] - 10s 85ms/step - loss: 0.2595 - accuracy: 0.9087 - val_loss: 1.2164 - val_accuracy: 0.7802\n",
      "Epoch 22/50\n",
      "120/120 [==============================] - ETA: 0s - loss: 0.2730 - accuracy: 0.8980\n",
      "Epoch 22: val_accuracy did not improve from 0.79227\n",
      "120/120 [==============================] - 11s 89ms/step - loss: 0.2730 - accuracy: 0.8980 - val_loss: 1.2985 - val_accuracy: 0.7850\n",
      "Epoch 23/50\n",
      "120/120 [==============================] - ETA: 0s - loss: 0.2757 - accuracy: 0.8949\n",
      "Epoch 23: val_accuracy did not improve from 0.79227\n",
      "120/120 [==============================] - 11s 93ms/step - loss: 0.2757 - accuracy: 0.8949 - val_loss: 1.2311 - val_accuracy: 0.7826\n",
      "Epoch 24/50\n",
      "120/120 [==============================] - ETA: 0s - loss: 0.2528 - accuracy: 0.9134\n",
      "Epoch 24: val_accuracy did not improve from 0.79227\n",
      "120/120 [==============================] - 11s 89ms/step - loss: 0.2528 - accuracy: 0.9134 - val_loss: 1.2789 - val_accuracy: 0.7850\n",
      "Epoch 25/50\n",
      "120/120 [==============================] - ETA: 0s - loss: 0.2568 - accuracy: 0.9029\n",
      "Epoch 25: val_accuracy did not improve from 0.79227\n",
      "120/120 [==============================] - 10s 86ms/step - loss: 0.2568 - accuracy: 0.9029 - val_loss: 1.2250 - val_accuracy: 0.7826\n",
      "Epoch 26/50\n",
      "120/120 [==============================] - ETA: 0s - loss: 0.2572 - accuracy: 0.9048\n",
      "Epoch 26: val_accuracy did not improve from 0.79227\n",
      "120/120 [==============================] - 10s 84ms/step - loss: 0.2572 - accuracy: 0.9048 - val_loss: 1.2392 - val_accuracy: 0.7826\n",
      "Epoch 27/50\n",
      "120/120 [==============================] - ETA: 0s - loss: 0.2634 - accuracy: 0.9016\n",
      "Epoch 27: val_accuracy did not improve from 0.79227\n",
      "120/120 [==============================] - 11s 88ms/step - loss: 0.2634 - accuracy: 0.9016 - val_loss: 1.2379 - val_accuracy: 0.7705\n",
      "Epoch 28/50\n",
      "120/120 [==============================] - ETA: 0s - loss: 0.2402 - accuracy: 0.9105\n",
      "Epoch 28: val_accuracy did not improve from 0.79227\n",
      "120/120 [==============================] - 10s 85ms/step - loss: 0.2402 - accuracy: 0.9105 - val_loss: 1.4105 - val_accuracy: 0.7560\n",
      "Epoch 29/50\n",
      "120/120 [==============================] - ETA: 0s - loss: 0.2564 - accuracy: 0.9014\n",
      "Epoch 29: val_accuracy did not improve from 0.79227\n",
      "120/120 [==============================] - 11s 91ms/step - loss: 0.2564 - accuracy: 0.9014 - val_loss: 1.2837 - val_accuracy: 0.7729\n",
      "Epoch 30/50\n",
      "120/120 [==============================] - ETA: 0s - loss: 0.2354 - accuracy: 0.9165\n",
      "Epoch 30: val_accuracy did not improve from 0.79227\n",
      "120/120 [==============================] - 10s 84ms/step - loss: 0.2354 - accuracy: 0.9165 - val_loss: 1.3002 - val_accuracy: 0.7754\n",
      "Epoch 31/50\n",
      "120/120 [==============================] - ETA: 0s - loss: 0.2337 - accuracy: 0.9097\n",
      "Epoch 31: val_accuracy did not improve from 0.79227\n",
      "120/120 [==============================] - 10s 84ms/step - loss: 0.2337 - accuracy: 0.9097 - val_loss: 1.3188 - val_accuracy: 0.7778\n",
      "Epoch 32/50\n",
      "120/120 [==============================] - ETA: 0s - loss: 0.2411 - accuracy: 0.9100\n",
      "Epoch 32: val_accuracy did not improve from 0.79227\n",
      "120/120 [==============================] - 10s 87ms/step - loss: 0.2411 - accuracy: 0.9100 - val_loss: 1.4035 - val_accuracy: 0.7802\n",
      "Epoch 33/50\n",
      "120/120 [==============================] - ETA: 0s - loss: 0.2317 - accuracy: 0.9061\n",
      "Epoch 33: val_accuracy did not improve from 0.79227\n",
      "120/120 [==============================] - 11s 88ms/step - loss: 0.2317 - accuracy: 0.9061 - val_loss: 1.5125 - val_accuracy: 0.7705\n",
      "Epoch 34/50\n",
      "120/120 [==============================] - ETA: 0s - loss: 0.2355 - accuracy: 0.9071\n",
      "Epoch 34: val_accuracy did not improve from 0.79227\n",
      "120/120 [==============================] - 10s 87ms/step - loss: 0.2355 - accuracy: 0.9071 - val_loss: 1.3580 - val_accuracy: 0.7802\n",
      "Epoch 35/50\n",
      "120/120 [==============================] - ETA: 0s - loss: 0.2300 - accuracy: 0.9097\n",
      "Epoch 35: val_accuracy did not improve from 0.79227\n",
      "120/120 [==============================] - 10s 85ms/step - loss: 0.2300 - accuracy: 0.9097 - val_loss: 1.3721 - val_accuracy: 0.7729\n",
      "Epoch 36/50\n",
      "120/120 [==============================] - ETA: 0s - loss: 0.2373 - accuracy: 0.9056\n",
      "Epoch 36: val_accuracy did not improve from 0.79227\n",
      "120/120 [==============================] - 10s 84ms/step - loss: 0.2373 - accuracy: 0.9056 - val_loss: 1.3183 - val_accuracy: 0.7802\n",
      "Epoch 37/50\n",
      "120/120 [==============================] - ETA: 0s - loss: 0.2440 - accuracy: 0.9076\n",
      "Epoch 37: val_accuracy did not improve from 0.79227\n",
      "120/120 [==============================] - 11s 89ms/step - loss: 0.2440 - accuracy: 0.9076 - val_loss: 1.3772 - val_accuracy: 0.7850\n",
      "Epoch 38/50\n",
      "120/120 [==============================] - ETA: 0s - loss: 0.2133 - accuracy: 0.9147\n",
      "Epoch 38: val_accuracy did not improve from 0.79227\n",
      "120/120 [==============================] - 11s 89ms/step - loss: 0.2133 - accuracy: 0.9147 - val_loss: 1.3928 - val_accuracy: 0.7657\n",
      "Epoch 39/50\n",
      "120/120 [==============================] - ETA: 0s - loss: 0.2048 - accuracy: 0.9165\n",
      "Epoch 39: val_accuracy did not improve from 0.79227\n",
      "120/120 [==============================] - 10s 86ms/step - loss: 0.2048 - accuracy: 0.9165 - val_loss: 1.4459 - val_accuracy: 0.7754\n",
      "Epoch 40/50\n",
      "120/120 [==============================] - ETA: 0s - loss: 0.2264 - accuracy: 0.9097\n",
      "Epoch 40: val_accuracy did not improve from 0.79227\n",
      "120/120 [==============================] - 11s 90ms/step - loss: 0.2264 - accuracy: 0.9097 - val_loss: 1.5041 - val_accuracy: 0.7729\n",
      "Epoch 41/50\n",
      "120/120 [==============================] - ETA: 0s - loss: 0.2135 - accuracy: 0.9136\n",
      "Epoch 41: val_accuracy did not improve from 0.79227\n",
      "120/120 [==============================] - 11s 88ms/step - loss: 0.2135 - accuracy: 0.9136 - val_loss: 1.4621 - val_accuracy: 0.7729\n",
      "Epoch 42/50\n",
      "120/120 [==============================] - ETA: 0s - loss: 0.2033 - accuracy: 0.9178\n",
      "Epoch 42: val_accuracy did not improve from 0.79227\n",
      "120/120 [==============================] - 11s 89ms/step - loss: 0.2033 - accuracy: 0.9178 - val_loss: 1.4845 - val_accuracy: 0.7899\n",
      "Epoch 43/50\n",
      "120/120 [==============================] - ETA: 0s - loss: 0.2023 - accuracy: 0.9189\n",
      "Epoch 43: val_accuracy did not improve from 0.79227\n",
      "120/120 [==============================] - 10s 84ms/step - loss: 0.2023 - accuracy: 0.9189 - val_loss: 1.4438 - val_accuracy: 0.7681\n",
      "Epoch 44/50\n",
      "120/120 [==============================] - ETA: 0s - loss: 0.2105 - accuracy: 0.9147\n",
      "Epoch 44: val_accuracy did not improve from 0.79227\n",
      "120/120 [==============================] - 11s 91ms/step - loss: 0.2105 - accuracy: 0.9147 - val_loss: 1.5295 - val_accuracy: 0.7609\n",
      "Epoch 45/50\n",
      "120/120 [==============================] - ETA: 0s - loss: 0.2026 - accuracy: 0.9186\n",
      "Epoch 45: val_accuracy did not improve from 0.79227\n",
      "120/120 [==============================] - 11s 92ms/step - loss: 0.2026 - accuracy: 0.9186 - val_loss: 1.6394 - val_accuracy: 0.7609\n",
      "Epoch 46/50\n",
      "120/120 [==============================] - ETA: 0s - loss: 0.2051 - accuracy: 0.9186\n",
      "Epoch 46: val_accuracy did not improve from 0.79227\n",
      "120/120 [==============================] - 11s 89ms/step - loss: 0.2051 - accuracy: 0.9186 - val_loss: 1.5840 - val_accuracy: 0.7633\n",
      "Epoch 47/50\n",
      "120/120 [==============================] - ETA: 0s - loss: 0.1863 - accuracy: 0.9238\n",
      "Epoch 47: val_accuracy did not improve from 0.79227\n",
      "120/120 [==============================] - 10s 83ms/step - loss: 0.1863 - accuracy: 0.9238 - val_loss: 1.6415 - val_accuracy: 0.7585\n",
      "Epoch 48/50\n",
      "120/120 [==============================] - ETA: 0s - loss: 0.1971 - accuracy: 0.9176\n",
      "Epoch 48: val_accuracy did not improve from 0.79227\n",
      "120/120 [==============================] - 11s 89ms/step - loss: 0.1971 - accuracy: 0.9176 - val_loss: 1.6072 - val_accuracy: 0.7802\n",
      "Epoch 49/50\n",
      "120/120 [==============================] - ETA: 0s - loss: 0.1983 - accuracy: 0.9209\n",
      "Epoch 49: val_accuracy did not improve from 0.79227\n",
      "120/120 [==============================] - 10s 84ms/step - loss: 0.1983 - accuracy: 0.9209 - val_loss: 1.6476 - val_accuracy: 0.7512\n",
      "Epoch 50/50\n",
      "120/120 [==============================] - ETA: 0s - loss: 0.2058 - accuracy: 0.9236\n",
      "Epoch 50: val_accuracy did not improve from 0.79227\n",
      "120/120 [==============================] - 10s 85ms/step - loss: 0.2058 - accuracy: 0.9236 - val_loss: 1.4501 - val_accuracy: 0.7778\n",
      "Model Name: resnet+CNN\n",
      "\n",
      "Epoch 1/50\n",
      "120/120 [==============================] - ETA: 0s - loss: 1.5107 - accuracy: 0.6011\n",
      "Epoch 1: val_accuracy improved from -inf to 0.70290, saving model to /content/drive/MyDrive/TaheriThesis/Dataset/Multimodal Sentiment/Models_3/resnetCNN.h5\n",
      "120/120 [==============================] - 34s 228ms/step - loss: 1.5107 - accuracy: 0.6011 - val_loss: 1.1731 - val_accuracy: 0.7029\n",
      "Epoch 2/50\n",
      "120/120 [==============================] - ETA: 0s - loss: 0.7549 - accuracy: 0.7720\n",
      "Epoch 2: val_accuracy improved from 0.70290 to 0.70773, saving model to /content/drive/MyDrive/TaheriThesis/Dataset/Multimodal Sentiment/Models_3/resnetCNN.h5\n",
      "120/120 [==============================] - 16s 130ms/step - loss: 0.7549 - accuracy: 0.7720 - val_loss: 0.9008 - val_accuracy: 0.7077\n",
      "Epoch 3/50\n",
      "120/120 [==============================] - ETA: 0s - loss: 0.5118 - accuracy: 0.8291\n",
      "Epoch 3: val_accuracy improved from 0.70773 to 0.76087, saving model to /content/drive/MyDrive/TaheriThesis/Dataset/Multimodal Sentiment/Models_3/resnetCNN.h5\n",
      "120/120 [==============================] - 13s 108ms/step - loss: 0.5118 - accuracy: 0.8291 - val_loss: 0.8344 - val_accuracy: 0.7609\n",
      "Epoch 4/50\n",
      "120/120 [==============================] - ETA: 0s - loss: 0.4748 - accuracy: 0.8362\n",
      "Epoch 4: val_accuracy improved from 0.76087 to 0.77778, saving model to /content/drive/MyDrive/TaheriThesis/Dataset/Multimodal Sentiment/Models_3/resnetCNN.h5\n",
      "120/120 [==============================] - 17s 139ms/step - loss: 0.4748 - accuracy: 0.8362 - val_loss: 0.8554 - val_accuracy: 0.7778\n",
      "Epoch 5/50\n",
      "120/120 [==============================] - ETA: 0s - loss: 0.4099 - accuracy: 0.8667\n",
      "Epoch 5: val_accuracy did not improve from 0.77778\n",
      "120/120 [==============================] - 10s 84ms/step - loss: 0.4099 - accuracy: 0.8667 - val_loss: 0.9592 - val_accuracy: 0.7681\n",
      "Epoch 6/50\n",
      "120/120 [==============================] - ETA: 0s - loss: 0.3949 - accuracy: 0.8641\n",
      "Epoch 6: val_accuracy did not improve from 0.77778\n",
      "120/120 [==============================] - 10s 82ms/step - loss: 0.3949 - accuracy: 0.8641 - val_loss: 0.9652 - val_accuracy: 0.7633\n",
      "Epoch 7/50\n",
      "120/120 [==============================] - ETA: 0s - loss: 0.3742 - accuracy: 0.8643\n",
      "Epoch 7: val_accuracy did not improve from 0.77778\n",
      "120/120 [==============================] - 10s 84ms/step - loss: 0.3742 - accuracy: 0.8643 - val_loss: 0.9931 - val_accuracy: 0.7705\n",
      "Epoch 8/50\n",
      "120/120 [==============================] - ETA: 0s - loss: 0.3424 - accuracy: 0.8761\n",
      "Epoch 8: val_accuracy did not improve from 0.77778\n",
      "120/120 [==============================] - 10s 87ms/step - loss: 0.3424 - accuracy: 0.8761 - val_loss: 1.0077 - val_accuracy: 0.7705\n",
      "Epoch 9/50\n",
      "120/120 [==============================] - ETA: 0s - loss: 0.3353 - accuracy: 0.8735\n",
      "Epoch 9: val_accuracy did not improve from 0.77778\n",
      "120/120 [==============================] - 9s 74ms/step - loss: 0.3353 - accuracy: 0.8735 - val_loss: 1.0438 - val_accuracy: 0.7560\n",
      "Epoch 10/50\n",
      "120/120 [==============================] - ETA: 0s - loss: 0.3277 - accuracy: 0.8797\n",
      "Epoch 10: val_accuracy did not improve from 0.77778\n",
      "120/120 [==============================] - 10s 82ms/step - loss: 0.3277 - accuracy: 0.8797 - val_loss: 1.0768 - val_accuracy: 0.7633\n",
      "Epoch 11/50\n",
      "120/120 [==============================] - ETA: 0s - loss: 0.3356 - accuracy: 0.8656\n",
      "Epoch 11: val_accuracy did not improve from 0.77778\n",
      "120/120 [==============================] - 9s 74ms/step - loss: 0.3356 - accuracy: 0.8656 - val_loss: 1.0749 - val_accuracy: 0.7585\n",
      "Epoch 12/50\n",
      "120/120 [==============================] - ETA: 0s - loss: 0.3253 - accuracy: 0.8766\n",
      "Epoch 12: val_accuracy did not improve from 0.77778\n",
      "120/120 [==============================] - 9s 73ms/step - loss: 0.3253 - accuracy: 0.8766 - val_loss: 1.0668 - val_accuracy: 0.7657\n",
      "Epoch 13/50\n",
      "120/120 [==============================] - ETA: 0s - loss: 0.3153 - accuracy: 0.8787\n",
      "Epoch 13: val_accuracy did not improve from 0.77778\n",
      "120/120 [==============================] - 10s 84ms/step - loss: 0.3153 - accuracy: 0.8787 - val_loss: 1.0403 - val_accuracy: 0.7657\n",
      "Epoch 14/50\n",
      "120/120 [==============================] - ETA: 0s - loss: 0.3230 - accuracy: 0.8797\n",
      "Epoch 14: val_accuracy did not improve from 0.77778\n",
      "120/120 [==============================] - 9s 73ms/step - loss: 0.3230 - accuracy: 0.8797 - val_loss: 1.0241 - val_accuracy: 0.7681\n",
      "Epoch 15/50\n",
      "120/120 [==============================] - ETA: 0s - loss: 0.3000 - accuracy: 0.8889\n",
      "Epoch 15: val_accuracy did not improve from 0.77778\n",
      "120/120 [==============================] - 9s 73ms/step - loss: 0.3000 - accuracy: 0.8889 - val_loss: 1.0512 - val_accuracy: 0.7705\n",
      "Epoch 16/50\n",
      "120/120 [==============================] - ETA: 0s - loss: 0.2902 - accuracy: 0.8925\n",
      "Epoch 16: val_accuracy did not improve from 0.77778\n",
      "120/120 [==============================] - 9s 73ms/step - loss: 0.2902 - accuracy: 0.8925 - val_loss: 1.0731 - val_accuracy: 0.7657\n",
      "Epoch 17/50\n",
      "120/120 [==============================] - ETA: 0s - loss: 0.2793 - accuracy: 0.9009\n",
      "Epoch 17: val_accuracy did not improve from 0.77778\n",
      "120/120 [==============================] - 9s 79ms/step - loss: 0.2793 - accuracy: 0.9009 - val_loss: 1.1178 - val_accuracy: 0.7729\n",
      "Epoch 18/50\n",
      "120/120 [==============================] - ETA: 0s - loss: 0.2857 - accuracy: 0.8956\n",
      "Epoch 18: val_accuracy did not improve from 0.77778\n",
      "120/120 [==============================] - 9s 72ms/step - loss: 0.2857 - accuracy: 0.8956 - val_loss: 1.1469 - val_accuracy: 0.7681\n",
      "Epoch 19/50\n",
      "120/120 [==============================] - ETA: 0s - loss: 0.2815 - accuracy: 0.8951\n",
      "Epoch 19: val_accuracy did not improve from 0.77778\n",
      "120/120 [==============================] - 9s 73ms/step - loss: 0.2815 - accuracy: 0.8951 - val_loss: 1.2082 - val_accuracy: 0.7609\n",
      "Epoch 20/50\n",
      "120/120 [==============================] - ETA: 0s - loss: 0.3014 - accuracy: 0.8883\n",
      "Epoch 20: val_accuracy did not improve from 0.77778\n",
      "120/120 [==============================] - 9s 73ms/step - loss: 0.3014 - accuracy: 0.8883 - val_loss: 1.1731 - val_accuracy: 0.7609\n",
      "Epoch 21/50\n",
      "120/120 [==============================] - ETA: 0s - loss: 0.2759 - accuracy: 0.8956\n",
      "Epoch 21: val_accuracy did not improve from 0.77778\n",
      "120/120 [==============================] - 9s 78ms/step - loss: 0.2759 - accuracy: 0.8956 - val_loss: 1.2151 - val_accuracy: 0.7585\n",
      "Epoch 22/50\n",
      "120/120 [==============================] - ETA: 0s - loss: 0.2640 - accuracy: 0.8993\n",
      "Epoch 22: val_accuracy did not improve from 0.77778\n",
      "120/120 [==============================] - 9s 77ms/step - loss: 0.2640 - accuracy: 0.8993 - val_loss: 1.2069 - val_accuracy: 0.7585\n",
      "Epoch 23/50\n",
      "120/120 [==============================] - ETA: 0s - loss: 0.2640 - accuracy: 0.9043\n",
      "Epoch 23: val_accuracy did not improve from 0.77778\n",
      "120/120 [==============================] - 9s 76ms/step - loss: 0.2640 - accuracy: 0.9043 - val_loss: 1.2173 - val_accuracy: 0.7609\n",
      "Epoch 24/50\n",
      "120/120 [==============================] - ETA: 0s - loss: 0.2399 - accuracy: 0.9155\n",
      "Epoch 24: val_accuracy did not improve from 0.77778\n",
      "120/120 [==============================] - 9s 79ms/step - loss: 0.2399 - accuracy: 0.9155 - val_loss: 1.2404 - val_accuracy: 0.7560\n",
      "Epoch 25/50\n",
      "120/120 [==============================] - ETA: 0s - loss: 0.2380 - accuracy: 0.9165\n",
      "Epoch 25: val_accuracy did not improve from 0.77778\n",
      "120/120 [==============================] - 9s 75ms/step - loss: 0.2380 - accuracy: 0.9165 - val_loss: 1.2590 - val_accuracy: 0.7585\n",
      "Epoch 26/50\n",
      "120/120 [==============================] - ETA: 0s - loss: 0.2468 - accuracy: 0.9129\n",
      "Epoch 26: val_accuracy did not improve from 0.77778\n",
      "120/120 [==============================] - 9s 78ms/step - loss: 0.2468 - accuracy: 0.9129 - val_loss: 1.2924 - val_accuracy: 0.7609\n",
      "Epoch 27/50\n",
      "120/120 [==============================] - ETA: 0s - loss: 0.2533 - accuracy: 0.9061\n",
      "Epoch 27: val_accuracy did not improve from 0.77778\n",
      "120/120 [==============================] - 9s 77ms/step - loss: 0.2533 - accuracy: 0.9061 - val_loss: 1.3535 - val_accuracy: 0.7488\n",
      "Epoch 28/50\n",
      "120/120 [==============================] - ETA: 0s - loss: 0.2329 - accuracy: 0.9139\n",
      "Epoch 28: val_accuracy did not improve from 0.77778\n",
      "120/120 [==============================] - 9s 76ms/step - loss: 0.2329 - accuracy: 0.9139 - val_loss: 1.4486 - val_accuracy: 0.7488\n",
      "Epoch 29/50\n",
      "120/120 [==============================] - ETA: 0s - loss: 0.2172 - accuracy: 0.9165\n",
      "Epoch 29: val_accuracy did not improve from 0.77778\n",
      "120/120 [==============================] - 9s 75ms/step - loss: 0.2172 - accuracy: 0.9165 - val_loss: 1.4400 - val_accuracy: 0.7488\n",
      "Epoch 30/50\n",
      "120/120 [==============================] - ETA: 0s - loss: 0.2289 - accuracy: 0.9110\n",
      "Epoch 30: val_accuracy did not improve from 0.77778\n",
      "120/120 [==============================] - 9s 72ms/step - loss: 0.2289 - accuracy: 0.9110 - val_loss: 1.4571 - val_accuracy: 0.7464\n",
      "Epoch 31/50\n",
      "120/120 [==============================] - ETA: 0s - loss: 0.2105 - accuracy: 0.9254\n",
      "Epoch 31: val_accuracy did not improve from 0.77778\n",
      "120/120 [==============================] - 9s 73ms/step - loss: 0.2105 - accuracy: 0.9254 - val_loss: 1.4545 - val_accuracy: 0.7488\n",
      "Epoch 32/50\n",
      "120/120 [==============================] - ETA: 0s - loss: 0.2258 - accuracy: 0.9144\n",
      "Epoch 32: val_accuracy did not improve from 0.77778\n",
      "120/120 [==============================] - 9s 77ms/step - loss: 0.2258 - accuracy: 0.9144 - val_loss: 1.3875 - val_accuracy: 0.7560\n",
      "Epoch 33/50\n",
      "120/120 [==============================] - ETA: 0s - loss: 0.2034 - accuracy: 0.9249\n",
      "Epoch 33: val_accuracy did not improve from 0.77778\n",
      "120/120 [==============================] - 9s 76ms/step - loss: 0.2034 - accuracy: 0.9249 - val_loss: 1.4722 - val_accuracy: 0.7560\n",
      "Epoch 34/50\n",
      "120/120 [==============================] - ETA: 0s - loss: 0.2132 - accuracy: 0.9199\n",
      "Epoch 34: val_accuracy did not improve from 0.77778\n",
      "120/120 [==============================] - 9s 74ms/step - loss: 0.2132 - accuracy: 0.9199 - val_loss: 1.4905 - val_accuracy: 0.7609\n",
      "Epoch 35/50\n",
      "120/120 [==============================] - ETA: 0s - loss: 0.2184 - accuracy: 0.9157\n",
      "Epoch 35: val_accuracy did not improve from 0.77778\n",
      "120/120 [==============================] - 9s 76ms/step - loss: 0.2184 - accuracy: 0.9157 - val_loss: 1.5359 - val_accuracy: 0.7560\n",
      "Epoch 36/50\n",
      "120/120 [==============================] - ETA: 0s - loss: 0.2048 - accuracy: 0.9256\n",
      "Epoch 36: val_accuracy did not improve from 0.77778\n",
      "120/120 [==============================] - 9s 76ms/step - loss: 0.2048 - accuracy: 0.9256 - val_loss: 1.6156 - val_accuracy: 0.7488\n",
      "Epoch 37/50\n",
      "120/120 [==============================] - ETA: 0s - loss: 0.2159 - accuracy: 0.9202\n",
      "Epoch 37: val_accuracy did not improve from 0.77778\n",
      "120/120 [==============================] - 9s 72ms/step - loss: 0.2159 - accuracy: 0.9202 - val_loss: 1.5737 - val_accuracy: 0.7512\n",
      "Epoch 38/50\n",
      "120/120 [==============================] - ETA: 0s - loss: 0.1970 - accuracy: 0.9283\n",
      "Epoch 38: val_accuracy did not improve from 0.77778\n",
      "120/120 [==============================] - 9s 72ms/step - loss: 0.1970 - accuracy: 0.9283 - val_loss: 1.5703 - val_accuracy: 0.7512\n",
      "Epoch 39/50\n",
      "120/120 [==============================] - ETA: 0s - loss: 0.1954 - accuracy: 0.9306\n",
      "Epoch 39: val_accuracy did not improve from 0.77778\n",
      "120/120 [==============================] - 9s 73ms/step - loss: 0.1954 - accuracy: 0.9306 - val_loss: 1.5572 - val_accuracy: 0.7488\n",
      "Epoch 40/50\n",
      "120/120 [==============================] - ETA: 0s - loss: 0.1971 - accuracy: 0.9256\n",
      "Epoch 40: val_accuracy did not improve from 0.77778\n",
      "120/120 [==============================] - 9s 77ms/step - loss: 0.1971 - accuracy: 0.9256 - val_loss: 1.6383 - val_accuracy: 0.7440\n",
      "Epoch 41/50\n",
      "120/120 [==============================] - ETA: 0s - loss: 0.2003 - accuracy: 0.9264\n",
      "Epoch 41: val_accuracy did not improve from 0.77778\n",
      "120/120 [==============================] - 9s 74ms/step - loss: 0.2003 - accuracy: 0.9264 - val_loss: 1.5719 - val_accuracy: 0.7512\n",
      "Epoch 42/50\n",
      "120/120 [==============================] - ETA: 0s - loss: 0.2083 - accuracy: 0.9246\n",
      "Epoch 42: val_accuracy did not improve from 0.77778\n",
      "120/120 [==============================] - 9s 77ms/step - loss: 0.2083 - accuracy: 0.9246 - val_loss: 1.6666 - val_accuracy: 0.7440\n",
      "Epoch 43/50\n",
      "120/120 [==============================] - ETA: 0s - loss: 0.2039 - accuracy: 0.9267\n",
      "Epoch 43: val_accuracy did not improve from 0.77778\n",
      "120/120 [==============================] - 9s 75ms/step - loss: 0.2039 - accuracy: 0.9267 - val_loss: 1.6011 - val_accuracy: 0.7440\n",
      "Epoch 44/50\n",
      "120/120 [==============================] - ETA: 0s - loss: 0.1860 - accuracy: 0.9324\n",
      "Epoch 44: val_accuracy did not improve from 0.77778\n",
      "120/120 [==============================] - 9s 71ms/step - loss: 0.1860 - accuracy: 0.9324 - val_loss: 1.5689 - val_accuracy: 0.7464\n",
      "Epoch 45/50\n",
      "120/120 [==============================] - ETA: 0s - loss: 0.2053 - accuracy: 0.9243\n",
      "Epoch 45: val_accuracy did not improve from 0.77778\n",
      "120/120 [==============================] - 9s 75ms/step - loss: 0.2053 - accuracy: 0.9243 - val_loss: 1.6147 - val_accuracy: 0.7536\n",
      "Epoch 46/50\n",
      "120/120 [==============================] - ETA: 0s - loss: 0.1939 - accuracy: 0.9283\n",
      "Epoch 46: val_accuracy did not improve from 0.77778\n",
      "120/120 [==============================] - 9s 76ms/step - loss: 0.1939 - accuracy: 0.9283 - val_loss: 1.6692 - val_accuracy: 0.7512\n",
      "Epoch 47/50\n",
      "120/120 [==============================] - ETA: 0s - loss: 0.1866 - accuracy: 0.9293\n",
      "Epoch 47: val_accuracy did not improve from 0.77778\n",
      "120/120 [==============================] - 9s 76ms/step - loss: 0.1866 - accuracy: 0.9293 - val_loss: 1.6709 - val_accuracy: 0.7488\n",
      "Epoch 48/50\n",
      "120/120 [==============================] - ETA: 0s - loss: 0.1969 - accuracy: 0.9262\n",
      "Epoch 48: val_accuracy did not improve from 0.77778\n",
      "120/120 [==============================] - 9s 72ms/step - loss: 0.1969 - accuracy: 0.9262 - val_loss: 1.6204 - val_accuracy: 0.7633\n",
      "Epoch 49/50\n",
      "120/120 [==============================] - ETA: 0s - loss: 0.1746 - accuracy: 0.9363\n",
      "Epoch 49: val_accuracy did not improve from 0.77778\n",
      "120/120 [==============================] - 9s 77ms/step - loss: 0.1746 - accuracy: 0.9363 - val_loss: 1.6884 - val_accuracy: 0.7560\n",
      "Epoch 50/50\n",
      "120/120 [==============================] - ETA: 0s - loss: 0.1815 - accuracy: 0.9319\n",
      "Epoch 50: val_accuracy did not improve from 0.77778\n",
      "120/120 [==============================] - 9s 77ms/step - loss: 0.1815 - accuracy: 0.9319 - val_loss: 1.7149 - val_accuracy: 0.7512\n"
     ]
    }
   ],
   "source": [
    "for vm,visual_model in enumerate(visual_models_lsit):\n",
    "  for tm,textual_model in enumerate(text_models_list):\n",
    "    # Concatenating the output of 2 classifiers\n",
    "    con_layer = keras.layers.concatenate([visual_model.output, textual_model.output])\n",
    "    dropout = Dropout(0.2)(con_layer)\n",
    "    final_dense = Dense(64, activation=\"relu\")(dropout)\n",
    "    out = Dense(7,activation='softmax')(final_dense)\n",
    "     \n",
    "    #Defining model input and output\n",
    "    com_model = Model(inputs = [visual_model.input, textual_model.input], outputs=out)\n",
    "    if visual_model == 'vgg16':\n",
    "      opt = RMSprop()\n",
    "    else:\n",
    "      opt = Adam() \n",
    "      \n",
    "    com_model.compile(loss='categorical_crossentropy', optimizer=opt, metrics = [\"accuracy\"])\n",
    "    print(f\"Model Name: {visual_model_name[vm]}+{textual_model_name[tm]}\\n\")\n",
    "    com_model.fit([train_image,train_pad_sequences],\n",
    "    y_train,\n",
    "    epochs=50,\n",
    "    batch_size =32,\n",
    "    validation_data=([valid_image,valid_pad_sequences],y_valid),\n",
    "    verbose =1,\n",
    "    class_weight = class_weights,\n",
    "    callbacks = callbacks_check(visual_model_name[vm]+textual_model_name[tm]))"
   ]
  },
  {
   "cell_type": "markdown",
   "metadata": {
    "id": "O-CzBY_R2H6g"
   },
   "source": [
    "## Multimodal Models Performance"
   ]
  },
  {
   "cell_type": "code",
   "execution_count": null,
   "metadata": {
    "id": "QGo23SUS90UI"
   },
   "outputs": [],
   "source": [
    "multimodal_models = ['vgg16LSTM','vgg16CNN','resnetLSTM','resnetCNN']\n",
    "multimodal_names =  ['VGG16+LSTM','VGG16+CNNText','ResNet+LSTM','ResNet+CNNText']\n",
    "\n",
    "def multimodal_models_accuracy(saved_model): \n",
    "  my_dict = {}\n",
    "  # Prediction \n",
    "  model = load_model(models_path+'Models_3/'+f\"{saved_model}.h5\")\n",
    "  y_pred = np.argmax(model.predict([test_image,test_pad_sequences]), axis=-1)\n",
    "\n",
    "  y_true = test_data['enc_label']\n",
    "\n",
    "  my_dict['Accuracy'] = accuracy_score(y_true, y_pred)*100\n",
    "  my_dict['Precision'] = precision_score(y_true, y_pred,average = 'weighted')*100\n",
    "  my_dict['Recall'] = recall_score(y_true, y_pred,average = 'weighted')*100 \n",
    "  my_dict['F1 Score'] = f1_score(y_true, y_pred,average = 'weighted')*100 \n",
    "  return my_dict"
   ]
  },
  {
   "cell_type": "code",
   "execution_count": null,
   "metadata": {
    "colab": {
     "base_uri": "https://localhost:8080/"
    },
    "id": "tZk_EjCB2H6l",
    "outputId": "e2314b89-204d-4abe-e065-a50ce105da7a"
   },
   "outputs": [
    {
     "name": "stdout",
     "output_type": "stream",
     "text": [
      "13/13 [==============================] - 2s 67ms/step\n",
      "13/13 [==============================] - 1s 68ms/step\n",
      "13/13 [==============================] - 3s 59ms/step\n",
      "13/13 [==============================] - 2s 53ms/step\n"
     ]
    }
   ],
   "source": [
    "accuracy = {f'{multimodal_names[i]}':multimodal_models_accuracy(model) for i,model in enumerate(multimodal_models)}\n",
    "# Save the performance parameter into json file\n",
    "with open(models_path+'Results_3/'+'multimodal_models_performance.json', 'w') as f:\n",
    "    json.dump(accuracy, f)"
   ]
  },
  {
   "cell_type": "code",
   "execution_count": null,
   "metadata": {
    "colab": {
     "base_uri": "https://localhost:8080/",
     "height": 210
    },
    "id": "g849QPnK2H6m",
    "outputId": "37912895-bcaa-415f-934f-3dda2b306a6d"
   },
   "outputs": [
    {
     "name": "stdout",
     "output_type": "stream",
     "text": [
      "\u001b[1m=======  Multimodal Models Performance on Test Data  =============\n",
      "\u001b[0m\n"
     ]
    },
    {
     "data": {
      "text/html": [
       "\n",
       "  <div id=\"df-87cea214-8a13-41af-bf29-618f37a8da88\">\n",
       "    <div class=\"colab-df-container\">\n",
       "      <div>\n",
       "<style scoped>\n",
       "    .dataframe tbody tr th:only-of-type {\n",
       "        vertical-align: middle;\n",
       "    }\n",
       "\n",
       "    .dataframe tbody tr th {\n",
       "        vertical-align: top;\n",
       "    }\n",
       "\n",
       "    .dataframe thead th {\n",
       "        text-align: right;\n",
       "    }\n",
       "</style>\n",
       "<table border=\"1\" class=\"dataframe\">\n",
       "  <thead>\n",
       "    <tr style=\"text-align: right;\">\n",
       "      <th></th>\n",
       "      <th>Accuracy</th>\n",
       "      <th>Precision</th>\n",
       "      <th>Recall</th>\n",
       "      <th>F1 Score</th>\n",
       "    </tr>\n",
       "  </thead>\n",
       "  <tbody>\n",
       "    <tr>\n",
       "      <th>VGG16+LSTM</th>\n",
       "      <td>74.88</td>\n",
       "      <td>78.18</td>\n",
       "      <td>74.88</td>\n",
       "      <td>75.73</td>\n",
       "    </tr>\n",
       "    <tr>\n",
       "      <th>VGG16+CNNText</th>\n",
       "      <td>73.91</td>\n",
       "      <td>78.30</td>\n",
       "      <td>73.91</td>\n",
       "      <td>74.49</td>\n",
       "    </tr>\n",
       "    <tr>\n",
       "      <th>ResNet+LSTM</th>\n",
       "      <td>75.60</td>\n",
       "      <td>77.08</td>\n",
       "      <td>75.60</td>\n",
       "      <td>75.87</td>\n",
       "    </tr>\n",
       "    <tr>\n",
       "      <th>ResNet+CNNText</th>\n",
       "      <td>74.15</td>\n",
       "      <td>77.20</td>\n",
       "      <td>74.15</td>\n",
       "      <td>74.38</td>\n",
       "    </tr>\n",
       "  </tbody>\n",
       "</table>\n",
       "</div>\n",
       "      <button class=\"colab-df-convert\" onclick=\"convertToInteractive('df-87cea214-8a13-41af-bf29-618f37a8da88')\"\n",
       "              title=\"Convert this dataframe to an interactive table.\"\n",
       "              style=\"display:none;\">\n",
       "        \n",
       "  <svg xmlns=\"http://www.w3.org/2000/svg\" height=\"24px\"viewBox=\"0 0 24 24\"\n",
       "       width=\"24px\">\n",
       "    <path d=\"M0 0h24v24H0V0z\" fill=\"none\"/>\n",
       "    <path d=\"M18.56 5.44l.94 2.06.94-2.06 2.06-.94-2.06-.94-.94-2.06-.94 2.06-2.06.94zm-11 1L8.5 8.5l.94-2.06 2.06-.94-2.06-.94L8.5 2.5l-.94 2.06-2.06.94zm10 10l.94 2.06.94-2.06 2.06-.94-2.06-.94-.94-2.06-.94 2.06-2.06.94z\"/><path d=\"M17.41 7.96l-1.37-1.37c-.4-.4-.92-.59-1.43-.59-.52 0-1.04.2-1.43.59L10.3 9.45l-7.72 7.72c-.78.78-.78 2.05 0 2.83L4 21.41c.39.39.9.59 1.41.59.51 0 1.02-.2 1.41-.59l7.78-7.78 2.81-2.81c.8-.78.8-2.07 0-2.86zM5.41 20L4 18.59l7.72-7.72 1.47 1.35L5.41 20z\"/>\n",
       "  </svg>\n",
       "      </button>\n",
       "      \n",
       "  <style>\n",
       "    .colab-df-container {\n",
       "      display:flex;\n",
       "      flex-wrap:wrap;\n",
       "      gap: 12px;\n",
       "    }\n",
       "\n",
       "    .colab-df-convert {\n",
       "      background-color: #E8F0FE;\n",
       "      border: none;\n",
       "      border-radius: 50%;\n",
       "      cursor: pointer;\n",
       "      display: none;\n",
       "      fill: #1967D2;\n",
       "      height: 32px;\n",
       "      padding: 0 0 0 0;\n",
       "      width: 32px;\n",
       "    }\n",
       "\n",
       "    .colab-df-convert:hover {\n",
       "      background-color: #E2EBFA;\n",
       "      box-shadow: 0px 1px 2px rgba(60, 64, 67, 0.3), 0px 1px 3px 1px rgba(60, 64, 67, 0.15);\n",
       "      fill: #174EA6;\n",
       "    }\n",
       "\n",
       "    [theme=dark] .colab-df-convert {\n",
       "      background-color: #3B4455;\n",
       "      fill: #D2E3FC;\n",
       "    }\n",
       "\n",
       "    [theme=dark] .colab-df-convert:hover {\n",
       "      background-color: #434B5C;\n",
       "      box-shadow: 0px 1px 3px 1px rgba(0, 0, 0, 0.15);\n",
       "      filter: drop-shadow(0px 1px 2px rgba(0, 0, 0, 0.3));\n",
       "      fill: #FFFFFF;\n",
       "    }\n",
       "  </style>\n",
       "\n",
       "      <script>\n",
       "        const buttonEl =\n",
       "          document.querySelector('#df-87cea214-8a13-41af-bf29-618f37a8da88 button.colab-df-convert');\n",
       "        buttonEl.style.display =\n",
       "          google.colab.kernel.accessAllowed ? 'block' : 'none';\n",
       "\n",
       "        async function convertToInteractive(key) {\n",
       "          const element = document.querySelector('#df-87cea214-8a13-41af-bf29-618f37a8da88');\n",
       "          const dataTable =\n",
       "            await google.colab.kernel.invokeFunction('convertToInteractive',\n",
       "                                                     [key], {});\n",
       "          if (!dataTable) return;\n",
       "\n",
       "          const docLinkHtml = 'Like what you see? Visit the ' +\n",
       "            '<a target=\"_blank\" href=https://colab.research.google.com/notebooks/data_table.ipynb>data table notebook</a>'\n",
       "            + ' to learn more about interactive tables.';\n",
       "          element.innerHTML = '';\n",
       "          dataTable['output_type'] = 'display_data';\n",
       "          await google.colab.output.renderOutput(dataTable, element);\n",
       "          const docLink = document.createElement('div');\n",
       "          docLink.innerHTML = docLinkHtml;\n",
       "          element.appendChild(docLink);\n",
       "        }\n",
       "      </script>\n",
       "    </div>\n",
       "  </div>\n",
       "  "
      ],
      "text/plain": [
       "                Accuracy  Precision  Recall  F1 Score\n",
       "VGG16+LSTM         74.88      78.18   74.88     75.73\n",
       "VGG16+CNNText      73.91      78.30   73.91     74.49\n",
       "ResNet+LSTM        75.60      77.08   75.60     75.87\n",
       "ResNet+CNNText     74.15      77.20   74.15     74.38"
      ]
     },
     "execution_count": 100,
     "metadata": {},
     "output_type": "execute_result"
    }
   ],
   "source": [
    "# Load the json file\n",
    "metrics = json.load(open(models_path+'Results_3/'+'multimodal_models_performance.json'))\n",
    "acc_list = []\n",
    "pr_list = []\n",
    "re_list = []\n",
    "f1_list = []\n",
    "for i in metrics.keys():\n",
    "  acc_list.append(round(metrics[i]['Accuracy'],2))\n",
    "  pr_list.append(round(metrics[i]['Precision'],2))\n",
    "  re_list.append(round(metrics[i]['Recall'],2))\n",
    "  f1_list.append(round(metrics[i]['F1 Score'],2))\n",
    "\n",
    "print (color.BOLD+f\"=======  Multimodal Models Performance on Test Data  =============\\n\"+color.END)\n",
    "# Create a dataframe\n",
    "performance_matrix = pd.DataFrame({'Accuracy':acc_list,'Precision':pr_list,\n",
    "                                   'Recall':re_list,'F1 Score':f1_list},\n",
    "                                  index =multimodal_names)\n",
    "performance_matrix"
   ]
  },
  {
   "cell_type": "markdown",
   "metadata": {
    "id": "lwkl6O15DrVD"
   },
   "source": [
    "## Error Analysis (Quantative)"
   ]
  },
  {
   "cell_type": "code",
   "execution_count": null,
   "metadata": {
    "id": "5zQc9GYOEBfP"
   },
   "outputs": [],
   "source": [
    "models = ['vgg16LSTM','vgg16CNN','resnetLSTM','resnetCNN']\n",
    "model_names = ['VGG16+LSTM','VGG16+CNNText','ResNet+LSTM','ResNet+CNNText']\n",
    "class_names = ['happy','angry','disgust','fear','sad','surprise','other']\n",
    "def models_confusion_matrix(saved_model,model_name): \n",
    "\n",
    "  # if saved_model == 'vgg16LSTM':\n",
    "    # model = visual_models()\n",
    "    model=load_model(models_path+'Models_3/'+f\"{saved_model}.h5\")\n",
    "    y_pred = np.argmax(model.predict([test_image,test_pad_sequences]), axis=-1)\n",
    "\n",
    "  \n",
    "\n",
    "\n",
    "    y_true = test_data['enc_label']\n",
    "    con_mat(y_true,y_pred,class_names,model_name)  \n",
    "\n",
    "\n",
    "\n"
   ]
  },
  {
   "cell_type": "code",
   "execution_count": null,
   "metadata": {
    "colab": {
     "base_uri": "https://localhost:8080/",
     "height": 1000
    },
    "id": "gdXZi6KjEBfS",
    "outputId": "e31b3586-41a6-4104-88c2-35fc1f1a9cd8"
   },
   "outputs": [
    {
     "name": "stdout",
     "output_type": "stream",
     "text": [
      "\u001b[1m======= Confusion Matrix of best Models  =============\n",
      "\u001b[0m\n",
      "13/13 [==============================] - 2s 65ms/step\n",
      "13/13 [==============================] - 1s 68ms/step\n",
      "13/13 [==============================] - 2s 59ms/step\n",
      "13/13 [==============================] - 2s 54ms/step\n"
     ]
    },
    {
     "data": {
      "image/png": "[encoded data removed]",
      "text/plain": [
       "<Figure size 400x300 with 2 Axes>"
      ]
     },
     "metadata": {},
     "output_type": "display_data"
    },
    {
     "data": {
      "image/png": "[encoded data removed]",
      "text/plain": [
       "<Figure size 400x300 with 2 Axes>"
      ]
     },
     "metadata": {},
     "output_type": "display_data"
    },
    {
     "data": {
      "image/png": "[encoded data removed]",
      "text/plain": [
       "<Figure size 400x300 with 2 Axes>"
      ]
     },
     "metadata": {},
     "output_type": "display_data"
    },
    {
     "data": {
      "image/png": "[encoded data removed]",
      "text/plain": [
       "<Figure size 400x300 with 2 Axes>"
      ]
     },
     "metadata": {},
     "output_type": "display_data"
    }
   ],
   "source": [
    "print (color.BOLD+f\"======= Confusion Matrix of best Models  =============\\n\"+color.END)\n",
    "for i,model in enumerate(models):\n",
    "    models_confusion_matrix(model,model_names[i])"
   ]
  },
  {
   "cell_type": "markdown",
   "metadata": {
    "id": "nOPU6cpdMtg8"
   },
   "source": [
    "## Feature Visualization"
   ]
  },
  {
   "cell_type": "code",
   "execution_count": null,
   "metadata": {
    "id": "VFBW0Hg9NHbs"
   },
   "outputs": [],
   "source": [
    "from keras.utils import to_categorical\n",
    "y_train=to_categorical(train_data['enc_label'])\n",
    "y_test=to_categorical(test_data['enc_label'])"
   ]
  },
  {
   "cell_type": "code",
   "execution_count": null,
   "metadata": {
    "colab": {
     "base_uri": "https://localhost:8080/"
    },
    "id": "MMoWf1hOMv4d",
    "outputId": "fc37da88-0e21-49f0-eacd-0ff6c44e79a0"
   },
   "outputs": [
    {
     "name": "stdout",
     "output_type": "stream",
     "text": [
      "13/13 [==============================] - 2s 57ms/step\n"
     ]
    }
   ],
   "source": [
    "\n",
    "# Load the saved model\n",
    "model=load_model(models_path+'Models_3/'+ 'resnetLSTM.h5') \n",
    "y_pred = np.argmax(model.predict([test_image,test_pad_sequences]), axis=-1)"
   ]
  },
  {
   "cell_type": "code",
   "execution_count": null,
   "metadata": {
    "colab": {
     "base_uri": "https://localhost:8080/"
    },
    "id": "1VrFGU-oNIbO",
    "outputId": "5727ff65-8d38-4983-a342-01999f789154"
   },
   "outputs": [
    {
     "name": "stdout",
     "output_type": "stream",
     "text": [
      "input_1 True\n",
      "Layer Configuration:\n",
      "{'batch_input_shape': (None, 150, 150, 3), 'dtype': 'float32', 'sparse': False, 'ragged': False, 'name': 'input_1'}\n",
      "----------------------------------------\n",
      "block1_conv1 True\n",
      "Layer Configuration:\n",
      "{'name': 'block1_conv1', 'trainable': True, 'dtype': 'float32', 'filters': 64, 'kernel_size': (3, 3), 'strides': (1, 1), 'padding': 'same', 'data_format': 'channels_last', 'dilation_rate': (1, 1), 'groups': 1, 'activation': 'relu', 'use_bias': True, 'kernel_initializer': {'class_name': 'GlorotUniform', 'config': {'seed': None}}, 'bias_initializer': {'class_name': 'Zeros', 'config': {}}, 'kernel_regularizer': None, 'bias_regularizer': None, 'activity_regularizer': None, 'kernel_constraint': None, 'bias_constraint': None}\n",
      "----------------------------------------\n",
      "block1_conv2 True\n",
      "Layer Configuration:\n",
      "{'name': 'block1_conv2', 'trainable': True, 'dtype': 'float32', 'filters': 64, 'kernel_size': (3, 3), 'strides': (1, 1), 'padding': 'same', 'data_format': 'channels_last', 'dilation_rate': (1, 1), 'groups': 1, 'activation': 'relu', 'use_bias': True, 'kernel_initializer': {'class_name': 'GlorotUniform', 'config': {'seed': None}}, 'bias_initializer': {'class_name': 'Zeros', 'config': {}}, 'kernel_regularizer': None, 'bias_regularizer': None, 'activity_regularizer': None, 'kernel_constraint': None, 'bias_constraint': None}\n",
      "----------------------------------------\n",
      "block1_pool True\n",
      "Layer Configuration:\n",
      "{'name': 'block1_pool', 'trainable': True, 'dtype': 'float32', 'pool_size': (2, 2), 'padding': 'valid', 'strides': (2, 2), 'data_format': 'channels_last'}\n",
      "----------------------------------------\n",
      "block2_conv1 True\n",
      "Layer Configuration:\n",
      "{'name': 'block2_conv1', 'trainable': True, 'dtype': 'float32', 'filters': 128, 'kernel_size': (3, 3), 'strides': (1, 1), 'padding': 'same', 'data_format': 'channels_last', 'dilation_rate': (1, 1), 'groups': 1, 'activation': 'relu', 'use_bias': True, 'kernel_initializer': {'class_name': 'GlorotUniform', 'config': {'seed': None}}, 'bias_initializer': {'class_name': 'Zeros', 'config': {}}, 'kernel_regularizer': None, 'bias_regularizer': None, 'activity_regularizer': None, 'kernel_constraint': None, 'bias_constraint': None}\n",
      "----------------------------------------\n",
      "block2_conv2 True\n",
      "Layer Configuration:\n",
      "{'name': 'block2_conv2', 'trainable': True, 'dtype': 'float32', 'filters': 128, 'kernel_size': (3, 3), 'strides': (1, 1), 'padding': 'same', 'data_format': 'channels_last', 'dilation_rate': (1, 1), 'groups': 1, 'activation': 'relu', 'use_bias': True, 'kernel_initializer': {'class_name': 'GlorotUniform', 'config': {'seed': None}}, 'bias_initializer': {'class_name': 'Zeros', 'config': {}}, 'kernel_regularizer': None, 'bias_regularizer': None, 'activity_regularizer': None, 'kernel_constraint': None, 'bias_constraint': None}\n",
      "----------------------------------------\n",
      "block2_pool True\n",
      "Layer Configuration:\n",
      "{'name': 'block2_pool', 'trainable': True, 'dtype': 'float32', 'pool_size': (2, 2), 'padding': 'valid', 'strides': (2, 2), 'data_format': 'channels_last'}\n",
      "----------------------------------------\n",
      "block3_conv1 True\n",
      "Layer Configuration:\n",
      "{'name': 'block3_conv1', 'trainable': True, 'dtype': 'float32', 'filters': 256, 'kernel_size': (3, 3), 'strides': (1, 1), 'padding': 'same', 'data_format': 'channels_last', 'dilation_rate': (1, 1), 'groups': 1, 'activation': 'relu', 'use_bias': True, 'kernel_initializer': {'class_name': 'GlorotUniform', 'config': {'seed': None}}, 'bias_initializer': {'class_name': 'Zeros', 'config': {}}, 'kernel_regularizer': None, 'bias_regularizer': None, 'activity_regularizer': None, 'kernel_constraint': None, 'bias_constraint': None}\n",
      "----------------------------------------\n",
      "block3_conv2 True\n",
      "Layer Configuration:\n",
      "{'name': 'block3_conv2', 'trainable': True, 'dtype': 'float32', 'filters': 256, 'kernel_size': (3, 3), 'strides': (1, 1), 'padding': 'same', 'data_format': 'channels_last', 'dilation_rate': (1, 1), 'groups': 1, 'activation': 'relu', 'use_bias': True, 'kernel_initializer': {'class_name': 'GlorotUniform', 'config': {'seed': None}}, 'bias_initializer': {'class_name': 'Zeros', 'config': {}}, 'kernel_regularizer': None, 'bias_regularizer': None, 'activity_regularizer': None, 'kernel_constraint': None, 'bias_constraint': None}\n",
      "----------------------------------------\n",
      "block3_conv3 True\n",
      "Layer Configuration:\n",
      "{'name': 'block3_conv3', 'trainable': True, 'dtype': 'float32', 'filters': 256, 'kernel_size': (3, 3), 'strides': (1, 1), 'padding': 'same', 'data_format': 'channels_last', 'dilation_rate': (1, 1), 'groups': 1, 'activation': 'relu', 'use_bias': True, 'kernel_initializer': {'class_name': 'GlorotUniform', 'config': {'seed': None}}, 'bias_initializer': {'class_name': 'Zeros', 'config': {}}, 'kernel_regularizer': None, 'bias_regularizer': None, 'activity_regularizer': None, 'kernel_constraint': None, 'bias_constraint': None}\n",
      "----------------------------------------\n",
      "block3_pool True\n",
      "Layer Configuration:\n",
      "{'name': 'block3_pool', 'trainable': True, 'dtype': 'float32', 'pool_size': (2, 2), 'padding': 'valid', 'strides': (2, 2), 'data_format': 'channels_last'}\n",
      "----------------------------------------\n",
      "block4_conv1 True\n",
      "Layer Configuration:\n",
      "{'name': 'block4_conv1', 'trainable': True, 'dtype': 'float32', 'filters': 512, 'kernel_size': (3, 3), 'strides': (1, 1), 'padding': 'same', 'data_format': 'channels_last', 'dilation_rate': (1, 1), 'groups': 1, 'activation': 'relu', 'use_bias': True, 'kernel_initializer': {'class_name': 'GlorotUniform', 'config': {'seed': None}}, 'bias_initializer': {'class_name': 'Zeros', 'config': {}}, 'kernel_regularizer': None, 'bias_regularizer': None, 'activity_regularizer': None, 'kernel_constraint': None, 'bias_constraint': None}\n",
      "----------------------------------------\n",
      "block4_conv2 True\n",
      "Layer Configuration:\n",
      "{'name': 'block4_conv2', 'trainable': True, 'dtype': 'float32', 'filters': 512, 'kernel_size': (3, 3), 'strides': (1, 1), 'padding': 'same', 'data_format': 'channels_last', 'dilation_rate': (1, 1), 'groups': 1, 'activation': 'relu', 'use_bias': True, 'kernel_initializer': {'class_name': 'GlorotUniform', 'config': {'seed': None}}, 'bias_initializer': {'class_name': 'Zeros', 'config': {}}, 'kernel_regularizer': None, 'bias_regularizer': None, 'activity_regularizer': None, 'kernel_constraint': None, 'bias_constraint': None}\n",
      "----------------------------------------\n",
      "block4_conv3 True\n",
      "Layer Configuration:\n",
      "{'name': 'block4_conv3', 'trainable': True, 'dtype': 'float32', 'filters': 512, 'kernel_size': (3, 3), 'strides': (1, 1), 'padding': 'same', 'data_format': 'channels_last', 'dilation_rate': (1, 1), 'groups': 1, 'activation': 'relu', 'use_bias': True, 'kernel_initializer': {'class_name': 'GlorotUniform', 'config': {'seed': None}}, 'bias_initializer': {'class_name': 'Zeros', 'config': {}}, 'kernel_regularizer': None, 'bias_regularizer': None, 'activity_regularizer': None, 'kernel_constraint': None, 'bias_constraint': None}\n",
      "----------------------------------------\n",
      "block4_pool True\n",
      "Layer Configuration:\n",
      "{'name': 'block4_pool', 'trainable': True, 'dtype': 'float32', 'pool_size': (2, 2), 'padding': 'valid', 'strides': (2, 2), 'data_format': 'channels_last'}\n",
      "----------------------------------------\n",
      "block5_conv1 True\n",
      "Layer Configuration:\n",
      "{'name': 'block5_conv1', 'trainable': True, 'dtype': 'float32', 'filters': 512, 'kernel_size': (3, 3), 'strides': (1, 1), 'padding': 'same', 'data_format': 'channels_last', 'dilation_rate': (1, 1), 'groups': 1, 'activation': 'relu', 'use_bias': True, 'kernel_initializer': {'class_name': 'GlorotUniform', 'config': {'seed': None}}, 'bias_initializer': {'class_name': 'Zeros', 'config': {}}, 'kernel_regularizer': None, 'bias_regularizer': None, 'activity_regularizer': None, 'kernel_constraint': None, 'bias_constraint': None}\n",
      "----------------------------------------\n",
      "block5_conv2 True\n",
      "Layer Configuration:\n",
      "{'name': 'block5_conv2', 'trainable': True, 'dtype': 'float32', 'filters': 512, 'kernel_size': (3, 3), 'strides': (1, 1), 'padding': 'same', 'data_format': 'channels_last', 'dilation_rate': (1, 1), 'groups': 1, 'activation': 'relu', 'use_bias': True, 'kernel_initializer': {'class_name': 'GlorotUniform', 'config': {'seed': None}}, 'bias_initializer': {'class_name': 'Zeros', 'config': {}}, 'kernel_regularizer': None, 'bias_regularizer': None, 'activity_regularizer': None, 'kernel_constraint': None, 'bias_constraint': None}\n",
      "----------------------------------------\n",
      "block5_conv3 True\n",
      "Layer Configuration:\n",
      "{'name': 'block5_conv3', 'trainable': True, 'dtype': 'float32', 'filters': 512, 'kernel_size': (3, 3), 'strides': (1, 1), 'padding': 'same', 'data_format': 'channels_last', 'dilation_rate': (1, 1), 'groups': 1, 'activation': 'relu', 'use_bias': True, 'kernel_initializer': {'class_name': 'GlorotUniform', 'config': {'seed': None}}, 'bias_initializer': {'class_name': 'Zeros', 'config': {}}, 'kernel_regularizer': None, 'bias_regularizer': None, 'activity_regularizer': None, 'kernel_constraint': None, 'bias_constraint': None}\n",
      "----------------------------------------\n",
      "input_3 True\n",
      "Layer Configuration:\n",
      "{'batch_input_shape': (None, 180), 'dtype': 'float32', 'sparse': False, 'ragged': False, 'name': 'input_3'}\n",
      "----------------------------------------\n",
      "block5_pool True\n",
      "Layer Configuration:\n",
      "{'name': 'block5_pool', 'trainable': True, 'dtype': 'float32', 'pool_size': (2, 2), 'padding': 'valid', 'strides': (2, 2), 'data_format': 'channels_last'}\n",
      "----------------------------------------\n",
      "embedding True\n",
      "Layer Configuration:\n",
      "{'name': 'embedding', 'trainable': True, 'dtype': 'float32', 'batch_input_shape': (None, None), 'input_dim': 11352, 'output_dim': 100, 'embeddings_initializer': {'class_name': 'RandomUniform', 'config': {'minval': -0.05, 'maxval': 0.05, 'seed': None}}, 'embeddings_regularizer': None, 'activity_regularizer': None, 'embeddings_constraint': None, 'mask_zero': False, 'input_length': None}\n",
      "----------------------------------------\n",
      "global_average_pooling2d True\n",
      "Layer Configuration:\n",
      "{'name': 'global_average_pooling2d', 'trainable': True, 'dtype': 'float32', 'data_format': 'channels_last', 'keepdims': False}\n",
      "----------------------------------------\n",
      "bidirectional True\n",
      "Layer Configuration:\n",
      "{'name': 'bidirectional', 'trainable': True, 'dtype': 'float32', 'layer': {'class_name': 'LSTM', 'config': {'name': 'lstm', 'trainable': True, 'dtype': 'float32', 'return_sequences': False, 'return_state': False, 'go_backwards': False, 'stateful': False, 'unroll': False, 'time_major': False, 'units': 128, 'activation': 'tanh', 'recurrent_activation': 'sigmoid', 'use_bias': True, 'kernel_initializer': {'class_name': 'GlorotUniform', 'config': {'seed': None}}, 'recurrent_initializer': {'class_name': 'Orthogonal', 'config': {'gain': 1.0, 'seed': None}}, 'bias_initializer': {'class_name': 'Zeros', 'config': {}}, 'unit_forget_bias': True, 'kernel_regularizer': None, 'recurrent_regularizer': None, 'bias_regularizer': None, 'activity_regularizer': None, 'kernel_constraint': None, 'recurrent_constraint': None, 'bias_constraint': None, 'dropout': 0.01, 'recurrent_dropout': 0.0, 'implementation': 2}}, 'merge_mode': 'concat'}\n",
      "----------------------------------------\n",
      "dense True\n",
      "Layer Configuration:\n",
      "{'name': 'dense', 'trainable': True, 'dtype': 'float32', 'units': 7, 'activation': 'softmax', 'use_bias': True, 'kernel_initializer': {'class_name': 'GlorotUniform', 'config': {'seed': None}}, 'bias_initializer': {'class_name': 'Zeros', 'config': {}}, 'kernel_regularizer': None, 'bias_regularizer': None, 'activity_regularizer': None, 'kernel_constraint': None, 'bias_constraint': None}\n",
      "----------------------------------------\n",
      "dense_2 True\n",
      "Layer Configuration:\n",
      "{'name': 'dense_2', 'trainable': True, 'dtype': 'float32', 'units': 7, 'activation': 'softmax', 'use_bias': True, 'kernel_initializer': {'class_name': 'GlorotUniform', 'config': {'seed': None}}, 'bias_initializer': {'class_name': 'Zeros', 'config': {}}, 'kernel_regularizer': None, 'bias_regularizer': None, 'activity_regularizer': None, 'kernel_constraint': None, 'bias_constraint': None}\n",
      "----------------------------------------\n",
      "concatenate True\n",
      "Layer Configuration:\n",
      "{'name': 'concatenate', 'trainable': True, 'dtype': 'float32', 'axis': -1}\n",
      "----------------------------------------\n",
      "dropout True\n",
      "Layer Configuration:\n",
      "{'name': 'dropout', 'trainable': True, 'dtype': 'float32', 'rate': 0.2, 'noise_shape': None, 'seed': None}\n",
      "----------------------------------------\n",
      "dense_4 True\n",
      "Layer Configuration:\n",
      "{'name': 'dense_4', 'trainable': True, 'dtype': 'float32', 'units': 64, 'activation': 'relu', 'use_bias': True, 'kernel_initializer': {'class_name': 'GlorotUniform', 'config': {'seed': None}}, 'bias_initializer': {'class_name': 'Zeros', 'config': {}}, 'kernel_regularizer': None, 'bias_regularizer': None, 'activity_regularizer': None, 'kernel_constraint': None, 'bias_constraint': None}\n",
      "----------------------------------------\n",
      "dense_5 True\n",
      "Layer Configuration:\n",
      "{'name': 'dense_5', 'trainable': True, 'dtype': 'float32', 'units': 7, 'activation': 'softmax', 'use_bias': True, 'kernel_initializer': {'class_name': 'GlorotUniform', 'config': {'seed': None}}, 'bias_initializer': {'class_name': 'Zeros', 'config': {}}, 'kernel_regularizer': None, 'bias_regularizer': None, 'activity_regularizer': None, 'kernel_constraint': None, 'bias_constraint': None}\n",
      "----------------------------------------\n"
     ]
    }
   ],
   "source": [
    "model = load_model(models_path+'Models_3/'+ 'vgg16LSTM.h5') \n",
    "for layer in model.layers:\n",
    "    print(layer.name, layer.trainable)\n",
    "    print('Layer Configuration:')\n",
    "    print(layer.get_config(), end='\\n{}\\n'.format('----'*10))"
   ]
  },
  {
   "cell_type": "code",
   "execution_count": null,
   "metadata": {
    "colab": {
     "base_uri": "https://localhost:8080/"
    },
    "id": "QjA7aS70NZMd",
    "outputId": "a714b950-669b-47d1-a21e-f57aaf1d642b"
   },
   "outputs": [
    {
     "name": "stdout",
     "output_type": "stream",
     "text": [
      "13/13 [==============================] - 2s 61ms/step\n"
     ]
    }
   ],
   "source": [
    "def create_truncated_model(trained_model):\n",
    "    \n",
    "    #model = load_model(folder_path+'Models_2/'+'vgg16.h5')\n",
    "    #\n",
    "    for i, layer in enumerate(model.layers):\n",
    "        layer.set_weights(trained_model.layers[i].get_weights())\n",
    "    model.compile(optimizer='adam',\n",
    "              loss='categorical_crossentropy',\n",
    "              metrics=['accuracy'])\n",
    "    return model\n",
    "\n",
    "# model = create_lstm_attention_resnet_model()\n",
    "# model.load_weights(folder_path+'Models_2/'+ 'resnet_lstm_att.h5') \n",
    "\n",
    "model = load_model(models_path+'Models_3/'+'resnetLSTM.h5')\n",
    "\n",
    "truncated_model = create_truncated_model(model)\n",
    "hidden_features = truncated_model.predict([test_image,test_pad_sequences])"
   ]
  },
  {
   "cell_type": "code",
   "execution_count": null,
   "metadata": {
    "colab": {
     "base_uri": "https://localhost:8080/"
    },
    "id": "XMHoPARANlNW",
    "outputId": "98ae4622-cd20-4ee9-c90a-be82253b0338"
   },
   "outputs": [
    {
     "name": "stdout",
     "output_type": "stream",
     "text": [
      "Variance PCA: 0.9203045964241028\n",
      "[t-SNE] Computing 61 nearest neighbors...\n",
      "[t-SNE] Indexed 414 samples in 0.013s...\n",
      "[t-SNE] Computed neighbors for 414 samples in 0.007s...\n",
      "[t-SNE] Computed conditional probabilities for sample 414 / 414\n",
      "[t-SNE] Mean sigma: 0.000011\n",
      "[t-SNE] KL divergence after 250 iterations with early exaggeration: 44.397621\n",
      "[t-SNE] KL divergence after 1000 iterations: 0.112561\n"
     ]
    }
   ],
   "source": [
    "from sklearn.decomposition import PCA\n",
    "from sklearn.manifold import TSNE\n",
    "\n",
    "pca = PCA(n_components=5)\n",
    "pca_result = pca.fit_transform(hidden_features)\n",
    "print('Variance PCA: {}'.format(np.sum(pca.explained_variance_ratio_)))\n",
    "##Variance PCA: 0.993621154832802\n",
    "\n",
    "#Run T-SNE on the PCA features.\n",
    "tsne = TSNE(n_components=2, perplexity=20, verbose = 1)\n",
    "tsne_results = tsne.fit_transform(pca_result)"
   ]
  },
  {
   "cell_type": "code",
   "execution_count": null,
   "metadata": {
    "colab": {
     "base_uri": "https://localhost:8080/",
     "height": 468
    },
    "id": "370ncpk0U835",
    "outputId": "ccde7ba8-2340-42d2-ace3-1e1f11420c27"
   },
   "outputs": [
    {
     "data": {
      "image/png": "[encoded data removed]",
      "text/plain": [
       "<Figure size 700x500 with 1 Axes>"
      ]
     },
     "metadata": {},
     "output_type": "display_data"
    }
   ],
   "source": [
    "from keras.utils import np_utils\n",
    "import matplotlib.pyplot as plt\n",
    "%matplotlib inline\n",
    "\n",
    "y_test_cat = np_utils.to_categorical(test_data['enc_label'], num_classes = 7)\n",
    "color_map = np.argmax(y_test_cat, axis=1)\n",
    "plt.figure(figsize=(7,5))\n",
    "class_labels = ['happy','angry','disgust','fear','sad','surprise','other']\n",
    "for i,cl in enumerate(range(7)):\n",
    "    indices = np.where(color_map==cl)\n",
    "    indices = indices[0]\n",
    "    plt.scatter(tsne_results[indices,0], tsne_results[indices, 1], label=class_labels[i],marker='o',s=50)\n",
    "plt.title('Feature visulaiztion of a multimodal model resnet_LSTM')    \n",
    "plt.legend()\n",
    "plt.savefig(folder_path+'fv.png',dpi = 700,bbox_inches ='tight')\n",
    "plt.show()\n",
    "\n"
   ]
  },
  {
   "cell_type": "code",
   "execution_count": null,
   "metadata": {
    "id": "qAiNV9HyRviP"
   },
   "outputs": [],
   "source": [
    "# from keras.utils import np_utils\n",
    "# import matplotlib.pyplot as plt\n",
    "# %matplotlib inline\n",
    "\n",
    "# y_test_cat = np_utils.to_categorical(test_data['enc_label'], num_classes = 7)\n",
    "# color_map = np.argmax(y_test_cat, axis=1)\n",
    "# plt.figure(figsize=(7,5))\n",
    "# class_labels = ['happy','angry','disgust','fear','sad','surprise','other']\n",
    "# for i,cl in enumerate(range(7)):\n",
    "#     indices = np.where(color_map==cl)\n",
    "#     indices = indices[0]\n",
    "#     plt.scatter(tsne_results[indices,0], tsne_results[indices, 1], label=class_labels[i],marker='o',s=50)\n",
    "# plt.title('Feature visulaiztion of the proposed model (with attention)')    \n",
    "# plt.legend()\n",
    "# plt.savefig(folder_path+'fv-a.png',dpi = 700,bbox_inches ='tight')\n",
    "# plt.show()\n",
    "\n"
   ]
  },
  {
   "cell_type": "code",
   "execution_count": null,
   "metadata": {
    "colab": {
     "base_uri": "https://localhost:8080/"
    },
    "id": "L9HZoMCPXPrd",
    "outputId": "9a0e7334-231b-4f23-96cc-a851c0bd09aa"
   },
   "outputs": [
    {
     "data": {
      "text/plain": [
       "[<keras.engine.functional.Functional at 0x7f553ad92c20>,\n",
       " <keras.engine.functional.Functional at 0x7f55365da080>]"
      ]
     },
     "execution_count": 112,
     "metadata": {},
     "output_type": "execute_result"
    }
   ],
   "source": [
    "text_models_list"
   ]
  },
  {
   "cell_type": "code",
   "execution_count": null,
   "metadata": {
    "colab": {
     "base_uri": "https://localhost:8080/"
    },
    "id": "a4VCTKQwXjZq",
    "outputId": "bb2ffbb5-b570-4c7c-a2ff-5e388926d83e"
   },
   "outputs": [
    {
     "name": "stdout",
     "output_type": "stream",
     "text": [
      "Downloading data from https://storage.googleapis.com/tensorflow/keras-applications/inception_v3/inception_v3_weights_tf_dim_ordering_tf_kernels_notop.h5\n",
      "87910968/87910968 [==============================] - 5s 0us/step\n"
     ]
    }
   ],
   "source": [
    "### Multimodal models with Inception \n",
    "\n",
    "visual_model_name = ['inception']\n",
    "visual_models_list = [inception_model()]\n",
    "\n",
    "# textual_model_name = ['LSTM','CNN', 'LSTM-CNN']\n",
    "textual_model_name = ['LSTM','CNN']\n",
    "text_models_list = create_keras_embeddings_models(180)\n",
    "\n",
    "# keras.backend.clear_session()\n",
    "\n",
    "# for vm,visual_model in enumerate(visual_models_list):\n",
    "#   for tm,textual_model in enumerate(text_models_list):\n",
    "#     # Concatenating the output of 2 classifiers\n",
    "#     con_layer = keras.layers.concatenate([visual_model.output, textual_model.output])\n",
    "#     #dropout = Dropout(0.2)(con_layer)\n",
    "#     #final_dense = Dense(64, activation=\"relu\")(dropout)\n",
    "#     out = Dense(6,activation='softmax')(con_layer)\n",
    "     \n",
    "#     #Defining model input and output\n",
    "#     com_model = Model(inputs = [visual_model.input, textual_model.input], outputs=out)\n",
    "      \n",
    "#     com_model.compile(loss='sparse_categorical_crossentropy', optimizer=RMSprop(), metrics = [\"accuracy\"])\n",
    "#     print(f\"Model Name: {visual_model_name[vm]}+{textual_model_name[tm]}\\n\")\n",
    "#     com_model.fit([train_image,train_pad_sequences],\n",
    "#     train_data['enc_label'],\n",
    "#     epochs=50,\n",
    "#     batch_size =64,\n",
    "#     validation_split=0.1,\n",
    "#     verbose =1,\n",
    "#     callbacks = callbacks_check(visual_model_name[vm] + textual_model_name[tm]))\n",
    "\n",
    "\n",
    "# visual_model = inception_model()\n",
    "# textual_model = text_models_list[2]\n",
    "\n",
    "# # Concatenating the output of 2 classifiers\n",
    "# con_layer = keras.layers.concatenate([visual_model.output, textual_model.output])\n",
    "# #dropout = Dropout(0.2)(con_layer)\n",
    "# #final_dense = Dense(64, activation=\"relu\")(dropout)\n",
    "# out = Dense(7,activation='softmax')(con_layer)\n",
    "     \n",
    "#     #Defining model input and output\n",
    "# com_model = Model(inputs = [visual_model.input, textual_model.input], outputs=out)\n",
    "      \n",
    "# com_model.compile(loss='sparse_categorical_crossentropy', optimizer=RMSprop(), metrics = [\"accuracy\"])\n",
    "#     #print(f\"Model Name: {visual_model_name[vm]}+{textual_model_name[tm]}\\n\")\n",
    "# com_model.fit([train_image,train_pad_sequences],\n",
    "#   train_data['enc_label'],\n",
    "#     epochs=50,\n",
    "#     batch_size =32,\n",
    "#     validation_data=([valid_image,valid_pad_sequences],y_valid),\n",
    "#     verbose =1,\n",
    "#     callbacks = callbacks_check('inception+bilstm-CNN'))\n",
    "\n",
    "\n",
    "\n"
   ]
  },
  {
   "cell_type": "code",
   "execution_count": null,
   "metadata": {
    "colab": {
     "base_uri": "https://localhost:8080/"
    },
    "id": "Wl4VFBGgYmz1",
    "outputId": "c7213a87-0204-4d19-c016-8ff24b06e253"
   },
   "outputs": [
    {
     "name": "stdout",
     "output_type": "stream",
     "text": [
      "Model Name: inception+LSTM\n",
      "\n",
      "Epoch 1/50\n",
      "120/120 [==============================] - ETA: 0s - loss: 1.9063 - accuracy: 0.2092\n",
      "Epoch 1: val_accuracy improved from -inf to 0.21981, saving model to /content/drive/MyDrive/TaheriThesis/Dataset/Multimodal Sentiment/Models_3/inceptionLSTM.h5\n",
      "120/120 [==============================] - 84s 323ms/step - loss: 1.9063 - accuracy: 0.2092 - val_loss: 1.9156 - val_accuracy: 0.2198\n",
      "Epoch 2/50\n",
      "120/120 [==============================] - ETA: 0s - loss: 1.9003 - accuracy: 0.2249\n",
      "Epoch 2: val_accuracy did not improve from 0.21981\n",
      "120/120 [==============================] - 19s 158ms/step - loss: 1.9003 - accuracy: 0.2249 - val_loss: 1.9160 - val_accuracy: 0.2198\n",
      "Epoch 3/50\n",
      "120/120 [==============================] - ETA: 0s - loss: 1.9027 - accuracy: 0.2241\n",
      "Epoch 3: val_accuracy did not improve from 0.21981\n",
      "120/120 [==============================] - 17s 139ms/step - loss: 1.9027 - accuracy: 0.2241 - val_loss: 1.9147 - val_accuracy: 0.2198\n",
      "Epoch 4/50\n",
      "120/120 [==============================] - ETA: 0s - loss: 1.8993 - accuracy: 0.2246\n",
      "Epoch 4: val_accuracy did not improve from 0.21981\n",
      "120/120 [==============================] - 16s 134ms/step - loss: 1.8993 - accuracy: 0.2246 - val_loss: 1.9203 - val_accuracy: 0.2198\n",
      "Epoch 5/50\n",
      "120/120 [==============================] - ETA: 0s - loss: 1.8992 - accuracy: 0.2246\n",
      "Epoch 5: val_accuracy did not improve from 0.21981\n",
      "120/120 [==============================] - 16s 131ms/step - loss: 1.8992 - accuracy: 0.2246 - val_loss: 1.9152 - val_accuracy: 0.2198\n",
      "Epoch 6/50\n",
      "120/120 [==============================] - ETA: 0s - loss: 1.8991 - accuracy: 0.2236\n",
      "Epoch 6: val_accuracy did not improve from 0.21981\n",
      "120/120 [==============================] - 16s 130ms/step - loss: 1.8991 - accuracy: 0.2236 - val_loss: 1.9144 - val_accuracy: 0.2198\n",
      "Epoch 7/50\n",
      "120/120 [==============================] - ETA: 0s - loss: 1.8973 - accuracy: 0.2252\n",
      "Epoch 7: val_accuracy improved from 0.21981 to 0.22222, saving model to /content/drive/MyDrive/TaheriThesis/Dataset/Multimodal Sentiment/Models_3/inceptionLSTM.h5\n",
      "120/120 [==============================] - 41s 347ms/step - loss: 1.8973 - accuracy: 0.2252 - val_loss: 1.9177 - val_accuracy: 0.2222\n",
      "Epoch 8/50\n",
      "120/120 [==============================] - ETA: 0s - loss: 1.8967 - accuracy: 0.2223\n",
      "Epoch 8: val_accuracy did not improve from 0.22222\n",
      "120/120 [==============================] - 16s 132ms/step - loss: 1.8967 - accuracy: 0.2223 - val_loss: 1.9126 - val_accuracy: 0.2198\n",
      "Epoch 9/50\n",
      "120/120 [==============================] - ETA: 0s - loss: 1.8979 - accuracy: 0.2241\n",
      "Epoch 9: val_accuracy did not improve from 0.22222\n",
      "120/120 [==============================] - 16s 130ms/step - loss: 1.8979 - accuracy: 0.2241 - val_loss: 1.9030 - val_accuracy: 0.2198\n",
      "Epoch 10/50\n",
      "120/120 [==============================] - ETA: 0s - loss: 1.8379 - accuracy: 0.2585\n",
      "Epoch 10: val_accuracy improved from 0.22222 to 0.32367, saving model to /content/drive/MyDrive/TaheriThesis/Dataset/Multimodal Sentiment/Models_3/inceptionLSTM.h5\n",
      "120/120 [==============================] - 40s 338ms/step - loss: 1.8379 - accuracy: 0.2585 - val_loss: 1.7327 - val_accuracy: 0.3237\n",
      "Epoch 11/50\n",
      "120/120 [==============================] - ETA: 0s - loss: 1.6593 - accuracy: 0.3196\n",
      "Epoch 11: val_accuracy improved from 0.32367 to 0.35024, saving model to /content/drive/MyDrive/TaheriThesis/Dataset/Multimodal Sentiment/Models_3/inceptionLSTM.h5\n",
      "120/120 [==============================] - 26s 216ms/step - loss: 1.6593 - accuracy: 0.3196 - val_loss: 1.5966 - val_accuracy: 0.3502\n",
      "Epoch 12/50\n",
      "120/120 [==============================] - ETA: 0s - loss: 1.5209 - accuracy: 0.3439\n",
      "Epoch 12: val_accuracy improved from 0.35024 to 0.38164, saving model to /content/drive/MyDrive/TaheriThesis/Dataset/Multimodal Sentiment/Models_3/inceptionLSTM.h5\n",
      "120/120 [==============================] - 26s 215ms/step - loss: 1.5209 - accuracy: 0.3439 - val_loss: 1.5322 - val_accuracy: 0.3816\n",
      "Epoch 13/50\n",
      "120/120 [==============================] - ETA: 0s - loss: 1.4021 - accuracy: 0.4028\n",
      "Epoch 13: val_accuracy improved from 0.38164 to 0.41063, saving model to /content/drive/MyDrive/TaheriThesis/Dataset/Multimodal Sentiment/Models_3/inceptionLSTM.h5\n",
      "120/120 [==============================] - 43s 359ms/step - loss: 1.4021 - accuracy: 0.4028 - val_loss: 1.4469 - val_accuracy: 0.4106\n",
      "Epoch 14/50\n",
      "120/120 [==============================] - ETA: 0s - loss: 1.2792 - accuracy: 0.4740\n",
      "Epoch 14: val_accuracy improved from 0.41063 to 0.48068, saving model to /content/drive/MyDrive/TaheriThesis/Dataset/Multimodal Sentiment/Models_3/inceptionLSTM.h5\n",
      "120/120 [==============================] - 42s 355ms/step - loss: 1.2792 - accuracy: 0.4740 - val_loss: 1.3491 - val_accuracy: 0.4807\n",
      "Epoch 15/50\n",
      "120/120 [==============================] - ETA: 0s - loss: 1.1483 - accuracy: 0.5393\n",
      "Epoch 15: val_accuracy did not improve from 0.48068\n",
      "120/120 [==============================] - 16s 133ms/step - loss: 1.1483 - accuracy: 0.5393 - val_loss: 1.3861 - val_accuracy: 0.4734\n",
      "Epoch 16/50\n",
      "120/120 [==============================] - ETA: 0s - loss: 1.0146 - accuracy: 0.5818\n",
      "Epoch 16: val_accuracy improved from 0.48068 to 0.50000, saving model to /content/drive/MyDrive/TaheriThesis/Dataset/Multimodal Sentiment/Models_3/inceptionLSTM.h5\n",
      "120/120 [==============================] - 39s 324ms/step - loss: 1.0146 - accuracy: 0.5818 - val_loss: 1.2675 - val_accuracy: 0.5000\n",
      "Epoch 17/50\n",
      "120/120 [==============================] - ETA: 0s - loss: 0.9417 - accuracy: 0.6097\n",
      "Epoch 17: val_accuracy did not improve from 0.50000\n",
      "120/120 [==============================] - 15s 126ms/step - loss: 0.9417 - accuracy: 0.6097 - val_loss: 1.2984 - val_accuracy: 0.4952\n",
      "Epoch 18/50\n",
      "120/120 [==============================] - ETA: 0s - loss: 0.8766 - accuracy: 0.6311\n",
      "Epoch 18: val_accuracy did not improve from 0.50000\n",
      "120/120 [==============================] - 16s 132ms/step - loss: 0.8766 - accuracy: 0.6311 - val_loss: 1.2621 - val_accuracy: 0.4952\n",
      "Epoch 19/50\n",
      "120/120 [==============================] - ETA: 0s - loss: 0.8274 - accuracy: 0.6668\n",
      "Epoch 19: val_accuracy improved from 0.50000 to 0.55072, saving model to /content/drive/MyDrive/TaheriThesis/Dataset/Multimodal Sentiment/Models_3/inceptionLSTM.h5\n",
      "120/120 [==============================] - 45s 379ms/step - loss: 0.8274 - accuracy: 0.6668 - val_loss: 1.2579 - val_accuracy: 0.5507\n",
      "Epoch 20/50\n",
      "120/120 [==============================] - ETA: 0s - loss: 0.7657 - accuracy: 0.7008\n",
      "Epoch 20: val_accuracy improved from 0.55072 to 0.60628, saving model to /content/drive/MyDrive/TaheriThesis/Dataset/Multimodal Sentiment/Models_3/inceptionLSTM.h5\n",
      "120/120 [==============================] - 31s 259ms/step - loss: 0.7657 - accuracy: 0.7008 - val_loss: 1.2909 - val_accuracy: 0.6063\n",
      "Epoch 21/50\n",
      "120/120 [==============================] - ETA: 0s - loss: 0.7361 - accuracy: 0.7185\n",
      "Epoch 21: val_accuracy improved from 0.60628 to 0.62802, saving model to /content/drive/MyDrive/TaheriThesis/Dataset/Multimodal Sentiment/Models_3/inceptionLSTM.h5\n",
      "120/120 [==============================] - 30s 248ms/step - loss: 0.7361 - accuracy: 0.7185 - val_loss: 1.2709 - val_accuracy: 0.6280\n",
      "Epoch 22/50\n",
      "120/120 [==============================] - ETA: 0s - loss: 0.6954 - accuracy: 0.7352\n",
      "Epoch 22: val_accuracy improved from 0.62802 to 0.63768, saving model to /content/drive/MyDrive/TaheriThesis/Dataset/Multimodal Sentiment/Models_3/inceptionLSTM.h5\n",
      "120/120 [==============================] - 30s 251ms/step - loss: 0.6954 - accuracy: 0.7352 - val_loss: 1.2551 - val_accuracy: 0.6377\n",
      "Epoch 23/50\n",
      "120/120 [==============================] - ETA: 0s - loss: 0.6916 - accuracy: 0.7386\n",
      "Epoch 23: val_accuracy improved from 0.63768 to 0.65217, saving model to /content/drive/MyDrive/TaheriThesis/Dataset/Multimodal Sentiment/Models_3/inceptionLSTM.h5\n",
      "120/120 [==============================] - 41s 345ms/step - loss: 0.6916 - accuracy: 0.7386 - val_loss: 1.2049 - val_accuracy: 0.6522\n",
      "Epoch 24/50\n",
      "120/120 [==============================] - ETA: 0s - loss: 0.6418 - accuracy: 0.7511\n",
      "Epoch 24: val_accuracy improved from 0.65217 to 0.68116, saving model to /content/drive/MyDrive/TaheriThesis/Dataset/Multimodal Sentiment/Models_3/inceptionLSTM.h5\n",
      "120/120 [==============================] - 31s 258ms/step - loss: 0.6418 - accuracy: 0.7511 - val_loss: 1.1932 - val_accuracy: 0.6812\n",
      "Epoch 25/50\n",
      "120/120 [==============================] - ETA: 0s - loss: 0.6249 - accuracy: 0.7595\n",
      "Epoch 25: val_accuracy did not improve from 0.68116\n",
      "120/120 [==============================] - 16s 133ms/step - loss: 0.6249 - accuracy: 0.7595 - val_loss: 1.2678 - val_accuracy: 0.6546\n",
      "Epoch 26/50\n",
      "120/120 [==============================] - ETA: 0s - loss: 0.6071 - accuracy: 0.7589\n",
      "Epoch 26: val_accuracy did not improve from 0.68116\n",
      "120/120 [==============================] - 16s 132ms/step - loss: 0.6071 - accuracy: 0.7589 - val_loss: 1.2695 - val_accuracy: 0.6546\n",
      "Epoch 27/50\n",
      "120/120 [==============================] - ETA: 0s - loss: 0.5705 - accuracy: 0.7780\n",
      "Epoch 27: val_accuracy did not improve from 0.68116\n",
      "120/120 [==============================] - 15s 125ms/step - loss: 0.5705 - accuracy: 0.7780 - val_loss: 1.2864 - val_accuracy: 0.6763\n",
      "Epoch 28/50\n",
      "120/120 [==============================] - ETA: 0s - loss: 0.5324 - accuracy: 0.7983\n",
      "Epoch 28: val_accuracy did not improve from 0.68116\n",
      "120/120 [==============================] - 15s 126ms/step - loss: 0.5324 - accuracy: 0.7983 - val_loss: 1.2539 - val_accuracy: 0.6691\n",
      "Epoch 29/50\n",
      "120/120 [==============================] - ETA: 0s - loss: 0.5046 - accuracy: 0.8161\n",
      "Epoch 29: val_accuracy did not improve from 0.68116\n",
      "120/120 [==============================] - 15s 125ms/step - loss: 0.5046 - accuracy: 0.8161 - val_loss: 1.2346 - val_accuracy: 0.6787\n",
      "Epoch 30/50\n",
      "120/120 [==============================] - ETA: 0s - loss: 0.4801 - accuracy: 0.8244\n",
      "Epoch 30: val_accuracy improved from 0.68116 to 0.68357, saving model to /content/drive/MyDrive/TaheriThesis/Dataset/Multimodal Sentiment/Models_3/inceptionLSTM.h5\n",
      "120/120 [==============================] - 46s 385ms/step - loss: 0.4801 - accuracy: 0.8244 - val_loss: 1.2335 - val_accuracy: 0.6836\n",
      "Epoch 31/50\n",
      "120/120 [==============================] - ETA: 0s - loss: 0.4501 - accuracy: 0.8283\n",
      "Epoch 31: val_accuracy improved from 0.68357 to 0.70290, saving model to /content/drive/MyDrive/TaheriThesis/Dataset/Multimodal Sentiment/Models_3/inceptionLSTM.h5\n",
      "120/120 [==============================] - 29s 241ms/step - loss: 0.4501 - accuracy: 0.8283 - val_loss: 1.2774 - val_accuracy: 0.7029\n",
      "Epoch 32/50\n",
      "120/120 [==============================] - ETA: 0s - loss: 0.4612 - accuracy: 0.8226\n",
      "Epoch 32: val_accuracy did not improve from 0.70290\n",
      "120/120 [==============================] - 16s 129ms/step - loss: 0.4612 - accuracy: 0.8226 - val_loss: 1.3119 - val_accuracy: 0.6812\n",
      "Epoch 33/50\n",
      "120/120 [==============================] - ETA: 0s - loss: 0.4565 - accuracy: 0.8182\n",
      "Epoch 33: val_accuracy did not improve from 0.70290\n",
      "120/120 [==============================] - 15s 128ms/step - loss: 0.4565 - accuracy: 0.8182 - val_loss: 1.3813 - val_accuracy: 0.6546\n",
      "Epoch 34/50\n",
      "120/120 [==============================] - ETA: 0s - loss: 0.4111 - accuracy: 0.8497\n",
      "Epoch 34: val_accuracy did not improve from 0.70290\n",
      "120/120 [==============================] - 15s 127ms/step - loss: 0.4111 - accuracy: 0.8497 - val_loss: 1.3632 - val_accuracy: 0.6643\n",
      "Epoch 35/50\n",
      "120/120 [==============================] - ETA: 0s - loss: 0.3839 - accuracy: 0.8756\n",
      "Epoch 35: val_accuracy improved from 0.70290 to 0.73913, saving model to /content/drive/MyDrive/TaheriThesis/Dataset/Multimodal Sentiment/Models_3/inceptionLSTM.h5\n",
      "120/120 [==============================] - 44s 371ms/step - loss: 0.3839 - accuracy: 0.8756 - val_loss: 1.3831 - val_accuracy: 0.7391\n",
      "Epoch 36/50\n",
      "120/120 [==============================] - ETA: 0s - loss: 0.3420 - accuracy: 0.8946\n",
      "Epoch 36: val_accuracy improved from 0.73913 to 0.75121, saving model to /content/drive/MyDrive/TaheriThesis/Dataset/Multimodal Sentiment/Models_3/inceptionLSTM.h5\n",
      "120/120 [==============================] - 29s 241ms/step - loss: 0.3420 - accuracy: 0.8946 - val_loss: 1.3085 - val_accuracy: 0.7512\n",
      "Epoch 37/50\n",
      "120/120 [==============================] - ETA: 0s - loss: 0.3220 - accuracy: 0.9053\n",
      "Epoch 37: val_accuracy improved from 0.75121 to 0.75845, saving model to /content/drive/MyDrive/TaheriThesis/Dataset/Multimodal Sentiment/Models_3/inceptionLSTM.h5\n",
      "120/120 [==============================] - 31s 259ms/step - loss: 0.3220 - accuracy: 0.9053 - val_loss: 1.3618 - val_accuracy: 0.7585\n",
      "Epoch 38/50\n",
      "120/120 [==============================] - ETA: 0s - loss: 0.2943 - accuracy: 0.9168\n",
      "Epoch 38: val_accuracy did not improve from 0.75845\n",
      "120/120 [==============================] - 15s 128ms/step - loss: 0.2943 - accuracy: 0.9168 - val_loss: 1.4360 - val_accuracy: 0.7440\n",
      "Epoch 39/50\n",
      "120/120 [==============================] - ETA: 0s - loss: 0.2648 - accuracy: 0.9301\n",
      "Epoch 39: val_accuracy did not improve from 0.75845\n",
      "120/120 [==============================] - 15s 128ms/step - loss: 0.2648 - accuracy: 0.9301 - val_loss: 1.4666 - val_accuracy: 0.7585\n",
      "Epoch 40/50\n",
      "120/120 [==============================] - ETA: 0s - loss: 0.2568 - accuracy: 0.9363\n",
      "Epoch 40: val_accuracy did not improve from 0.75845\n",
      "120/120 [==============================] - 15s 128ms/step - loss: 0.2568 - accuracy: 0.9363 - val_loss: 1.5456 - val_accuracy: 0.7536\n",
      "Epoch 41/50\n",
      "120/120 [==============================] - ETA: 0s - loss: 0.2594 - accuracy: 0.9314\n",
      "Epoch 41: val_accuracy improved from 0.75845 to 0.76087, saving model to /content/drive/MyDrive/TaheriThesis/Dataset/Multimodal Sentiment/Models_3/inceptionLSTM.h5\n",
      "120/120 [==============================] - 41s 344ms/step - loss: 0.2594 - accuracy: 0.9314 - val_loss: 1.5687 - val_accuracy: 0.7609\n",
      "Epoch 42/50\n",
      "120/120 [==============================] - ETA: 0s - loss: 0.2469 - accuracy: 0.9379\n",
      "Epoch 42: val_accuracy improved from 0.76087 to 0.76329, saving model to /content/drive/MyDrive/TaheriThesis/Dataset/Multimodal Sentiment/Models_3/inceptionLSTM.h5\n",
      "120/120 [==============================] - 31s 259ms/step - loss: 0.2469 - accuracy: 0.9379 - val_loss: 1.6548 - val_accuracy: 0.7633\n",
      "Epoch 43/50\n",
      "120/120 [==============================] - ETA: 0s - loss: 0.2289 - accuracy: 0.9442\n",
      "Epoch 43: val_accuracy did not improve from 0.76329\n",
      "120/120 [==============================] - 16s 134ms/step - loss: 0.2289 - accuracy: 0.9442 - val_loss: 1.6466 - val_accuracy: 0.7633\n",
      "Epoch 44/50\n",
      "120/120 [==============================] - ETA: 0s - loss: 0.2336 - accuracy: 0.9403\n",
      "Epoch 44: val_accuracy improved from 0.76329 to 0.76812, saving model to /content/drive/MyDrive/TaheriThesis/Dataset/Multimodal Sentiment/Models_3/inceptionLSTM.h5\n",
      "120/120 [==============================] - 45s 374ms/step - loss: 0.2336 - accuracy: 0.9403 - val_loss: 1.6230 - val_accuracy: 0.7681\n",
      "Epoch 45/50\n",
      "120/120 [==============================] - ETA: 0s - loss: 0.2181 - accuracy: 0.9434\n",
      "Epoch 45: val_accuracy did not improve from 0.76812\n",
      "120/120 [==============================] - 16s 129ms/step - loss: 0.2181 - accuracy: 0.9434 - val_loss: 1.5962 - val_accuracy: 0.7657\n",
      "Epoch 46/50\n",
      "120/120 [==============================] - ETA: 0s - loss: 0.2096 - accuracy: 0.9442\n",
      "Epoch 46: val_accuracy did not improve from 0.76812\n",
      "120/120 [==============================] - 16s 130ms/step - loss: 0.2096 - accuracy: 0.9442 - val_loss: 1.7225 - val_accuracy: 0.7585\n",
      "Epoch 47/50\n",
      "120/120 [==============================] - ETA: 0s - loss: 0.2176 - accuracy: 0.9384\n",
      "Epoch 47: val_accuracy did not improve from 0.76812\n",
      "120/120 [==============================] - 15s 127ms/step - loss: 0.2176 - accuracy: 0.9384 - val_loss: 1.6610 - val_accuracy: 0.7609\n",
      "Epoch 48/50\n",
      "120/120 [==============================] - ETA: 0s - loss: 0.1968 - accuracy: 0.9481\n",
      "Epoch 48: val_accuracy did not improve from 0.76812\n",
      "120/120 [==============================] - 15s 124ms/step - loss: 0.1968 - accuracy: 0.9481 - val_loss: 1.7917 - val_accuracy: 0.7585\n",
      "Epoch 49/50\n",
      "120/120 [==============================] - ETA: 0s - loss: 0.1842 - accuracy: 0.9502\n",
      "Epoch 49: val_accuracy did not improve from 0.76812\n",
      "120/120 [==============================] - 15s 125ms/step - loss: 0.1842 - accuracy: 0.9502 - val_loss: 1.7744 - val_accuracy: 0.7560\n",
      "Epoch 50/50\n",
      "120/120 [==============================] - ETA: 0s - loss: 0.1784 - accuracy: 0.9523\n",
      "Epoch 50: val_accuracy did not improve from 0.76812\n",
      "120/120 [==============================] - 15s 126ms/step - loss: 0.1784 - accuracy: 0.9523 - val_loss: 1.7369 - val_accuracy: 0.7681\n",
      "Model Name: inception+CNN\n",
      "\n",
      "Epoch 1/50\n",
      "120/120 [==============================] - ETA: 0s - loss: 1.9066 - accuracy: 0.2111\n",
      "Epoch 1: val_accuracy improved from -inf to 0.21981, saving model to /content/drive/MyDrive/TaheriThesis/Dataset/Multimodal Sentiment/Models_3/inceptionCNN.h5\n",
      "120/120 [==============================] - 76s 322ms/step - loss: 1.9066 - accuracy: 0.2111 - val_loss: 1.9094 - val_accuracy: 0.2198\n",
      "Epoch 2/50\n",
      "120/120 [==============================] - ETA: 0s - loss: 1.8747 - accuracy: 0.2538\n",
      "Epoch 2: val_accuracy improved from 0.21981 to 0.30676, saving model to /content/drive/MyDrive/TaheriThesis/Dataset/Multimodal Sentiment/Models_3/inceptionCNN.h5\n",
      "120/120 [==============================] - 35s 294ms/step - loss: 1.8747 - accuracy: 0.2538 - val_loss: 1.8295 - val_accuracy: 0.3068\n",
      "Epoch 3/50\n",
      "120/120 [==============================] - ETA: 0s - loss: 1.6751 - accuracy: 0.3606\n",
      "Epoch 3: val_accuracy improved from 0.30676 to 0.42754, saving model to /content/drive/MyDrive/TaheriThesis/Dataset/Multimodal Sentiment/Models_3/inceptionCNN.h5\n",
      "120/120 [==============================] - 36s 300ms/step - loss: 1.6751 - accuracy: 0.3606 - val_loss: 1.5503 - val_accuracy: 0.4275\n",
      "Epoch 4/50\n",
      "120/120 [==============================] - ETA: 0s - loss: 1.3691 - accuracy: 0.4435\n",
      "Epoch 4: val_accuracy did not improve from 0.42754\n",
      "120/120 [==============================] - 15s 129ms/step - loss: 1.3691 - accuracy: 0.4435 - val_loss: 1.4297 - val_accuracy: 0.4082\n",
      "Epoch 5/50\n",
      "120/120 [==============================] - ETA: 0s - loss: 1.2186 - accuracy: 0.4704\n",
      "Epoch 5: val_accuracy did not improve from 0.42754\n",
      "120/120 [==============================] - 15s 126ms/step - loss: 1.2186 - accuracy: 0.4704 - val_loss: 1.3911 - val_accuracy: 0.4130\n",
      "Epoch 6/50\n",
      "120/120 [==============================] - ETA: 0s - loss: 1.1593 - accuracy: 0.4933\n",
      "Epoch 6: val_accuracy did not improve from 0.42754\n",
      "120/120 [==============================] - 14s 117ms/step - loss: 1.1593 - accuracy: 0.4933 - val_loss: 1.4117 - val_accuracy: 0.4082\n",
      "Epoch 7/50\n",
      "120/120 [==============================] - ETA: 0s - loss: 1.1319 - accuracy: 0.5207\n",
      "Epoch 7: val_accuracy improved from 0.42754 to 0.44203, saving model to /content/drive/MyDrive/TaheriThesis/Dataset/Multimodal Sentiment/Models_3/inceptionCNN.h5\n",
      "120/120 [==============================] - 47s 394ms/step - loss: 1.1319 - accuracy: 0.5207 - val_loss: 1.3754 - val_accuracy: 0.4420\n",
      "Epoch 8/50\n",
      "120/120 [==============================] - ETA: 0s - loss: 1.0456 - accuracy: 0.5617\n",
      "Epoch 8: val_accuracy improved from 0.44203 to 0.48068, saving model to /content/drive/MyDrive/TaheriThesis/Dataset/Multimodal Sentiment/Models_3/inceptionCNN.h5\n",
      "120/120 [==============================] - 34s 283ms/step - loss: 1.0456 - accuracy: 0.5617 - val_loss: 1.3521 - val_accuracy: 0.4807\n",
      "Epoch 9/50\n",
      "120/120 [==============================] - ETA: 0s - loss: 0.9873 - accuracy: 0.5917\n",
      "Epoch 9: val_accuracy improved from 0.48068 to 0.52899, saving model to /content/drive/MyDrive/TaheriThesis/Dataset/Multimodal Sentiment/Models_3/inceptionCNN.h5\n",
      "120/120 [==============================] - 26s 217ms/step - loss: 0.9873 - accuracy: 0.5917 - val_loss: 1.2763 - val_accuracy: 0.5290\n",
      "Epoch 10/50\n",
      "120/120 [==============================] - ETA: 0s - loss: 0.8944 - accuracy: 0.6394\n",
      "Epoch 10: val_accuracy improved from 0.52899 to 0.60628, saving model to /content/drive/MyDrive/TaheriThesis/Dataset/Multimodal Sentiment/Models_3/inceptionCNN.h5\n",
      "120/120 [==============================] - 31s 256ms/step - loss: 0.8944 - accuracy: 0.6394 - val_loss: 1.3002 - val_accuracy: 0.6063\n",
      "Epoch 11/50\n",
      "120/120 [==============================] - ETA: 0s - loss: 0.8243 - accuracy: 0.6624\n",
      "Epoch 11: val_accuracy improved from 0.60628 to 0.61111, saving model to /content/drive/MyDrive/TaheriThesis/Dataset/Multimodal Sentiment/Models_3/inceptionCNN.h5\n",
      "120/120 [==============================] - 28s 230ms/step - loss: 0.8243 - accuracy: 0.6624 - val_loss: 1.2817 - val_accuracy: 0.6111\n",
      "Epoch 12/50\n",
      "120/120 [==============================] - ETA: 0s - loss: 0.7897 - accuracy: 0.6906\n",
      "Epoch 12: val_accuracy improved from 0.61111 to 0.61836, saving model to /content/drive/MyDrive/TaheriThesis/Dataset/Multimodal Sentiment/Models_3/inceptionCNN.h5\n",
      "120/120 [==============================] - 35s 290ms/step - loss: 0.7897 - accuracy: 0.6906 - val_loss: 1.2950 - val_accuracy: 0.6184\n",
      "Epoch 13/50\n",
      "120/120 [==============================] - ETA: 0s - loss: 0.7165 - accuracy: 0.7321\n",
      "Epoch 13: val_accuracy did not improve from 0.61836\n",
      "120/120 [==============================] - 14s 116ms/step - loss: 0.7165 - accuracy: 0.7321 - val_loss: 1.2415 - val_accuracy: 0.5894\n",
      "Epoch 14/50\n",
      "120/120 [==============================] - ETA: 0s - loss: 0.6852 - accuracy: 0.7412\n",
      "Epoch 14: val_accuracy improved from 0.61836 to 0.67150, saving model to /content/drive/MyDrive/TaheriThesis/Dataset/Multimodal Sentiment/Models_3/inceptionCNN.h5\n",
      "120/120 [==============================] - 50s 422ms/step - loss: 0.6852 - accuracy: 0.7412 - val_loss: 1.2638 - val_accuracy: 0.6715\n",
      "Epoch 15/50\n",
      "120/120 [==============================] - ETA: 0s - loss: 0.6317 - accuracy: 0.7722\n",
      "Epoch 15: val_accuracy improved from 0.67150 to 0.69324, saving model to /content/drive/MyDrive/TaheriThesis/Dataset/Multimodal Sentiment/Models_3/inceptionCNN.h5\n",
      "120/120 [==============================] - 56s 468ms/step - loss: 0.6317 - accuracy: 0.7722 - val_loss: 1.2036 - val_accuracy: 0.6932\n",
      "Epoch 16/50\n",
      "120/120 [==============================] - ETA: 0s - loss: 0.5850 - accuracy: 0.7947\n",
      "Epoch 16: val_accuracy improved from 0.69324 to 0.71014, saving model to /content/drive/MyDrive/TaheriThesis/Dataset/Multimodal Sentiment/Models_3/inceptionCNN.h5\n",
      "120/120 [==============================] - 35s 292ms/step - loss: 0.5850 - accuracy: 0.7947 - val_loss: 1.1669 - val_accuracy: 0.7101\n",
      "Epoch 17/50\n",
      "120/120 [==============================] - ETA: 0s - loss: 0.5333 - accuracy: 0.8106\n",
      "Epoch 17: val_accuracy improved from 0.71014 to 0.72705, saving model to /content/drive/MyDrive/TaheriThesis/Dataset/Multimodal Sentiment/Models_3/inceptionCNN.h5\n",
      "120/120 [==============================] - 35s 294ms/step - loss: 0.5333 - accuracy: 0.8106 - val_loss: 1.2106 - val_accuracy: 0.7271\n",
      "Epoch 18/50\n",
      "120/120 [==============================] - ETA: 0s - loss: 0.4937 - accuracy: 0.8257\n",
      "Epoch 18: val_accuracy improved from 0.72705 to 0.73913, saving model to /content/drive/MyDrive/TaheriThesis/Dataset/Multimodal Sentiment/Models_3/inceptionCNN.h5\n",
      "120/120 [==============================] - 26s 215ms/step - loss: 0.4937 - accuracy: 0.8257 - val_loss: 1.1950 - val_accuracy: 0.7391\n",
      "Epoch 19/50\n",
      "120/120 [==============================] - ETA: 0s - loss: 0.4486 - accuracy: 0.8419\n",
      "Epoch 19: val_accuracy did not improve from 0.73913\n",
      "120/120 [==============================] - 14s 117ms/step - loss: 0.4486 - accuracy: 0.8419 - val_loss: 1.2740 - val_accuracy: 0.7343\n",
      "Epoch 20/50\n",
      "120/120 [==============================] - ETA: 0s - loss: 0.4403 - accuracy: 0.8393\n",
      "Epoch 20: val_accuracy did not improve from 0.73913\n",
      "120/120 [==============================] - 14s 118ms/step - loss: 0.4403 - accuracy: 0.8393 - val_loss: 1.2772 - val_accuracy: 0.7319\n",
      "Epoch 21/50\n",
      "120/120 [==============================] - ETA: 0s - loss: 0.4118 - accuracy: 0.8510\n",
      "Epoch 21: val_accuracy did not improve from 0.73913\n",
      "120/120 [==============================] - 14s 117ms/step - loss: 0.4118 - accuracy: 0.8510 - val_loss: 1.3172 - val_accuracy: 0.7343\n",
      "Epoch 22/50\n",
      "120/120 [==============================] - ETA: 0s - loss: 0.3794 - accuracy: 0.8654\n",
      "Epoch 22: val_accuracy improved from 0.73913 to 0.75362, saving model to /content/drive/MyDrive/TaheriThesis/Dataset/Multimodal Sentiment/Models_3/inceptionCNN.h5\n",
      "120/120 [==============================] - 57s 481ms/step - loss: 0.3794 - accuracy: 0.8654 - val_loss: 1.2383 - val_accuracy: 0.7536\n",
      "Epoch 23/50\n",
      "120/120 [==============================] - ETA: 0s - loss: 0.3616 - accuracy: 0.8766\n",
      "Epoch 23: val_accuracy did not improve from 0.75362\n",
      "120/120 [==============================] - 14s 120ms/step - loss: 0.3616 - accuracy: 0.8766 - val_loss: 1.2265 - val_accuracy: 0.7488\n",
      "Epoch 24/50\n",
      "120/120 [==============================] - ETA: 0s - loss: 0.3491 - accuracy: 0.8821\n",
      "Epoch 24: val_accuracy improved from 0.75362 to 0.76087, saving model to /content/drive/MyDrive/TaheriThesis/Dataset/Multimodal Sentiment/Models_3/inceptionCNN.h5\n",
      "120/120 [==============================] - 54s 453ms/step - loss: 0.3491 - accuracy: 0.8821 - val_loss: 1.2480 - val_accuracy: 0.7609\n",
      "Epoch 25/50\n",
      "120/120 [==============================] - ETA: 0s - loss: 0.3167 - accuracy: 0.9011\n",
      "Epoch 25: val_accuracy did not improve from 0.76087\n",
      "120/120 [==============================] - 15s 121ms/step - loss: 0.3167 - accuracy: 0.9011 - val_loss: 1.2988 - val_accuracy: 0.7367\n",
      "Epoch 26/50\n",
      "120/120 [==============================] - ETA: 0s - loss: 0.3075 - accuracy: 0.9053\n",
      "Epoch 26: val_accuracy did not improve from 0.76087\n",
      "120/120 [==============================] - 15s 123ms/step - loss: 0.3075 - accuracy: 0.9053 - val_loss: 1.2735 - val_accuracy: 0.7488\n",
      "Epoch 27/50\n",
      "120/120 [==============================] - ETA: 0s - loss: 0.2801 - accuracy: 0.9131\n",
      "Epoch 27: val_accuracy did not improve from 0.76087\n",
      "120/120 [==============================] - 14s 116ms/step - loss: 0.2801 - accuracy: 0.9131 - val_loss: 1.3416 - val_accuracy: 0.7488\n",
      "Epoch 28/50\n",
      "120/120 [==============================] - ETA: 0s - loss: 0.2831 - accuracy: 0.9178\n",
      "Epoch 28: val_accuracy did not improve from 0.76087\n",
      "120/120 [==============================] - 14s 113ms/step - loss: 0.2831 - accuracy: 0.9178 - val_loss: 1.2855 - val_accuracy: 0.7560\n",
      "Epoch 29/50\n",
      "120/120 [==============================] - ETA: 0s - loss: 0.2734 - accuracy: 0.9165\n",
      "Epoch 29: val_accuracy did not improve from 0.76087\n",
      "120/120 [==============================] - 14s 114ms/step - loss: 0.2734 - accuracy: 0.9165 - val_loss: 1.2380 - val_accuracy: 0.7512\n",
      "Epoch 30/50\n",
      "120/120 [==============================] - ETA: 0s - loss: 0.2532 - accuracy: 0.9225\n",
      "Epoch 30: val_accuracy did not improve from 0.76087\n",
      "120/120 [==============================] - 14s 116ms/step - loss: 0.2532 - accuracy: 0.9225 - val_loss: 1.3260 - val_accuracy: 0.7512\n",
      "Epoch 31/50\n",
      "120/120 [==============================] - ETA: 0s - loss: 0.2675 - accuracy: 0.9196\n",
      "Epoch 31: val_accuracy did not improve from 0.76087\n",
      "120/120 [==============================] - 14s 116ms/step - loss: 0.2675 - accuracy: 0.9196 - val_loss: 1.3654 - val_accuracy: 0.7415\n",
      "Epoch 32/50\n",
      "120/120 [==============================] - ETA: 0s - loss: 0.2324 - accuracy: 0.9309\n",
      "Epoch 32: val_accuracy did not improve from 0.76087\n",
      "120/120 [==============================] - 14s 113ms/step - loss: 0.2324 - accuracy: 0.9309 - val_loss: 1.3651 - val_accuracy: 0.7536\n",
      "Epoch 33/50\n",
      "120/120 [==============================] - ETA: 0s - loss: 0.2412 - accuracy: 0.9309\n",
      "Epoch 33: val_accuracy did not improve from 0.76087\n",
      "120/120 [==============================] - 14s 114ms/step - loss: 0.2412 - accuracy: 0.9309 - val_loss: 1.4260 - val_accuracy: 0.7512\n",
      "Epoch 34/50\n",
      "120/120 [==============================] - ETA: 0s - loss: 0.2419 - accuracy: 0.9272\n",
      "Epoch 34: val_accuracy did not improve from 0.76087\n",
      "120/120 [==============================] - 14s 114ms/step - loss: 0.2419 - accuracy: 0.9272 - val_loss: 1.3642 - val_accuracy: 0.7585\n",
      "Epoch 35/50\n",
      "120/120 [==============================] - ETA: 0s - loss: 0.2356 - accuracy: 0.9306\n",
      "Epoch 35: val_accuracy did not improve from 0.76087\n",
      "120/120 [==============================] - 14s 116ms/step - loss: 0.2356 - accuracy: 0.9306 - val_loss: 1.4610 - val_accuracy: 0.7343\n",
      "Epoch 36/50\n",
      "120/120 [==============================] - ETA: 0s - loss: 0.2191 - accuracy: 0.9358\n",
      "Epoch 36: val_accuracy did not improve from 0.76087\n",
      "120/120 [==============================] - 14s 116ms/step - loss: 0.2191 - accuracy: 0.9358 - val_loss: 1.4586 - val_accuracy: 0.7295\n",
      "Epoch 37/50\n",
      "120/120 [==============================] - ETA: 0s - loss: 0.2271 - accuracy: 0.9324\n",
      "Epoch 37: val_accuracy did not improve from 0.76087\n",
      "120/120 [==============================] - 14s 114ms/step - loss: 0.2271 - accuracy: 0.9324 - val_loss: 1.4296 - val_accuracy: 0.7440\n",
      "Epoch 38/50\n",
      "120/120 [==============================] - ETA: 0s - loss: 0.2097 - accuracy: 0.9410\n",
      "Epoch 38: val_accuracy did not improve from 0.76087\n",
      "120/120 [==============================] - 14s 117ms/step - loss: 0.2097 - accuracy: 0.9410 - val_loss: 1.4638 - val_accuracy: 0.7367\n",
      "Epoch 39/50\n",
      "120/120 [==============================] - ETA: 0s - loss: 0.2211 - accuracy: 0.9322\n",
      "Epoch 39: val_accuracy did not improve from 0.76087\n",
      "120/120 [==============================] - 14s 114ms/step - loss: 0.2211 - accuracy: 0.9322 - val_loss: 1.4679 - val_accuracy: 0.7512\n",
      "Epoch 40/50\n",
      "120/120 [==============================] - ETA: 0s - loss: 0.2009 - accuracy: 0.9436\n",
      "Epoch 40: val_accuracy did not improve from 0.76087\n",
      "120/120 [==============================] - 14s 116ms/step - loss: 0.2009 - accuracy: 0.9436 - val_loss: 1.4675 - val_accuracy: 0.7488\n",
      "Epoch 41/50\n",
      "120/120 [==============================] - ETA: 0s - loss: 0.1873 - accuracy: 0.9413\n",
      "Epoch 41: val_accuracy did not improve from 0.76087\n",
      "120/120 [==============================] - 14s 114ms/step - loss: 0.1873 - accuracy: 0.9413 - val_loss: 1.5075 - val_accuracy: 0.7440\n",
      "Epoch 42/50\n",
      "120/120 [==============================] - ETA: 0s - loss: 0.2003 - accuracy: 0.9431\n",
      "Epoch 42: val_accuracy did not improve from 0.76087\n",
      "120/120 [==============================] - 14s 114ms/step - loss: 0.2003 - accuracy: 0.9431 - val_loss: 1.5719 - val_accuracy: 0.7295\n",
      "Epoch 43/50\n",
      "120/120 [==============================] - ETA: 0s - loss: 0.1937 - accuracy: 0.9413\n",
      "Epoch 43: val_accuracy did not improve from 0.76087\n",
      "120/120 [==============================] - 14s 113ms/step - loss: 0.1937 - accuracy: 0.9413 - val_loss: 1.4912 - val_accuracy: 0.7391\n",
      "Epoch 44/50\n",
      "120/120 [==============================] - ETA: 0s - loss: 0.1847 - accuracy: 0.9476\n",
      "Epoch 44: val_accuracy did not improve from 0.76087\n",
      "120/120 [==============================] - 14s 115ms/step - loss: 0.1847 - accuracy: 0.9476 - val_loss: 1.6508 - val_accuracy: 0.7367\n",
      "Epoch 45/50\n",
      "120/120 [==============================] - ETA: 0s - loss: 0.1796 - accuracy: 0.9489\n",
      "Epoch 45: val_accuracy did not improve from 0.76087\n",
      "120/120 [==============================] - 14s 116ms/step - loss: 0.1796 - accuracy: 0.9489 - val_loss: 1.6178 - val_accuracy: 0.7560\n",
      "Epoch 46/50\n",
      "120/120 [==============================] - ETA: 0s - loss: 0.1815 - accuracy: 0.9510\n",
      "Epoch 46: val_accuracy did not improve from 0.76087\n",
      "120/120 [==============================] - 14s 118ms/step - loss: 0.1815 - accuracy: 0.9510 - val_loss: 1.6324 - val_accuracy: 0.7488\n",
      "Epoch 47/50\n",
      "120/120 [==============================] - ETA: 0s - loss: 0.1785 - accuracy: 0.9523\n",
      "Epoch 47: val_accuracy did not improve from 0.76087\n",
      "120/120 [==============================] - 14s 118ms/step - loss: 0.1785 - accuracy: 0.9523 - val_loss: 1.7037 - val_accuracy: 0.7343\n",
      "Epoch 48/50\n",
      "120/120 [==============================] - ETA: 0s - loss: 0.1788 - accuracy: 0.9483\n",
      "Epoch 48: val_accuracy did not improve from 0.76087\n",
      "120/120 [==============================] - 14s 116ms/step - loss: 0.1788 - accuracy: 0.9483 - val_loss: 1.7603 - val_accuracy: 0.7367\n",
      "Epoch 49/50\n",
      "120/120 [==============================] - ETA: 0s - loss: 0.1716 - accuracy: 0.9494\n",
      "Epoch 49: val_accuracy did not improve from 0.76087\n",
      "120/120 [==============================] - 14s 114ms/step - loss: 0.1716 - accuracy: 0.9494 - val_loss: 1.6322 - val_accuracy: 0.7488\n",
      "Epoch 50/50\n",
      "120/120 [==============================] - ETA: 0s - loss: 0.1597 - accuracy: 0.9580\n",
      "Epoch 50: val_accuracy did not improve from 0.76087\n",
      "120/120 [==============================] - 14s 115ms/step - loss: 0.1597 - accuracy: 0.9580 - val_loss: 1.7217 - val_accuracy: 0.7343\n"
     ]
    }
   ],
   "source": [
    "for vm,visual_model in enumerate(visual_models_list):\n",
    "  for tm,textual_model in enumerate(text_models_list):\n",
    "    # Concatenating the output of 2 classifiers\n",
    "    con_layer = keras.layers.concatenate([visual_model.output, textual_model.output])\n",
    "    dropout = Dropout(0.2)(con_layer)\n",
    "    final_dense = Dense(64, activation=\"relu\")(dropout)\n",
    "    out = Dense(7,activation='softmax')(final_dense)\n",
    "     \n",
    "    #Defining model input and output\n",
    "    com_model = Model(inputs = [visual_model.input, textual_model.input], outputs=out)\n",
    "    if visual_model == 'vgg16':\n",
    "      opt = RMSprop()\n",
    "    else:\n",
    "      opt = Adam() \n",
    "      \n",
    "    com_model.compile(loss='categorical_crossentropy', optimizer=opt, metrics = [\"accuracy\"])\n",
    "    print(f\"Model Name: {visual_model_name[vm]}+{textual_model_name[tm]}\\n\")\n",
    "    com_model.fit([train_image,train_pad_sequences],\n",
    "    y_train,\n",
    "    epochs=50,\n",
    "    batch_size =32,\n",
    "    validation_data=([valid_image,valid_pad_sequences],y_valid),\n",
    "    verbose =1,\n",
    "    class_weight = class_weights,\n",
    "    callbacks = callbacks_check(visual_model_name[vm]+textual_model_name[tm]))"
   ]
  },
  {
   "cell_type": "code",
   "execution_count": null,
   "metadata": {
    "id": "naIoUSn3ZbYX"
   },
   "outputs": [],
   "source": [
    "# multimodal_models = ['inceptionLSTM','inceptionCNN','inceptionLSTM-CNN']\n",
    "# multimodal_names =  ['inception+LSTM','inception+CNNText','inception+LSTM-CNN']\n",
    "multimodal_models = ['inceptionLSTM','inceptionCNN']\n",
    "multimodal_names =  ['inception+LSTM','inception+CNNText']\n",
    "\n",
    "def multimodal_models_accuracy(saved_model): \n",
    "  my_dict = {}\n",
    "  # Prediction \n",
    "  model = load_model(models_path+'Models_3/'+f\"{saved_model}.h5\")\n",
    "  y_pred = np.argmax(model.predict([test_image,test_pad_sequences]), axis=-1)\n",
    "\n",
    "  y_true = test_data['enc_label']\n",
    "\n",
    "  my_dict['Accuracy'] = accuracy_score(y_true, y_pred)*100\n",
    "  my_dict['Precision'] = precision_score(y_true, y_pred,average = 'weighted')*100\n",
    "  my_dict['Recall'] = recall_score(y_true, y_pred,average = 'weighted')*100 \n",
    "  my_dict['F1 Score'] = f1_score(y_true, y_pred,average = 'weighted')*100 \n",
    "  return my_dict"
   ]
  },
  {
   "cell_type": "code",
   "execution_count": null,
   "metadata": {
    "colab": {
     "base_uri": "https://localhost:8080/"
    },
    "id": "gYUmlOx2qgWr",
    "outputId": "3cdfa436-5c43-463e-9521-ae1dd4fde03f"
   },
   "outputs": [
    {
     "name": "stdout",
     "output_type": "stream",
     "text": [
      "13/13 [==============================] - 2s 38ms/step\n",
      "13/13 [==============================] - 2s 37ms/step\n"
     ]
    }
   ],
   "source": [
    "accuracy = {f'{multimodal_names[i]}':multimodal_models_accuracy(model) for i,model in enumerate(multimodal_models)}\n",
    "# Save the performance parameter into json file\n",
    "with open(models_path+'Results_3/'+'multimodal_models_performance.json', 'w') as f:\n",
    "    json.dump(accuracy, f)"
   ]
  },
  {
   "cell_type": "code",
   "execution_count": null,
   "metadata": {
    "colab": {
     "base_uri": "https://localhost:8080/",
     "height": 148
    },
    "id": "kEyHEHogsRos",
    "outputId": "a908e7cd-e0c1-4550-e7ff-18795b44de1f"
   },
   "outputs": [
    {
     "name": "stdout",
     "output_type": "stream",
     "text": [
      "\u001b[1m=======  Multimodal Models Performance on Test Data  =============\n",
      "\u001b[0m\n"
     ]
    },
    {
     "data": {
      "text/html": [
       "\n",
       "  <div id=\"df-4cca6e24-6d17-45b5-9462-776e96242bb3\">\n",
       "    <div class=\"colab-df-container\">\n",
       "      <div>\n",
       "<style scoped>\n",
       "    .dataframe tbody tr th:only-of-type {\n",
       "        vertical-align: middle;\n",
       "    }\n",
       "\n",
       "    .dataframe tbody tr th {\n",
       "        vertical-align: top;\n",
       "    }\n",
       "\n",
       "    .dataframe thead th {\n",
       "        text-align: right;\n",
       "    }\n",
       "</style>\n",
       "<table border=\"1\" class=\"dataframe\">\n",
       "  <thead>\n",
       "    <tr style=\"text-align: right;\">\n",
       "      <th></th>\n",
       "      <th>Accuracy</th>\n",
       "      <th>Precision</th>\n",
       "      <th>Recall</th>\n",
       "      <th>F1 Score</th>\n",
       "    </tr>\n",
       "  </thead>\n",
       "  <tbody>\n",
       "    <tr>\n",
       "      <th>inception+LSTM</th>\n",
       "      <td>74.4</td>\n",
       "      <td>79.87</td>\n",
       "      <td>74.4</td>\n",
       "      <td>75.39</td>\n",
       "    </tr>\n",
       "    <tr>\n",
       "      <th>inception+CNNText</th>\n",
       "      <td>71.5</td>\n",
       "      <td>73.89</td>\n",
       "      <td>71.5</td>\n",
       "      <td>72.05</td>\n",
       "    </tr>\n",
       "  </tbody>\n",
       "</table>\n",
       "</div>\n",
       "      <button class=\"colab-df-convert\" onclick=\"convertToInteractive('df-4cca6e24-6d17-45b5-9462-776e96242bb3')\"\n",
       "              title=\"Convert this dataframe to an interactive table.\"\n",
       "              style=\"display:none;\">\n",
       "        \n",
       "  <svg xmlns=\"http://www.w3.org/2000/svg\" height=\"24px\"viewBox=\"0 0 24 24\"\n",
       "       width=\"24px\">\n",
       "    <path d=\"M0 0h24v24H0V0z\" fill=\"none\"/>\n",
       "    <path d=\"M18.56 5.44l.94 2.06.94-2.06 2.06-.94-2.06-.94-.94-2.06-.94 2.06-2.06.94zm-11 1L8.5 8.5l.94-2.06 2.06-.94-2.06-.94L8.5 2.5l-.94 2.06-2.06.94zm10 10l.94 2.06.94-2.06 2.06-.94-2.06-.94-.94-2.06-.94 2.06-2.06.94z\"/><path d=\"M17.41 7.96l-1.37-1.37c-.4-.4-.92-.59-1.43-.59-.52 0-1.04.2-1.43.59L10.3 9.45l-7.72 7.72c-.78.78-.78 2.05 0 2.83L4 21.41c.39.39.9.59 1.41.59.51 0 1.02-.2 1.41-.59l7.78-7.78 2.81-2.81c.8-.78.8-2.07 0-2.86zM5.41 20L4 18.59l7.72-7.72 1.47 1.35L5.41 20z\"/>\n",
       "  </svg>\n",
       "      </button>\n",
       "      \n",
       "  <style>\n",
       "    .colab-df-container {\n",
       "      display:flex;\n",
       "      flex-wrap:wrap;\n",
       "      gap: 12px;\n",
       "    }\n",
       "\n",
       "    .colab-df-convert {\n",
       "      background-color: #E8F0FE;\n",
       "      border: none;\n",
       "      border-radius: 50%;\n",
       "      cursor: pointer;\n",
       "      display: none;\n",
       "      fill: #1967D2;\n",
       "      height: 32px;\n",
       "      padding: 0 0 0 0;\n",
       "      width: 32px;\n",
       "    }\n",
       "\n",
       "    .colab-df-convert:hover {\n",
       "      background-color: #E2EBFA;\n",
       "      box-shadow: 0px 1px 2px rgba(60, 64, 67, 0.3), 0px 1px 3px 1px rgba(60, 64, 67, 0.15);\n",
       "      fill: #174EA6;\n",
       "    }\n",
       "\n",
       "    [theme=dark] .colab-df-convert {\n",
       "      background-color: #3B4455;\n",
       "      fill: #D2E3FC;\n",
       "    }\n",
       "\n",
       "    [theme=dark] .colab-df-convert:hover {\n",
       "      background-color: #434B5C;\n",
       "      box-shadow: 0px 1px 3px 1px rgba(0, 0, 0, 0.15);\n",
       "      filter: drop-shadow(0px 1px 2px rgba(0, 0, 0, 0.3));\n",
       "      fill: #FFFFFF;\n",
       "    }\n",
       "  </style>\n",
       "\n",
       "      <script>\n",
       "        const buttonEl =\n",
       "          document.querySelector('#df-4cca6e24-6d17-45b5-9462-776e96242bb3 button.colab-df-convert');\n",
       "        buttonEl.style.display =\n",
       "          google.colab.kernel.accessAllowed ? 'block' : 'none';\n",
       "\n",
       "        async function convertToInteractive(key) {\n",
       "          const element = document.querySelector('#df-4cca6e24-6d17-45b5-9462-776e96242bb3');\n",
       "          const dataTable =\n",
       "            await google.colab.kernel.invokeFunction('convertToInteractive',\n",
       "                                                     [key], {});\n",
       "          if (!dataTable) return;\n",
       "\n",
       "          const docLinkHtml = 'Like what you see? Visit the ' +\n",
       "            '<a target=\"_blank\" href=https://colab.research.google.com/notebooks/data_table.ipynb>data table notebook</a>'\n",
       "            + ' to learn more about interactive tables.';\n",
       "          element.innerHTML = '';\n",
       "          dataTable['output_type'] = 'display_data';\n",
       "          await google.colab.output.renderOutput(dataTable, element);\n",
       "          const docLink = document.createElement('div');\n",
       "          docLink.innerHTML = docLinkHtml;\n",
       "          element.appendChild(docLink);\n",
       "        }\n",
       "      </script>\n",
       "    </div>\n",
       "  </div>\n",
       "  "
      ],
      "text/plain": [
       "                   Accuracy  Precision  Recall  F1 Score\n",
       "inception+LSTM         74.4      79.87    74.4     75.39\n",
       "inception+CNNText      71.5      73.89    71.5     72.05"
      ]
     },
     "execution_count": 117,
     "metadata": {},
     "output_type": "execute_result"
    }
   ],
   "source": [
    "# Load the json file\n",
    "metrics = json.load(open(models_path+'Results_3/'+'multimodal_models_performance.json'))\n",
    "acc_list = []\n",
    "pr_list = []\n",
    "re_list = []\n",
    "f1_list = []\n",
    "for i in metrics.keys():\n",
    "  acc_list.append(round(metrics[i]['Accuracy'],2))\n",
    "  pr_list.append(round(metrics[i]['Precision'],2))\n",
    "  re_list.append(round(metrics[i]['Recall'],2))\n",
    "  f1_list.append(round(metrics[i]['F1 Score'],2))\n",
    "\n",
    "print (color.BOLD+f\"=======  Multimodal Models Performance on Test Data  =============\\n\"+color.END)\n",
    "# Create a dataframe\n",
    "performance_matrix = pd.DataFrame({'Accuracy':acc_list,'Precision':pr_list,\n",
    "                                   'Recall':re_list,'F1 Score':f1_list},\n",
    "                                  index =multimodal_names)\n",
    "performance_matrix"
   ]
  },
  {
   "cell_type": "code",
   "execution_count": null,
   "metadata": {
    "id": "_Wk3MJ3ystYW"
   },
   "outputs": [],
   "source": [
    "# models = ['inceptionLSTM','inceptionCNN','inceptionLSTM-CNN']\n",
    "# model_names = ['inception+LSTM','inception+CNNText','inception+LSTM-CNN']\n",
    "models = ['inceptionLSTM','inceptionCNN']\n",
    "model_names = ['inception+LSTM','inception+CNNText']\n",
    "class_names = ['happy','angry','disgust','fear','sad','surprise','other']\n",
    "def models_confusion_matrix(saved_model,model_name): \n",
    "\n",
    "  # if saved_model == 'vgg16LSTM':\n",
    "    # model = visual_models()\n",
    "    model=load_model(models_path+'Models_3/'+f\"{saved_model}.h5\")\n",
    "    y_pred = np.argmax(model.predict([test_image,test_pad_sequences]), axis=-1)\n",
    "\n",
    "  \n",
    "\n",
    "\n",
    "    y_true = test_data['enc_label']\n",
    "    con_mat(y_true,y_pred,class_names,model_name)  \n"
   ]
  },
  {
   "cell_type": "code",
   "execution_count": null,
   "metadata": {
    "colab": {
     "base_uri": "https://localhost:8080/",
     "height": 747
    },
    "id": "hzTQ0PUqs8HJ",
    "outputId": "722bee8f-ebc9-4faa-e848-9d7ceb1d42f3"
   },
   "outputs": [
    {
     "name": "stdout",
     "output_type": "stream",
     "text": [
      "\u001b[1m======= Confusion Matrix of best Models  =============\n",
      "\u001b[0m\n",
      "13/13 [==============================] - 4s 42ms/step\n",
      "13/13 [==============================] - 2s 37ms/step\n"
     ]
    },
    {
     "data": {
      "image/png": "[encoded data removed]",
      "text/plain": [
       "<Figure size 400x300 with 2 Axes>"
      ]
     },
     "metadata": {},
     "output_type": "display_data"
    },
    {
     "data": {
      "image/png": "[encoded data removed]",
      "text/plain": [
       "<Figure size 400x300 with 2 Axes>"
      ]
     },
     "metadata": {},
     "output_type": "display_data"
    }
   ],
   "source": [
    "print (color.BOLD+f\"======= Confusion Matrix of best Models  =============\\n\"+color.END)\n",
    "for i,model in enumerate(models):\n",
    "    models_confusion_matrix(model,model_names[i])"
   ]
  },
  {
   "cell_type": "code",
   "execution_count": 31,
   "metadata": {
    "colab": {
     "base_uri": "https://localhost:8080/"
    },
    "id": "9f-3M3A-sdo2",
    "outputId": "8847aaba-2d9c-41d4-ae4a-d1238ce1fde5"
   },
   "outputs": [
    {
     "name": "stdout",
     "output_type": "stream",
     "text": [
      "\u001b[1m======= Matrices for Visual Models  =============\u001b[0m\n",
      "13/13 [==============================] - 18s 275ms/step\n",
      "MCC for VGG16+LSTM: 0.705292006637807\n",
      "13/13 [==============================] - 1s 78ms/step\n",
      "MCC for VGG16+CNNText: 0.6939697510335527\n",
      "13/13 [==============================] - 4s 112ms/step\n",
      "MCC for ResNet+LSTM: 0.711664120958835\n",
      "13/13 [==============================] - 2s 56ms/step\n",
      "MCC for ResNet+CNNText: 0.6956131945424865\n",
      "13/13 [==============================] - 5s 126ms/step\n",
      "MCC for inception+LSTM: 0.7050187657733348\n",
      "13/13 [==============================] - 3s 39ms/step\n",
      "MCC for inception+CNNText: 0.6661517212455609\n"
     ]
    }
   ],
   "source": [
    "from sklearn.metrics import matthews_corrcoef\n",
    "\n",
    "multimodal_models = ['vgg16LSTM','vgg16CNN','resnetLSTM','resnetCNN','inceptionLSTM','inceptionCNN']\n",
    "multimodal_names =  ['VGG16+LSTM','VGG16+CNNText','ResNet+LSTM','ResNet+CNNText','inception+LSTM','inception+CNNText']\n",
    "class_names = ['happy', 'angry', 'disgust', 'fear', 'sad', 'surprise', 'other']\n",
    "\n",
    "def multimodal_models_metrics_MCC(saved_model, model_name):\n",
    "  model = load_model(models_path + 'Models_3/' + f\"{saved_model}.h5\")\n",
    "  y_pred = np.argmax(model.predict([test_image,test_pad_sequences]), axis=-1)\n",
    "  y_true = test_data['enc_label']\n",
    "\n",
    " \n",
    "\n",
    "  # Calculate MCC\n",
    "  mcc = matthews_corrcoef(y_true, y_pred)\n",
    "  print(f\"MCC for {model_name}: {mcc}\")\n",
    "\n",
    "print(f\"{color.BOLD}======= Matrices for Visual Models  ============={color.END}\")\n",
    "for i, model in enumerate(multimodal_models):\n",
    "  multimodal_models_metrics_MCC(model, multimodal_names[i])"
   ]
  }
 ],
 "metadata": {
  "accelerator": "GPU",
  "colab": {
   "gpuType": "T4",
   "machine_shape": "hm",
   "provenance": []
  },
  "gpuClass": "standard",
  "kernelspec": {
   "display_name": "Python 3 (ipykernel)",
   "language": "python",
   "name": "python3"
  },
  "language_info": {
   "codemirror_mode": {
    "name": "ipython",
    "version": 3
   },
   "file_extension": ".py",
   "mimetype": "text/x-python",
   "name": "python",
   "nbconvert_exporter": "python",
   "pygments_lexer": "ipython3",
   "version": "3.10.10"
  }
 },
 "nbformat": 4,
 "nbformat_minor": 1
}
