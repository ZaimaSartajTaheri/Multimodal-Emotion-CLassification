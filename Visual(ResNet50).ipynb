{
 "cells": [
  {
   "cell_type": "markdown",
   "metadata": {
    "id": "view-in-github"
   },
   "source": [
    "<a href=\"https://colab.research.google.com/github/eftekhar-hossain/Disaster_IEEE-Access/blob/main/damage_identification.ipynb\" target=\"_parent\"><img src=\"https://colab.research.google.com/assets/colab-badge.svg\" alt=\"Open In Colab\"/></a>"
   ]
  },
  {
   "cell_type": "markdown",
   "metadata": {
    "id": "D09VDHN9xiww"
   },
   "source": [
    "## Libraries"
   ]
  },
  {
   "cell_type": "code",
   "execution_count": 2,
   "metadata": {
    "colab": {
     "base_uri": "https://localhost:8080/"
    },
    "id": "6OdpHrd7yReb",
    "outputId": "88a14810-6501-4a40-d14b-adfc8101ff57"
   },
   "outputs": [
    {
     "name": "stderr",
     "output_type": "stream",
     "text": [
      "[nltk_data] Downloading package punkt to /root/nltk_data...\n",
      "[nltk_data]   Unzipping tokenizers/punkt.zip.\n"
     ]
    },
    {
     "name": "stdout",
     "output_type": "stream",
     "text": [
      "CPU times: user 6.97 s, sys: 1.24 s, total: 8.21 s\n",
      "Wall time: 13.7 s\n"
     ]
    }
   ],
   "source": [
    "%%time\n",
    "import os\n",
    "from glob import glob\n",
    "import numpy as np\n",
    "import matplotlib.pyplot as plt\n",
    "%matplotlib inline\n",
    "import pandas as pd\n",
    "import seaborn as sns\n",
    "import re,nltk,json\n",
    "from sklearn.metrics import confusion_matrix,classification_report \n",
    "from sklearn.model_selection import train_test_split\n",
    "from sklearn.metrics import accuracy_score,precision_score,recall_score,f1_score,roc_auc_score\n",
    "from sklearn.metrics import average_precision_score,roc_auc_score, roc_curve, precision_recall_curve\n",
    "from keras.utils.vis_utils import plot_model\n",
    "np.random.seed(42)\n",
    "nltk.download('punkt')\n",
    "from nltk.corpus import stopwords\n",
    "from nltk.tokenize import word_tokenize\n",
    "from nltk.tokenize import ToktokTokenizer\n",
    "import string, spacy,unicodedata, random\n",
    "from bs4 import BeautifulSoup\n",
    "class color: # Text style\n",
    "   PURPLE = '\\033[95m'\n",
    "   CYAN = '\\033[96m'\n",
    "   DARKCYAN = '\\033[36m'\n",
    "   BLUE = '\\033[94m'\n",
    "   GREEN = '\\033[92m'\n",
    "   YELLOW = '\\033[93m'\n",
    "   RED = '\\033[91m'\n",
    "   BOLD = '\\033[1m'\n",
    "   UNDERLINE = '\\033[4m'\n",
    "   END = '\\033[0m'\n",
    "import warnings\n",
    "warnings.filterwarnings('ignore')\n",
    "### Pretrained Word Embeddings\n",
    "pretrained_path = \"/content/drive/MyDrive/TaheriThesis/Dataset/PreTrained Wordembedding/\"\n",
    "# dataset_path = \"/content/drive/MyDrive/Colab Notebooks/MSC Presentation Tasks/Disaster Response/Images/\"\n",
    "# folder_path = \"/content/drive/MyDrive/Colab Notebooks/MSC Presentation Tasks/Disaster Response/\"\n",
    "models_path = \"/content/drive/MyDrive/TaheriThesis/Dataset/Multimodal Sentiment/\"\n",
    "\n",
    "\n",
    "folder_path = \"/content/drive/MyDrive/TaheriThesis/Dataset/\"\n",
    "# models_path = \"/content/drive/MyDrive/TaheriThesis/Dataset/Multimodal Sentiment/Models/\"\n",
    "# results_path = \"/content/drive/MyDrive/TaheriThesis/Dataset/Multimodal Sentiment/Results/\"\n",
    "dataset_path = \"/content/drive/MyDrive/TaheriThesis/Dataset/Images/\""
   ]
  },
  {
   "cell_type": "code",
   "execution_count": 3,
   "metadata": {
    "id": "l767bYFbGNLf"
   },
   "outputs": [],
   "source": [
    "from keras.preprocessing import image\n",
    "from keras.applications.vgg16 import VGG16\n",
    "from keras.applications.inception_v3 import InceptionV3\n",
    "from tensorflow.keras.applications.resnet50 import ResNet50\n",
    "from keras.applications.vgg16 import preprocess_input\n",
    "from keras.preprocessing.text import Tokenizer\n",
    "from keras.layers import Dense, GlobalAveragePooling2D, Embedding, LSTM, multiply\n",
    "from keras.models import Model\n",
    "from keras import preprocessing, Input\n",
    "from tensorflow import keras\n",
    "from keras.models import Sequential\n",
    "#Import from keras_preprocessing not from keras.preprocessing\n",
    "# from keras_preprocessing.image import ImageDataGenerator\n",
    "from keras.layers import Dense, Activation, Flatten, Dropout, BatchNormalization\n",
    "from keras.layers import Conv2D, MaxPooling2D\n",
    "from keras import regularizers, optimizers\n",
    "from tensorflow.keras.models import load_model\n",
    "import itertools\n",
    "from PIL import Image, ImageFile\n",
    "import tensorflow as tf\n",
    "import tensorflow.keras as keras\n",
    "from tensorflow.keras.preprocessing.text import Tokenizer\n",
    "from tensorflow.keras.preprocessing.sequence import pad_sequences\n",
    "from tensorflow.keras.layers import Concatenate, Dense, Input, LSTM, Embedding, Dropout, Activation, GRU, Flatten\n",
    "from tensorflow.keras.layers import Bidirectional, GlobalMaxPool1D\n",
    "from tensorflow.keras.models import Model, Sequential\n",
    "from tensorflow.keras.layers import Convolution1D,MaxPooling1D,Conv1D\n",
    "from tensorflow.keras import initializers, regularizers, constraints, optimizers, layers\n",
    "from tensorflow.keras.layers import Add, BatchNormalization, Activation, Dropout\n",
    "from tensorflow.keras.optimizers import RMSprop,Adam,SGD,Nadam\n",
    "keras.backend.clear_session()"
   ]
  },
  {
   "cell_type": "markdown",
   "metadata": {
    "id": "jjImoyXizNSk"
   },
   "source": [
    "#Fetching Dataset"
   ]
  },
  {
   "cell_type": "code",
   "execution_count": 4,
   "metadata": {
    "id": "nt9hWjXNzQxq"
   },
   "outputs": [],
   "source": [
    "# train_data = pd.read_excel(folder_path+'train.xlsx')\n",
    "# test_data = pd.read_csv(folder_path+'test.xlsx')\n",
    "# valid_data = pd.read_excel(main_path+'valid_new.xlsx')\n",
    "train_data = pd.read_csv(folder_path+'train.csv')\n",
    "valid_data = pd.read_csv(folder_path+'val.csv')\n",
    "test_data = pd.read_csv(folder_path+'test.csv')"
   ]
  },
  {
   "cell_type": "code",
   "execution_count": 5,
   "metadata": {
    "colab": {
     "base_uri": "https://localhost:8080/"
    },
    "id": "1lDAsGYgMs8r",
    "outputId": "016ee659-a7d6-414d-a509-13cafb2bafa3"
   },
   "outputs": [
    {
     "data": {
      "text/plain": [
       "Index(['image_name', 'Captions', 'Label_Sentiment', 'Label'], dtype='object')"
      ]
     },
     "execution_count": 5,
     "metadata": {},
     "output_type": "execute_result"
    }
   ],
   "source": [
    "train_data.columns"
   ]
  },
  {
   "cell_type": "code",
   "execution_count": 6,
   "metadata": {
    "colab": {
     "base_uri": "https://localhost:8080/"
    },
    "id": "RhUgGvUa2WFX",
    "outputId": "b0c0a99b-508b-4976-e3ff-dc6e8e10fcdd"
   },
   "outputs": [
    {
     "data": {
      "text/plain": [
       "0    861\n",
       "6    716\n",
       "4    623\n",
       "1    477\n",
       "5    408\n",
       "3    400\n",
       "2    348\n",
       "Name: Label, dtype: int64"
      ]
     },
     "execution_count": 6,
     "metadata": {},
     "output_type": "execute_result"
    }
   ],
   "source": [
    "train_data['Label'].value_counts()"
   ]
  },
  {
   "cell_type": "code",
   "execution_count": 7,
   "metadata": {
    "colab": {
     "base_uri": "https://localhost:8080/"
    },
    "id": "nPO59gZr2c5p",
    "outputId": "d9529aca-ab1f-489f-b554-8c7cb07120b4"
   },
   "outputs": [
    {
     "data": {
      "text/plain": [
       "0    93\n",
       "6    79\n",
       "4    68\n",
       "5    46\n",
       "3    44\n",
       "1    44\n",
       "2    40\n",
       "Name: Label, dtype: int64"
      ]
     },
     "execution_count": 7,
     "metadata": {},
     "output_type": "execute_result"
    }
   ],
   "source": [
    "test_data['Label'].value_counts()"
   ]
  },
  {
   "cell_type": "code",
   "execution_count": 8,
   "metadata": {
    "id": "qJO4yFDY2nTP"
   },
   "outputs": [],
   "source": [
    "# train_data['enc_label'] = train_data['label'].replace({'non_damage':0,'damaged_infrastructure':1,'damaged_nature':2,\n",
    "#                                                        'fires':3,'flood':4,'human_damage':5 })\n",
    "# test_data['enc_label'] = test_data['label'].replace({'non_damage':0,'damaged_infrastructure':1,'damaged_nature':2,\n",
    "#                                                      'fires':3,'flood':4,'human_damage':5 })\n",
    "\n",
    "\n",
    "train_data['enc_label'] = train_data['Label_Sentiment'].replace({'happy':0,'angry':1,'disgust':2,'fear':3,'sad':4,'surprise':5,'other':6})\n",
    "valid_data['enc_label'] = valid_data['Label_Sentiment'].replace({'happy':0,'angry':1,'disgust':2,'fear':3,'sad':4,'surprise':5,'other':6})\n",
    "\n"
   ]
  },
  {
   "cell_type": "code",
   "execution_count": 9,
   "metadata": {
    "id": "TKtfQsnn_aSt"
   },
   "outputs": [],
   "source": [
    "test_data['enc_label'] = test_data['Label_Sentiment'].replace({'happy':0,'angry':1,'disgust':2,'fear':3,'sad':4,'surprise':5,'other':6})"
   ]
  },
  {
   "cell_type": "code",
   "execution_count": 10,
   "metadata": {
    "colab": {
     "base_uri": "https://localhost:8080/"
    },
    "id": "NqXJL1QY3Gte",
    "outputId": "d1a3fa5b-e3bd-47f3-9689-803ab984201d"
   },
   "outputs": [
    {
     "name": "stdout",
     "output_type": "stream",
     "text": [
      "Size of the training data ==>  (3833, 5)\n",
      "Size of the training data ==>  (414, 5)\n",
      "Size of the Test data ==> (414, 5)\n"
     ]
    }
   ],
   "source": [
    "print(\"Size of the training data ==> \", train_data.shape)\n",
    "print(\"Size of the training data ==> \", valid_data.shape)\n",
    "print(\"Size of the Test data ==>\", test_data.shape)"
   ]
  },
  {
   "cell_type": "markdown",
   "metadata": {
    "id": "-f7tj6t_MbR2"
   },
   "source": [
    "## Image Fetching"
   ]
  },
  {
   "cell_type": "code",
   "execution_count": 14,
   "metadata": {
    "id": "ER4zNOmfMe_8"
   },
   "outputs": [],
   "source": [
    "## collect image names from the folders\n",
    "def create_img_array(img_dirct):\n",
    "    all_imgs = []\n",
    "    for root, j, files in os.walk(img_dirct):\n",
    "        for file in files:\n",
    "            file = root + '' + file\n",
    "            all_imgs.append(file)\n",
    "    return all_imgs\n",
    "\n",
    "def create_img_path(DF, Col_name, img_dir):\n",
    "    img_path = [img_dir + '' + name for name in DF[Col_name]]\n",
    "    return img_path"
   ]
  },
  {
   "cell_type": "code",
   "execution_count": null,
   "metadata": {
    "id": "1X--YjxFMo4v"
   },
   "outputs": [],
   "source": [
    "# Creating train, test and validation image path\n",
    "train_img_path = create_img_path(train_data,'image_name', dataset_path)\n",
    "valid_img_path = create_img_path(valid_data,'image_name', dataset_path)\n"
   ]
  },
  {
   "cell_type": "code",
   "execution_count": 15,
   "metadata": {
    "id": "LI_xecOf_UD4"
   },
   "outputs": [],
   "source": [
    "test_img_path = create_img_path(test_data,'image_name', dataset_path)"
   ]
  },
  {
   "cell_type": "code",
   "execution_count": 16,
   "metadata": {
    "id": "t3FUNU_bM7Tn"
   },
   "outputs": [],
   "source": [
    "# Function that returns image reading from the path\n",
    "def get_input(path):\n",
    "    # Loading image from given path\n",
    "    # and resizing it to 150*150*3 format\n",
    "    ImageFile.LOAD_TRUNCATED_IMAGES = True\n",
    "    img= tf.keras.utils.load_img(path, target_size=(150,150)) \n",
    "    # img.close()   \n",
    "    return(img)\n",
    "\n",
    "# Takes in image and preprocess it\n",
    "def process_input(img):\n",
    "    # Converting image to array    \n",
    "    img_data =tf.keras.utils.img_to_array(img)\n",
    "    # Adding one more dimension to array    \n",
    "    img_data = np.expand_dims(img_data, axis=0)\n",
    "    #     \n",
    "    img_data = preprocess_input(img_data)\n",
    "    #img_data = preprocess_input(img_data)\n",
    "    return(img_data)\n"
   ]
  },
  {
   "cell_type": "code",
   "execution_count": null,
   "metadata": {
    "id": "pUdvKi_yNCb5"
   },
   "outputs": [],
   "source": [
    "# Create an array of training images\n",
    "train_images = []\n",
    "for n,i in enumerate(train_img_path):\n",
    "  input_img = get_input(i)\n",
    "  process_img = process_input(input_img)\n",
    "  # print(n)\n",
    "  train_images.append(process_img[0])"
   ]
  },
  {
   "cell_type": "code",
   "execution_count": null,
   "metadata": {
    "id": "WPLJrKoAMXxE"
   },
   "outputs": [],
   "source": [
    "# Create an array of training images\n",
    "valid_images = []\n",
    "for n,i in enumerate(valid_img_path):\n",
    "  input_img = get_input(i)\n",
    "  process_img = process_input(input_img)\n",
    "  # print(n)\n",
    "  valid_images.append(process_img[0])"
   ]
  },
  {
   "cell_type": "code",
   "execution_count": 17,
   "metadata": {
    "id": "KeGcMyaKY7s_"
   },
   "outputs": [],
   "source": [
    "# Create an array of training images\n",
    "test_images = []\n",
    "for n,i in enumerate(test_img_path):\n",
    "  input_img = get_input(i)\n",
    "  process_img = process_input(input_img)\n",
    "  # print(n)\n",
    "  test_images.append(process_img[0])\n"
   ]
  },
  {
   "cell_type": "code",
   "execution_count": null,
   "metadata": {
    "id": "PTGSeCyIb3i0"
   },
   "outputs": [],
   "source": [
    "# convert into numpy array\n",
    "train_image = np.array(train_images)\n",
    "# convert into numpy array\n"
   ]
  },
  {
   "cell_type": "code",
   "execution_count": null,
   "metadata": {
    "id": "fjUW4W8RMdS3"
   },
   "outputs": [],
   "source": [
    "valid_image = np.array(valid_images)"
   ]
  },
  {
   "cell_type": "code",
   "execution_count": 18,
   "metadata": {
    "id": "R6dx_Cjb_lCv"
   },
   "outputs": [],
   "source": [
    "test_image = np.array(test_images)"
   ]
  },
  {
   "cell_type": "code",
   "execution_count": null,
   "metadata": {
    "id": "cT1sl0lZx_KG"
   },
   "outputs": [],
   "source": [
    "import pickle as pkl\n",
    "with open(dataset_path+'train.pkl','wb') as f:\n",
    "    pkl.dump(train_image, f)\n",
    "\n",
    "# with open(dataset_path+'test.pkl','wb') as f:\n",
    "#     pkl.dump(test_image, f)    "
   ]
  },
  {
   "cell_type": "code",
   "execution_count": null,
   "metadata": {
    "id": "hVimkLOoMjW0"
   },
   "outputs": [],
   "source": [
    "import pickle as pkl\n",
    "with open(dataset_path+'valid.pkl','wb') as f:\n",
    "    pkl.dump(valid_image, f)"
   ]
  },
  {
   "cell_type": "code",
   "execution_count": 19,
   "metadata": {
    "id": "wk1ZnD8YAwIF"
   },
   "outputs": [],
   "source": [
    "import pickle as pkl\n",
    "\n",
    "\n",
    "with open(dataset_path+'test.pkl','wb') as f:\n",
    "    pkl.dump(test_image, f)    "
   ]
  },
  {
   "cell_type": "code",
   "execution_count": null,
   "metadata": {
    "colab": {
     "base_uri": "https://localhost:8080/"
    },
    "id": "AKDZjc1uxvvh",
    "outputId": "54db5008-dc5c-4da5-ff93-22247de4bfc7"
   },
   "outputs": [
    {
     "name": "stdout",
     "output_type": "stream",
     "text": [
      "Training Images:--  (3833, 150, 150, 3)\n"
     ]
    }
   ],
   "source": [
    "\n",
    "\n",
    "with open(dataset_path+'train.pkl','rb') as f:\n",
    "  train_image = pkl.load(f)\n",
    "  print(\"Training Images:-- \",train_image.shape)\n",
    "\n",
    "    "
   ]
  },
  {
   "cell_type": "code",
   "execution_count": null,
   "metadata": {
    "colab": {
     "base_uri": "https://localhost:8080/"
    },
    "id": "AlUS5zduMnG1",
    "outputId": "58b8785e-50fe-44eb-d88c-b790c6571485"
   },
   "outputs": [
    {
     "name": "stdout",
     "output_type": "stream",
     "text": [
      "Validation Images:--  (414, 150, 150, 3)\n"
     ]
    }
   ],
   "source": [
    "\n",
    "with open(dataset_path+'valid.pkl','rb') as f:\n",
    "  valid_image = pkl.load(f)\n",
    "  print(\"Validation Images:-- \",valid_image.shape)"
   ]
  },
  {
   "cell_type": "code",
   "execution_count": 20,
   "metadata": {
    "colab": {
     "base_uri": "https://localhost:8080/"
    },
    "id": "6kG8SrK5A1Dm",
    "outputId": "aceecc64-4c70-4c23-b691-fb3c26c784ec"
   },
   "outputs": [
    {
     "name": "stdout",
     "output_type": "stream",
     "text": [
      "Test Images:--  (414, 150, 150, 3)\n"
     ]
    }
   ],
   "source": [
    "with open(dataset_path+'test.pkl','rb') as f:\n",
    "  test_image = pkl.load(f)\n",
    "  print(\"Test Images:-- \",test_image.shape)"
   ]
  },
  {
   "cell_type": "markdown",
   "metadata": {
    "id": "C55eRoK23rzC"
   },
   "source": [
    "## One Hot Encoding"
   ]
  },
  {
   "cell_type": "code",
   "execution_count": null,
   "metadata": {
    "id": "dNGZabRk3vSN"
   },
   "outputs": [],
   "source": [
    "import pandas as pd\n",
    "from sklearn.preprocessing import OneHotEncoder"
   ]
  },
  {
   "cell_type": "code",
   "execution_count": null,
   "metadata": {
    "id": "vfd2Z0c-3x6_"
   },
   "outputs": [],
   "source": [
    "# encoder=OneHotEncoder(sparse=False)\n",
    "\n",
    "# encoded_labels = pd.DataFrame (encoder.fit_transform(train_data[['label']]))\n",
    "\n",
    "# encoded_labels .columns = encoder.get_feature_names(['label'])\n",
    "\n",
    "# train_data= pd.concat([train_data, encoded_labels ], axis=1)\n",
    "\n",
    "import pandas as pd\n",
    "\n",
    "# Define the list of categories for your Label_Sentiment variable\n",
    "categories = ['happy', 'angry', 'disgust', 'fear', 'sad', 'surprise', 'other']\n",
    "\n",
    "# Perform one-hot encoding using get_dummies() function\n",
    "encoded_labels = pd.get_dummies(train_data['Label_Sentiment'], columns=categories, prefix='Label_Sentiment')\n",
    "\n",
    "# Concatenate the encoded labels with your original train_data DataFrame\n",
    "train_data = pd.concat([train_data, encoded_labels], axis=1)"
   ]
  },
  {
   "cell_type": "code",
   "execution_count": null,
   "metadata": {
    "colab": {
     "base_uri": "https://localhost:8080/"
    },
    "id": "OmdmEo9033SX",
    "outputId": "70ad29c1-9fc8-42d1-d4f8-e463cc739d00"
   },
   "outputs": [
    {
     "data": {
      "text/plain": [
       "Index(['image_name', 'Captions', 'Label_Sentiment', 'Label', 'enc_label',\n",
       "       'Label_Sentiment_angry', 'Label_Sentiment_disgust',\n",
       "       'Label_Sentiment_fear', 'Label_Sentiment_happy',\n",
       "       'Label_Sentiment_other', 'Label_Sentiment_sad',\n",
       "       'Label_Sentiment_surprise'],\n",
       "      dtype='object')"
      ]
     },
     "execution_count": 33,
     "metadata": {},
     "output_type": "execute_result"
    }
   ],
   "source": [
    "train_data.columns"
   ]
  },
  {
   "cell_type": "code",
   "execution_count": null,
   "metadata": {
    "colab": {
     "base_uri": "https://localhost:8080/",
     "height": 423
    },
    "id": "alEhfx5H3-tX",
    "outputId": "01c9ebe6-a04e-468c-fb1b-a1ca1a348b17"
   },
   "outputs": [
    {
     "data": {
      "text/html": [
       "\n",
       "  <div id=\"df-a7d2f8e7-9e75-44ac-aee6-d835c99a1f7d\">\n",
       "    <div class=\"colab-df-container\">\n",
       "      <div>\n",
       "<style scoped>\n",
       "    .dataframe tbody tr th:only-of-type {\n",
       "        vertical-align: middle;\n",
       "    }\n",
       "\n",
       "    .dataframe tbody tr th {\n",
       "        vertical-align: top;\n",
       "    }\n",
       "\n",
       "    .dataframe thead th {\n",
       "        text-align: right;\n",
       "    }\n",
       "</style>\n",
       "<table border=\"1\" class=\"dataframe\">\n",
       "  <thead>\n",
       "    <tr style=\"text-align: right;\">\n",
       "      <th></th>\n",
       "      <th>image_name</th>\n",
       "      <th>Captions</th>\n",
       "      <th>Label_Sentiment</th>\n",
       "      <th>Label</th>\n",
       "      <th>enc_label</th>\n",
       "      <th>angry</th>\n",
       "      <th>disgust</th>\n",
       "      <th>fear</th>\n",
       "      <th>happy</th>\n",
       "      <th>other</th>\n",
       "      <th>sad</th>\n",
       "      <th>surprise</th>\n",
       "    </tr>\n",
       "  </thead>\n",
       "  <tbody>\n",
       "    <tr>\n",
       "      <th>0</th>\n",
       "      <td>205.jpg</td>\n",
       "      <td>নির্বোধ দেখার এবং আপনি যে যত্নশীল তা না করার ক...</td>\n",
       "      <td>other</td>\n",
       "      <td>6</td>\n",
       "      <td>6</td>\n",
       "      <td>0</td>\n",
       "      <td>0</td>\n",
       "      <td>0</td>\n",
       "      <td>0</td>\n",
       "      <td>1</td>\n",
       "      <td>0</td>\n",
       "      <td>0</td>\n",
       "    </tr>\n",
       "    <tr>\n",
       "      <th>1</th>\n",
       "      <td>209.jpg</td>\n",
       "      <td>একটি বোর্ডার আর্ম স্কেটার একটি আমন্ত্রণ উপার্জ...</td>\n",
       "      <td>other</td>\n",
       "      <td>6</td>\n",
       "      <td>6</td>\n",
       "      <td>0</td>\n",
       "      <td>0</td>\n",
       "      <td>0</td>\n",
       "      <td>0</td>\n",
       "      <td>1</td>\n",
       "      <td>0</td>\n",
       "      <td>0</td>\n",
       "    </tr>\n",
       "    <tr>\n",
       "      <th>2</th>\n",
       "      <td>210.jpg</td>\n",
       "      <td>যদি শরীর দুর্বল হয় তবে মন শক্তিশালী হবে না।</td>\n",
       "      <td>other</td>\n",
       "      <td>6</td>\n",
       "      <td>6</td>\n",
       "      <td>0</td>\n",
       "      <td>0</td>\n",
       "      <td>0</td>\n",
       "      <td>0</td>\n",
       "      <td>1</td>\n",
       "      <td>0</td>\n",
       "      <td>0</td>\n",
       "    </tr>\n",
       "    <tr>\n",
       "      <th>3</th>\n",
       "      <td>215.jpg</td>\n",
       "      <td>একজন ধার্মিক ব্যক্তির কার্যকর উত্সাহ প্রার্থনা...</td>\n",
       "      <td>other</td>\n",
       "      <td>6</td>\n",
       "      <td>6</td>\n",
       "      <td>0</td>\n",
       "      <td>0</td>\n",
       "      <td>0</td>\n",
       "      <td>0</td>\n",
       "      <td>1</td>\n",
       "      <td>0</td>\n",
       "      <td>0</td>\n",
       "    </tr>\n",
       "    <tr>\n",
       "      <th>4</th>\n",
       "      <td>222.jpg</td>\n",
       "      <td>অসমাপ্ত ?</td>\n",
       "      <td>other</td>\n",
       "      <td>6</td>\n",
       "      <td>6</td>\n",
       "      <td>0</td>\n",
       "      <td>0</td>\n",
       "      <td>0</td>\n",
       "      <td>0</td>\n",
       "      <td>1</td>\n",
       "      <td>0</td>\n",
       "      <td>0</td>\n",
       "    </tr>\n",
       "    <tr>\n",
       "      <th>...</th>\n",
       "      <td>...</td>\n",
       "      <td>...</td>\n",
       "      <td>...</td>\n",
       "      <td>...</td>\n",
       "      <td>...</td>\n",
       "      <td>...</td>\n",
       "      <td>...</td>\n",
       "      <td>...</td>\n",
       "      <td>...</td>\n",
       "      <td>...</td>\n",
       "      <td>...</td>\n",
       "      <td>...</td>\n",
       "    </tr>\n",
       "    <tr>\n",
       "      <th>3828</th>\n",
       "      <td>4676.jpg</td>\n",
       "      <td>অভিনন্দন ২ প্রথম আইবিএম প্যাথওয়েসটেক পণ্ডিতরা...</td>\n",
       "      <td>happy</td>\n",
       "      <td>0</td>\n",
       "      <td>0</td>\n",
       "      <td>0</td>\n",
       "      <td>0</td>\n",
       "      <td>0</td>\n",
       "      <td>1</td>\n",
       "      <td>0</td>\n",
       "      <td>0</td>\n",
       "      <td>0</td>\n",
       "    </tr>\n",
       "    <tr>\n",
       "      <th>3829</th>\n",
       "      <td>4677.jpg</td>\n",
       "      <td>সবেমাত্র আমার চুলের সাথে রুটোশায়ার স্ক্যাল্প ...</td>\n",
       "      <td>happy</td>\n",
       "      <td>0</td>\n",
       "      <td>0</td>\n",
       "      <td>0</td>\n",
       "      <td>0</td>\n",
       "      <td>0</td>\n",
       "      <td>1</td>\n",
       "      <td>0</td>\n",
       "      <td>0</td>\n",
       "      <td>0</td>\n",
       "    </tr>\n",
       "    <tr>\n",
       "      <th>3830</th>\n",
       "      <td>4678.jpg</td>\n",
       "      <td>সবেমাত্র এই ওক ড্রেসারটি শেষ করেছেন।</td>\n",
       "      <td>happy</td>\n",
       "      <td>0</td>\n",
       "      <td>0</td>\n",
       "      <td>0</td>\n",
       "      <td>0</td>\n",
       "      <td>0</td>\n",
       "      <td>1</td>\n",
       "      <td>0</td>\n",
       "      <td>0</td>\n",
       "      <td>0</td>\n",
       "    </tr>\n",
       "    <tr>\n",
       "      <th>3831</th>\n",
       "      <td>4682.jpg</td>\n",
       "      <td>সুগারম্যান রজার্স মামলা-মোকদ্দমা কেমব্রিজে গত ...</td>\n",
       "      <td>happy</td>\n",
       "      <td>0</td>\n",
       "      <td>0</td>\n",
       "      <td>0</td>\n",
       "      <td>0</td>\n",
       "      <td>0</td>\n",
       "      <td>1</td>\n",
       "      <td>0</td>\n",
       "      <td>0</td>\n",
       "      <td>0</td>\n",
       "    </tr>\n",
       "    <tr>\n",
       "      <th>3832</th>\n",
       "      <td>4704.jpg</td>\n",
       "      <td>সন্ত্রাসীদের আতঙ্কিত করা উচিত। কী সেই নাজি প্র...</td>\n",
       "      <td>happy</td>\n",
       "      <td>0</td>\n",
       "      <td>0</td>\n",
       "      <td>0</td>\n",
       "      <td>0</td>\n",
       "      <td>0</td>\n",
       "      <td>1</td>\n",
       "      <td>0</td>\n",
       "      <td>0</td>\n",
       "      <td>0</td>\n",
       "    </tr>\n",
       "  </tbody>\n",
       "</table>\n",
       "<p>3833 rows × 12 columns</p>\n",
       "</div>\n",
       "      <button class=\"colab-df-convert\" onclick=\"convertToInteractive('df-a7d2f8e7-9e75-44ac-aee6-d835c99a1f7d')\"\n",
       "              title=\"Convert this dataframe to an interactive table.\"\n",
       "              style=\"display:none;\">\n",
       "        \n",
       "  <svg xmlns=\"http://www.w3.org/2000/svg\" height=\"24px\"viewBox=\"0 0 24 24\"\n",
       "       width=\"24px\">\n",
       "    <path d=\"M0 0h24v24H0V0z\" fill=\"none\"/>\n",
       "    <path d=\"M18.56 5.44l.94 2.06.94-2.06 2.06-.94-2.06-.94-.94-2.06-.94 2.06-2.06.94zm-11 1L8.5 8.5l.94-2.06 2.06-.94-2.06-.94L8.5 2.5l-.94 2.06-2.06.94zm10 10l.94 2.06.94-2.06 2.06-.94-2.06-.94-.94-2.06-.94 2.06-2.06.94z\"/><path d=\"M17.41 7.96l-1.37-1.37c-.4-.4-.92-.59-1.43-.59-.52 0-1.04.2-1.43.59L10.3 9.45l-7.72 7.72c-.78.78-.78 2.05 0 2.83L4 21.41c.39.39.9.59 1.41.59.51 0 1.02-.2 1.41-.59l7.78-7.78 2.81-2.81c.8-.78.8-2.07 0-2.86zM5.41 20L4 18.59l7.72-7.72 1.47 1.35L5.41 20z\"/>\n",
       "  </svg>\n",
       "      </button>\n",
       "      \n",
       "  <style>\n",
       "    .colab-df-container {\n",
       "      display:flex;\n",
       "      flex-wrap:wrap;\n",
       "      gap: 12px;\n",
       "    }\n",
       "\n",
       "    .colab-df-convert {\n",
       "      background-color: #E8F0FE;\n",
       "      border: none;\n",
       "      border-radius: 50%;\n",
       "      cursor: pointer;\n",
       "      display: none;\n",
       "      fill: #1967D2;\n",
       "      height: 32px;\n",
       "      padding: 0 0 0 0;\n",
       "      width: 32px;\n",
       "    }\n",
       "\n",
       "    .colab-df-convert:hover {\n",
       "      background-color: #E2EBFA;\n",
       "      box-shadow: 0px 1px 2px rgba(60, 64, 67, 0.3), 0px 1px 3px 1px rgba(60, 64, 67, 0.15);\n",
       "      fill: #174EA6;\n",
       "    }\n",
       "\n",
       "    [theme=dark] .colab-df-convert {\n",
       "      background-color: #3B4455;\n",
       "      fill: #D2E3FC;\n",
       "    }\n",
       "\n",
       "    [theme=dark] .colab-df-convert:hover {\n",
       "      background-color: #434B5C;\n",
       "      box-shadow: 0px 1px 3px 1px rgba(0, 0, 0, 0.15);\n",
       "      filter: drop-shadow(0px 1px 2px rgba(0, 0, 0, 0.3));\n",
       "      fill: #FFFFFF;\n",
       "    }\n",
       "  </style>\n",
       "\n",
       "      <script>\n",
       "        const buttonEl =\n",
       "          document.querySelector('#df-a7d2f8e7-9e75-44ac-aee6-d835c99a1f7d button.colab-df-convert');\n",
       "        buttonEl.style.display =\n",
       "          google.colab.kernel.accessAllowed ? 'block' : 'none';\n",
       "\n",
       "        async function convertToInteractive(key) {\n",
       "          const element = document.querySelector('#df-a7d2f8e7-9e75-44ac-aee6-d835c99a1f7d');\n",
       "          const dataTable =\n",
       "            await google.colab.kernel.invokeFunction('convertToInteractive',\n",
       "                                                     [key], {});\n",
       "          if (!dataTable) return;\n",
       "\n",
       "          const docLinkHtml = 'Like what you see? Visit the ' +\n",
       "            '<a target=\"_blank\" href=https://colab.research.google.com/notebooks/data_table.ipynb>data table notebook</a>'\n",
       "            + ' to learn more about interactive tables.';\n",
       "          element.innerHTML = '';\n",
       "          dataTable['output_type'] = 'display_data';\n",
       "          await google.colab.output.renderOutput(dataTable, element);\n",
       "          const docLink = document.createElement('div');\n",
       "          docLink.innerHTML = docLinkHtml;\n",
       "          element.appendChild(docLink);\n",
       "        }\n",
       "      </script>\n",
       "    </div>\n",
       "  </div>\n",
       "  "
      ],
      "text/plain": [
       "     image_name                                           Captions  \\\n",
       "0       205.jpg  নির্বোধ দেখার এবং আপনি যে যত্নশীল তা না করার ক...   \n",
       "1       209.jpg  একটি বোর্ডার আর্ম স্কেটার একটি আমন্ত্রণ উপার্জ...   \n",
       "2       210.jpg       যদি শরীর দুর্বল হয় তবে মন শক্তিশালী হবে না।   \n",
       "3       215.jpg  একজন ধার্মিক ব্যক্তির কার্যকর উত্সাহ প্রার্থনা...   \n",
       "4       222.jpg                                          অসমাপ্ত ?   \n",
       "...         ...                                                ...   \n",
       "3828   4676.jpg  অভিনন্দন ২ প্রথম আইবিএম প্যাথওয়েসটেক পণ্ডিতরা...   \n",
       "3829   4677.jpg  সবেমাত্র আমার চুলের সাথে রুটোশায়ার স্ক্যাল্প ...   \n",
       "3830   4678.jpg               সবেমাত্র এই ওক ড্রেসারটি শেষ করেছেন।   \n",
       "3831   4682.jpg  সুগারম্যান রজার্স মামলা-মোকদ্দমা কেমব্রিজে গত ...   \n",
       "3832   4704.jpg  সন্ত্রাসীদের আতঙ্কিত করা উচিত। কী সেই নাজি প্র...   \n",
       "\n",
       "     Label_Sentiment  Label  enc_label  angry  disgust  fear  happy  other  \\\n",
       "0              other      6          6      0        0     0      0      1   \n",
       "1              other      6          6      0        0     0      0      1   \n",
       "2              other      6          6      0        0     0      0      1   \n",
       "3              other      6          6      0        0     0      0      1   \n",
       "4              other      6          6      0        0     0      0      1   \n",
       "...              ...    ...        ...    ...      ...   ...    ...    ...   \n",
       "3828           happy      0          0      0        0     0      1      0   \n",
       "3829           happy      0          0      0        0     0      1      0   \n",
       "3830           happy      0          0      0        0     0      1      0   \n",
       "3831           happy      0          0      0        0     0      1      0   \n",
       "3832           happy      0          0      0        0     0      1      0   \n",
       "\n",
       "      sad  surprise  \n",
       "0       0         0  \n",
       "1       0         0  \n",
       "2       0         0  \n",
       "3       0         0  \n",
       "4       0         0  \n",
       "...   ...       ...  \n",
       "3828    0         0  \n",
       "3829    0         0  \n",
       "3830    0         0  \n",
       "3831    0         0  \n",
       "3832    0         0  \n",
       "\n",
       "[3833 rows x 12 columns]"
      ]
     },
     "execution_count": 34,
     "metadata": {},
     "output_type": "execute_result"
    }
   ],
   "source": [
    "# train_data = train_data.rename(columns={'label_damaged_infrastructure':'damaged_infrastructure', 'label_damaged_nature':'damaged_nature', \n",
    "#                                         'label_fires':'fires','label_flood':'flood',\n",
    "#                                         'label_human_damage':'human_damage', 'label_non_damage':'non_damage'})\n",
    "\n",
    "\n",
    "train_data = train_data.rename(columns={'Label_Sentiment_happy':'happy', \n",
    "                                        'Label_Sentiment_angry':'angry',\n",
    "                                        'Label_Sentiment_disgust':'disgust',\n",
    "                                        'Label_Sentiment_fear':'fear',\n",
    "                                        'Label_Sentiment_sad':'sad',\n",
    "                                        'Label_Sentiment_surprise':'surprise',\n",
    "                                        'Label_Sentiment_other':'other'})\n",
    "     \n",
    "\n",
    "train_data"
   ]
  },
  {
   "cell_type": "code",
   "execution_count": null,
   "metadata": {
    "colab": {
     "base_uri": "https://localhost:8080/"
    },
    "id": "6-XCXOsb-zxc",
    "outputId": "07c1bfbf-7e46-4b2e-d690-ae610a1e7bc0"
   },
   "outputs": [
    {
     "data": {
      "text/plain": [
       "Index(['image_name', 'Captions', 'Label_Sentiment', 'Label', 'enc_label',\n",
       "       'angry', 'disgust', 'fear', 'happy', 'other', 'sad', 'surprise'],\n",
       "      dtype='object')"
      ]
     },
     "execution_count": 35,
     "metadata": {},
     "output_type": "execute_result"
    }
   ],
   "source": [
    "train_data.columns"
   ]
  },
  {
   "cell_type": "code",
   "execution_count": null,
   "metadata": {
    "id": "48JRGZ4U6Kvv"
   },
   "outputs": [],
   "source": [
    "train_data.Captions = train_data.Captions.astype(str)"
   ]
  },
  {
   "cell_type": "markdown",
   "metadata": {
    "id": "Gyyw4VqlFXS_"
   },
   "source": [
    "##Evaluation Metrics"
   ]
  },
  {
   "cell_type": "code",
   "execution_count": 27,
   "metadata": {
    "id": "1rgUkMnlFbBU"
   },
   "outputs": [],
   "source": [
    "'''Evaluation Parameters'''\n",
    "\n",
    "def print_metrices(true,pred):\n",
    "    print(confusion_matrix(true,pred))\n",
    "    print(classification_report(true,pred))\n",
    "    print(\"Accuracy : \",accuracy_score(true,pred))\n",
    "    print(\"Precison : \",precision_score(true,pred, average = 'weighted'))\n",
    "    print(\"Recall : \",recall_score(true,pred,  average = 'weighted'))\n",
    "    print(\"F1 : \",f1_score(true,pred,  average = 'weighted'))"
   ]
  },
  {
   "cell_type": "markdown",
   "metadata": {
    "id": "i27YJBb9V_jk"
   },
   "source": [
    "## Confusion Matrix"
   ]
  },
  {
   "cell_type": "code",
   "execution_count": 28,
   "metadata": {
    "id": "PwSSTl3kWB5T"
   },
   "outputs": [],
   "source": [
    "## Confusion matrix function\n",
    "def con_mat(true,pred,class_names,model_name):\n",
    "  cm = confusion_matrix(true,pred)\n",
    "  #sns.set()\n",
    "  plt.figure(figsize =(4, 3))\n",
    "  ax = plt.subplot()\n",
    " # 'Greys', 'Purples', 'Blues', 'Greens', 'Oranges', 'Reds','YlOrBr', 'YlOrRd', 'OrRd', 'PuRd', 'RdPu', 'BuPu',\n",
    "            #'GnBu', 'PuBu', 'YlGnBu', 'PuBuGn', 'BuGn', 'YlGn'\n",
    "  sns.heatmap(cm, annot=True,fmt=\"d\",cmap='YlOrRd', ax = ax,annot_kws={\"size\": 10},) #annot=True to annotate cells\n",
    "  # labels, title and ticks\n",
    "  ax.set_xlabel('Predicted labels',fontsize=10)\n",
    "  ax.set_ylabel('True labels',fontsize=10) \n",
    "  #ax.set_title(f'Confusion Matrix of {model_name}',fontsize=10) \n",
    "  ax.xaxis.set_ticklabels(class_names, rotation=45); ax.yaxis.set_ticklabels(class_names, rotation=45);\n",
    "  ax.xaxis.tick_top()\n",
    " # plt.savefig(folder_path + f\"{model_name}.png\",bbox_inches='tight',dpi =500)"
   ]
  },
  {
   "cell_type": "code",
   "execution_count": 11,
   "metadata": {
    "colab": {
     "base_uri": "https://localhost:8080/"
    },
    "id": "L9omUBz0z9Iq",
    "outputId": "dbbf53b7-b54a-42de-dd98-a71fa0d4c63c"
   },
   "outputs": [
    {
     "data": {
      "text/plain": [
       "{0: 0.6359714617554338,\n",
       " 1: 1.147948487571129,\n",
       " 2: 1.5734811165845648,\n",
       " 3: 1.3689285714285715,\n",
       " 4: 0.881757533931447,\n",
       " 5: 1.3355400696864113,\n",
       " 6: 0.7647645650438947}"
      ]
     },
     "execution_count": 11,
     "metadata": {},
     "output_type": "execute_result"
    }
   ],
   "source": [
    "from sklearn.utils import compute_class_weight\n",
    "class_weights = compute_class_weight(\n",
    "                                        class_weight = \"balanced\",\n",
    "                                        classes = np.unique(train_data['enc_label']),\n",
    "                                        y = train_data['enc_label']                                                   \n",
    "                                    )\n",
    "class_weights = dict(zip(np.unique(train_data['enc_label']), class_weights))\n",
    "class_weights"
   ]
  },
  {
   "cell_type": "markdown",
   "metadata": {
    "id": "pDf4t5nANV1N"
   },
   "source": [
    "## Callbacks"
   ]
  },
  {
   "cell_type": "code",
   "execution_count": null,
   "metadata": {
    "id": "3UdewIycNmIf"
   },
   "outputs": [],
   "source": [
    "''' Callbacks'''\n",
    "keras.backend.clear_session()\n",
    "def callbacks_check(model_name):\n",
    "  num_classes = 7\n",
    "  accuracy_threshold = 0.99\n",
    "\n",
    "  class myCallback(keras.callbacks.Callback):\n",
    "    def on_epoch_end(self, epoch, logs={}):\n",
    "        if(logs.get('accuracy')>accuracy_threshold):\n",
    "          print(\"\\nReached %2.2f%% accuracy so we will stop trianing\" % (accuracy_threshold*100))\n",
    "          self.model.stop_training = True\n",
    "\n",
    "  acc_callback = myCallback()\n",
    "  # Saved the Best Model\n",
    "  filepath = models_path+'Models_2/'+f\"{model_name}.h5\"\n",
    "  checkpoint = keras.callbacks.ModelCheckpoint(filepath, monitor='val_accuracy', verbose=2, save_best_only=True, \n",
    "                                             save_weights_only=False, mode='max')\n",
    "  # callback list\n",
    "  callback_list = [acc_callback, checkpoint] \n",
    "\n",
    "  return callback_list"
   ]
  },
  {
   "cell_type": "code",
   "execution_count": null,
   "metadata": {
    "id": "yzaDrX3dlrjH"
   },
   "outputs": [],
   "source": [
    "from tensorflow.keras.utils import to_categorical\n",
    "y_train=to_categorical(train_data['enc_label'])\n",
    "y_valid=to_categorical(valid_data['enc_label'])"
   ]
  },
  {
   "cell_type": "code",
   "execution_count": null,
   "metadata": {
    "id": "TMCC_pqPBAMr"
   },
   "outputs": [],
   "source": [
    "from tensorflow.keras.utils import to_categorical\n",
    "y_test=to_categorical(test_data['enc_label'])"
   ]
  },
  {
   "cell_type": "code",
   "execution_count": null,
   "metadata": {
    "colab": {
     "base_uri": "https://localhost:8080/"
    },
    "id": "VxoNP4ytlwJg",
    "outputId": "5b13a720-446c-4624-a668-c89584b49f9f"
   },
   "outputs": [
    {
     "data": {
      "text/plain": [
       "array([[0., 0., 0., ..., 0., 0., 1.],\n",
       "       [0., 0., 0., ..., 0., 0., 1.],\n",
       "       [0., 0., 0., ..., 0., 0., 1.],\n",
       "       ...,\n",
       "       [1., 0., 0., ..., 0., 0., 0.],\n",
       "       [1., 0., 0., ..., 0., 0., 0.],\n",
       "       [1., 0., 0., ..., 0., 0., 0.]], dtype=float32)"
      ]
     },
     "execution_count": 42,
     "metadata": {},
     "output_type": "execute_result"
    }
   ],
   "source": [
    "y_train"
   ]
  },
  {
   "cell_type": "markdown",
   "metadata": {
    "id": "fE_uBG0a_Vej"
   },
   "source": []
  },
  {
   "cell_type": "markdown",
   "metadata": {
    "id": "JSLsF0v4cZ7d"
   },
   "source": [
    "#Visual Models"
   ]
  },
  {
   "cell_type": "code",
   "execution_count": null,
   "metadata": {
    "id": "gsRonbngccEl"
   },
   "outputs": [],
   "source": [
    "keras.backend.clear_session()\n",
    "\n",
    "def visual_models():\n",
    "\n",
    "\n",
    "  #### Resnet\n",
    "  resnet = ResNet50(weights='imagenet', include_top=False,input_shape=(150, 150, 3))\n",
    "  #resnet.trainable = False\n",
    "  for layer in resnet.layers[0:-10]:\n",
    "      layer.trainable = False\n",
    "  # add a global spatial average pooling layer\n",
    "  y = resnet.output\n",
    "  pool1 = GlobalAveragePooling2D()(y)\n",
    "  # let's add a fully-connected layer\n",
    "  #flat1 = Flatten()(pool1)\n",
    "  # and a logistic layer -- let's say we have 200 classes\n",
    "  #hidden = Dense(512, activation='relu')(flat1)\n",
    "  #dropout1 = Dropout(0.1)(hidden)\n",
    "  output1 = Dense(7, activation='softmax')(pool1)\n",
    "  # this is the model we will train\n",
    "  resnet_img_model = Model(inputs=resnet.input, outputs=output1)\n",
    "\n",
    "\n",
    "\n",
    "\n",
    "  models = [resnet_img_model]\n",
    "\n",
    "  return models\n"
   ]
  },
  {
   "cell_type": "code",
   "execution_count": null,
   "metadata": {
    "colab": {
     "base_uri": "https://localhost:8080/"
    },
    "id": "EJv91NwYMse0",
    "outputId": "d43088cf-d762-4625-be27-2a90dfdae316"
   },
   "outputs": [
    {
     "metadata": {
      "tags": null
     },
     "name": "stdout",
     "output_type": "stream",
     "text": [
      "Downloading data from https://storage.googleapis.com/tensorflow/keras-applications/vgg16/vgg16_weights_tf_dim_ordering_tf_kernels_notop.h5\n",
      "58889256/58889256 [==============================] - 3s 0us/step\n",
      "Downloading data from https://storage.googleapis.com/tensorflow/keras-applications/resnet/resnet50_weights_tf_dim_ordering_tf_kernels_notop.h5\n",
      "94765736/94765736 [==============================] - 4s 0us/step\n",
      "Downloading data from https://storage.googleapis.com/tensorflow/keras-applications/inception_v3/inception_v3_weights_tf_dim_ordering_tf_kernels_notop.h5\n",
      "87910968/87910968 [==============================] - 4s 0us/step\n",
      "Downloading data from https://storage.googleapis.com/tensorflow/keras-applications/densenet/densenet121_weights_tf_dim_ordering_tf_kernels_notop.h5\n",
      "29084464/29084464 [==============================] - 2s 0us/step\n",
      "Model Name: vgg16\n",
      "\n",
      "Epoch 1/30\n",
      "  6/120 [>.............................] - ETA: 22s - loss: 27.7359 - accuracy: 0.1875"
     ]
    },
    {
     "metadata": {
      "tags": null
     },
     "name": "stderr",
     "output_type": "stream",
     "text": [
      "WARNING:tensorflow:Callback method `on_train_batch_end` is slow compared to the batch time (batch time: 0.0648s vs `on_train_batch_end` time: 0.1065s). Check your callbacks.\n"
     ]
    },
    {
     "name": "stdout",
     "output_type": "stream",
     "text": [
      "120/120 [==============================] - ETA: 0s - loss: 3.2496 - accuracy: 0.2095\n",
      "Epoch 1: val_accuracy improved from -inf to 0.26329, saving model to /content/drive/MyDrive/TaheriThesis/Dataset/Multimodal Sentiment/Models_2/vgg16.h5\n",
      "120/120 [==============================] - 61s 323ms/step - loss: 3.2496 - accuracy: 0.2095 - val_loss: 1.9123 - val_accuracy: 0.2633\n",
      "Epoch 2/30\n",
      "120/120 [==============================] - ETA: 0s - loss: 1.9056 - accuracy: 0.2158\n",
      "Epoch 2: val_accuracy did not improve from 0.26329\n",
      "120/120 [==============================] - 24s 201ms/step - loss: 1.9056 - accuracy: 0.2158 - val_loss: 1.9078 - val_accuracy: 0.2222\n",
      "Epoch 3/30\n",
      "120/120 [==============================] - ETA: 0s - loss: 1.9013 - accuracy: 0.2220\n",
      "Epoch 3: val_accuracy did not improve from 0.26329\n",
      "120/120 [==============================] - 25s 207ms/step - loss: 1.9013 - accuracy: 0.2220 - val_loss: 1.9031 - val_accuracy: 0.2222\n",
      "Epoch 4/30\n",
      "120/120 [==============================] - ETA: 0s - loss: 1.9557 - accuracy: 0.2137\n",
      "Epoch 4: val_accuracy did not improve from 0.26329\n",
      "120/120 [==============================] - 25s 208ms/step - loss: 1.9557 - accuracy: 0.2137 - val_loss: 2.3865 - val_accuracy: 0.1063\n",
      "Epoch 5/30\n",
      "120/120 [==============================] - ETA: 0s - loss: 1.9088 - accuracy: 0.2244\n",
      "Epoch 5: val_accuracy did not improve from 0.26329\n",
      "120/120 [==============================] - 24s 202ms/step - loss: 1.9088 - accuracy: 0.2244 - val_loss: 1.9148 - val_accuracy: 0.2198\n",
      "Epoch 6/30\n",
      "120/120 [==============================] - ETA: 0s - loss: 1.8977 - accuracy: 0.2246\n",
      "Epoch 6: val_accuracy did not improve from 0.26329\n",
      "120/120 [==============================] - 25s 207ms/step - loss: 1.8977 - accuracy: 0.2246 - val_loss: 1.9145 - val_accuracy: 0.2198\n",
      "Epoch 7/30\n",
      "120/120 [==============================] - ETA: 0s - loss: 1.8970 - accuracy: 0.2246\n",
      "Epoch 7: val_accuracy did not improve from 0.26329\n",
      "120/120 [==============================] - 25s 204ms/step - loss: 1.8970 - accuracy: 0.2246 - val_loss: 1.9144 - val_accuracy: 0.2198\n",
      "Epoch 8/30\n",
      "120/120 [==============================] - ETA: 0s - loss: 1.8974 - accuracy: 0.2246\n",
      "Epoch 8: val_accuracy did not improve from 0.26329\n",
      "120/120 [==============================] - 25s 208ms/step - loss: 1.8974 - accuracy: 0.2246 - val_loss: 1.9148 - val_accuracy: 0.2198\n",
      "Epoch 9/30\n",
      "120/120 [==============================] - ETA: 0s - loss: 1.8972 - accuracy: 0.2246\n",
      "Epoch 9: val_accuracy did not improve from 0.26329\n",
      "120/120 [==============================] - 25s 209ms/step - loss: 1.8972 - accuracy: 0.2246 - val_loss: 1.9147 - val_accuracy: 0.2198\n",
      "Epoch 10/30\n",
      "120/120 [==============================] - ETA: 0s - loss: 1.8969 - accuracy: 0.2246\n",
      "Epoch 10: val_accuracy did not improve from 0.26329\n",
      "120/120 [==============================] - 25s 209ms/step - loss: 1.8969 - accuracy: 0.2246 - val_loss: 1.9155 - val_accuracy: 0.2198\n",
      "Epoch 11/30\n",
      "120/120 [==============================] - ETA: 0s - loss: 1.8969 - accuracy: 0.2246\n",
      "Epoch 11: val_accuracy did not improve from 0.26329\n",
      "120/120 [==============================] - 25s 206ms/step - loss: 1.8969 - accuracy: 0.2246 - val_loss: 1.9154 - val_accuracy: 0.2198\n",
      "Epoch 12/30\n",
      "120/120 [==============================] - ETA: 0s - loss: 1.8967 - accuracy: 0.2246\n",
      "Epoch 12: val_accuracy did not improve from 0.26329\n",
      "120/120 [==============================] - 25s 206ms/step - loss: 1.8967 - accuracy: 0.2246 - val_loss: 1.9148 - val_accuracy: 0.2198\n",
      "Epoch 13/30\n",
      "120/120 [==============================] - ETA: 0s - loss: 1.8975 - accuracy: 0.2246\n",
      "Epoch 13: val_accuracy did not improve from 0.26329\n",
      "120/120 [==============================] - 25s 210ms/step - loss: 1.8975 - accuracy: 0.2246 - val_loss: 1.9140 - val_accuracy: 0.2198\n",
      "Epoch 14/30\n",
      "120/120 [==============================] - ETA: 0s - loss: 1.8972 - accuracy: 0.2246\n",
      "Epoch 14: val_accuracy did not improve from 0.26329\n",
      "120/120 [==============================] - 25s 210ms/step - loss: 1.8972 - accuracy: 0.2246 - val_loss: 1.9142 - val_accuracy: 0.2198\n",
      "Epoch 15/30\n",
      "120/120 [==============================] - ETA: 0s - loss: 1.8970 - accuracy: 0.2246\n",
      "Epoch 15: val_accuracy did not improve from 0.26329\n",
      "120/120 [==============================] - 25s 211ms/step - loss: 1.8970 - accuracy: 0.2246 - val_loss: 1.9148 - val_accuracy: 0.2198\n",
      "Epoch 16/30\n",
      "120/120 [==============================] - ETA: 0s - loss: 1.8969 - accuracy: 0.2246\n",
      "Epoch 16: val_accuracy did not improve from 0.26329\n",
      "120/120 [==============================] - 25s 211ms/step - loss: 1.8969 - accuracy: 0.2246 - val_loss: 1.9146 - val_accuracy: 0.2198\n",
      "Epoch 17/30\n",
      "120/120 [==============================] - ETA: 0s - loss: 1.8970 - accuracy: 0.2246\n",
      "Epoch 17: val_accuracy did not improve from 0.26329\n",
      "120/120 [==============================] - 25s 211ms/step - loss: 1.8970 - accuracy: 0.2246 - val_loss: 1.9149 - val_accuracy: 0.2198\n",
      "Epoch 18/30\n",
      "120/120 [==============================] - ETA: 0s - loss: 1.8965 - accuracy: 0.2246\n",
      "Epoch 18: val_accuracy did not improve from 0.26329\n",
      "120/120 [==============================] - 25s 207ms/step - loss: 1.8965 - accuracy: 0.2246 - val_loss: 1.9150 - val_accuracy: 0.2198\n",
      "Epoch 19/30\n",
      "120/120 [==============================] - ETA: 0s - loss: 1.8976 - accuracy: 0.2246\n",
      "Epoch 19: val_accuracy did not improve from 0.26329\n",
      "120/120 [==============================] - 25s 207ms/step - loss: 1.8976 - accuracy: 0.2246 - val_loss: 1.9150 - val_accuracy: 0.2198\n",
      "Epoch 20/30\n",
      "120/120 [==============================] - ETA: 0s - loss: 1.8960 - accuracy: 0.2246\n",
      "Epoch 20: val_accuracy did not improve from 0.26329\n",
      "120/120 [==============================] - 25s 207ms/step - loss: 1.8960 - accuracy: 0.2246 - val_loss: 1.9151 - val_accuracy: 0.2198\n",
      "Epoch 21/30\n",
      "120/120 [==============================] - ETA: 0s - loss: 1.8972 - accuracy: 0.2246\n",
      "Epoch 21: val_accuracy did not improve from 0.26329\n",
      "120/120 [==============================] - 25s 208ms/step - loss: 1.8972 - accuracy: 0.2246 - val_loss: 1.9142 - val_accuracy: 0.2198\n",
      "Epoch 22/30\n",
      "120/120 [==============================] - ETA: 0s - loss: 1.8974 - accuracy: 0.2246\n",
      "Epoch 22: val_accuracy did not improve from 0.26329\n",
      "120/120 [==============================] - 25s 211ms/step - loss: 1.8974 - accuracy: 0.2246 - val_loss: 1.9146 - val_accuracy: 0.2198\n",
      "Epoch 23/30\n",
      "120/120 [==============================] - ETA: 0s - loss: 1.8975 - accuracy: 0.2246\n",
      "Epoch 23: val_accuracy did not improve from 0.26329\n",
      "120/120 [==============================] - 25s 208ms/step - loss: 1.8975 - accuracy: 0.2246 - val_loss: 1.9144 - val_accuracy: 0.2198\n",
      "Epoch 24/30\n",
      "120/120 [==============================] - ETA: 0s - loss: 1.8977 - accuracy: 0.2244\n",
      "Epoch 24: val_accuracy did not improve from 0.26329\n",
      "120/120 [==============================] - 25s 212ms/step - loss: 1.8977 - accuracy: 0.2244 - val_loss: 1.9146 - val_accuracy: 0.2198\n",
      "Epoch 25/30\n",
      "120/120 [==============================] - ETA: 0s - loss: 1.8978 - accuracy: 0.2246\n",
      "Epoch 25: val_accuracy did not improve from 0.26329\n",
      "120/120 [==============================] - 25s 212ms/step - loss: 1.8978 - accuracy: 0.2246 - val_loss: 1.9147 - val_accuracy: 0.2198\n",
      "Epoch 26/30\n",
      "120/120 [==============================] - ETA: 0s - loss: 1.8963 - accuracy: 0.2246\n",
      "Epoch 26: val_accuracy did not improve from 0.26329\n",
      "120/120 [==============================] - 25s 212ms/step - loss: 1.8963 - accuracy: 0.2246 - val_loss: 1.9141 - val_accuracy: 0.2198\n",
      "Epoch 27/30\n",
      "120/120 [==============================] - ETA: 0s - loss: 1.8967 - accuracy: 0.2249\n",
      "Epoch 27: val_accuracy did not improve from 0.26329\n",
      "120/120 [==============================] - 25s 208ms/step - loss: 1.8967 - accuracy: 0.2249 - val_loss: 1.9150 - val_accuracy: 0.2198\n",
      "Epoch 28/30\n",
      "120/120 [==============================] - ETA: 0s - loss: 1.8968 - accuracy: 0.2246\n",
      "Epoch 28: val_accuracy did not improve from 0.26329\n",
      "120/120 [==============================] - 25s 212ms/step - loss: 1.8968 - accuracy: 0.2246 - val_loss: 1.9150 - val_accuracy: 0.2198\n",
      "Epoch 29/30\n",
      "120/120 [==============================] - ETA: 0s - loss: 1.8965 - accuracy: 0.2246\n",
      "Epoch 29: val_accuracy did not improve from 0.26329\n",
      "120/120 [==============================] - 25s 208ms/step - loss: 1.8965 - accuracy: 0.2246 - val_loss: 1.9150 - val_accuracy: 0.2198\n",
      "Epoch 30/30\n",
      "120/120 [==============================] - ETA: 0s - loss: 1.8960 - accuracy: 0.2246\n",
      "Epoch 30: val_accuracy did not improve from 0.26329\n",
      "120/120 [==============================] - 25s 209ms/step - loss: 1.8960 - accuracy: 0.2246 - val_loss: 1.9152 - val_accuracy: 0.2198\n",
      "Model Name: resnet\n",
      "\n",
      "Epoch 1/30\n",
      "120/120 [==============================] - ETA: 0s - loss: 2.0747 - accuracy: 0.2559\n",
      "Epoch 1: val_accuracy improved from -inf to 0.41546, saving model to /content/drive/MyDrive/TaheriThesis/Dataset/Multimodal Sentiment/Models_2/resnet.h5\n",
      "120/120 [==============================] - 21s 122ms/step - loss: 2.0747 - accuracy: 0.2559 - val_loss: 1.6309 - val_accuracy: 0.4155\n",
      "Epoch 2/30\n",
      "120/120 [==============================] - ETA: 0s - loss: 1.4883 - accuracy: 0.4480\n",
      "Epoch 2: val_accuracy improved from 0.41546 to 0.56280, saving model to /content/drive/MyDrive/TaheriThesis/Dataset/Multimodal Sentiment/Models_2/resnet.h5\n",
      "120/120 [==============================] - 10s 80ms/step - loss: 1.4883 - accuracy: 0.4480 - val_loss: 1.3569 - val_accuracy: 0.5628\n",
      "Epoch 3/30\n",
      "120/120 [==============================] - ETA: 0s - loss: 1.0872 - accuracy: 0.6144\n",
      "Epoch 3: val_accuracy improved from 0.56280 to 0.63527, saving model to /content/drive/MyDrive/TaheriThesis/Dataset/Multimodal Sentiment/Models_2/resnet.h5\n",
      "120/120 [==============================] - 10s 80ms/step - loss: 1.0872 - accuracy: 0.6144 - val_loss: 1.1726 - val_accuracy: 0.6353\n",
      "Epoch 4/30\n",
      "119/120 [============================>.] - ETA: 0s - loss: 0.6478 - accuracy: 0.7878\n",
      "Epoch 4: val_accuracy did not improve from 0.63527\n",
      "120/120 [==============================] - 9s 72ms/step - loss: 0.6483 - accuracy: 0.7874 - val_loss: 1.6165 - val_accuracy: 0.6111\n",
      "Epoch 5/30\n",
      "120/120 [==============================] - ETA: 0s - loss: 0.3676 - accuracy: 0.9011\n",
      "Epoch 5: val_accuracy improved from 0.63527 to 0.71256, saving model to /content/drive/MyDrive/TaheriThesis/Dataset/Multimodal Sentiment/Models_2/resnet.h5\n",
      "120/120 [==============================] - 10s 87ms/step - loss: 0.3676 - accuracy: 0.9011 - val_loss: 1.4252 - val_accuracy: 0.7126\n",
      "Epoch 6/30\n",
      "120/120 [==============================] - ETA: 0s - loss: 0.2523 - accuracy: 0.9293\n",
      "Epoch 6: val_accuracy did not improve from 0.71256\n",
      "120/120 [==============================] - 9s 74ms/step - loss: 0.2523 - accuracy: 0.9293 - val_loss: 1.7563 - val_accuracy: 0.6884\n",
      "Epoch 7/30\n",
      "120/120 [==============================] - ETA: 0s - loss: 0.1751 - accuracy: 0.9536\n",
      "Epoch 7: val_accuracy improved from 0.71256 to 0.73913, saving model to /content/drive/MyDrive/TaheriThesis/Dataset/Multimodal Sentiment/Models_2/resnet.h5\n",
      "120/120 [==============================] - 11s 93ms/step - loss: 0.1751 - accuracy: 0.9536 - val_loss: 1.4356 - val_accuracy: 0.7391\n",
      "Epoch 8/30\n",
      "120/120 [==============================] - ETA: 0s - loss: 0.1239 - accuracy: 0.9640\n",
      "Epoch 8: val_accuracy did not improve from 0.73913\n",
      "120/120 [==============================] - 9s 73ms/step - loss: 0.1239 - accuracy: 0.9640 - val_loss: 1.3580 - val_accuracy: 0.7150\n",
      "Epoch 9/30\n",
      "120/120 [==============================] - ETA: 0s - loss: 0.1186 - accuracy: 0.9650\n",
      "Epoch 9: val_accuracy did not improve from 0.73913\n",
      "120/120 [==============================] - 9s 74ms/step - loss: 0.1186 - accuracy: 0.9650 - val_loss: 1.5126 - val_accuracy: 0.7222\n",
      "Epoch 10/30\n",
      "120/120 [==============================] - ETA: 0s - loss: 0.0963 - accuracy: 0.9703\n",
      "Epoch 10: val_accuracy did not improve from 0.73913\n",
      "120/120 [==============================] - 8s 69ms/step - loss: 0.0963 - accuracy: 0.9703 - val_loss: 1.6248 - val_accuracy: 0.7053\n",
      "Epoch 11/30\n",
      "120/120 [==============================] - ETA: 0s - loss: 0.1168 - accuracy: 0.9616\n",
      "Epoch 11: val_accuracy did not improve from 0.73913\n",
      "120/120 [==============================] - 9s 73ms/step - loss: 0.1168 - accuracy: 0.9616 - val_loss: 1.7797 - val_accuracy: 0.7319\n",
      "Epoch 12/30\n",
      "120/120 [==============================] - ETA: 0s - loss: 0.1538 - accuracy: 0.9512\n",
      "Epoch 12: val_accuracy did not improve from 0.73913\n",
      "120/120 [==============================] - 9s 74ms/step - loss: 0.1538 - accuracy: 0.9512 - val_loss: 1.7961 - val_accuracy: 0.6836\n",
      "Epoch 13/30\n",
      "120/120 [==============================] - ETA: 0s - loss: 0.1519 - accuracy: 0.9468\n",
      "Epoch 13: val_accuracy did not improve from 0.73913\n",
      "120/120 [==============================] - 8s 69ms/step - loss: 0.1519 - accuracy: 0.9468 - val_loss: 1.8364 - val_accuracy: 0.6957\n",
      "Epoch 14/30\n",
      "120/120 [==============================] - ETA: 0s - loss: 0.1611 - accuracy: 0.9455\n",
      "Epoch 14: val_accuracy did not improve from 0.73913\n",
      "120/120 [==============================] - 9s 74ms/step - loss: 0.1611 - accuracy: 0.9455 - val_loss: 1.9583 - val_accuracy: 0.7174\n",
      "Epoch 15/30\n",
      "120/120 [==============================] - ETA: 0s - loss: 0.1224 - accuracy: 0.9559\n",
      "Epoch 15: val_accuracy did not improve from 0.73913\n",
      "120/120 [==============================] - 9s 73ms/step - loss: 0.1224 - accuracy: 0.9559 - val_loss: 1.5993 - val_accuracy: 0.7343\n",
      "Epoch 16/30\n",
      "120/120 [==============================] - ETA: 0s - loss: 0.0891 - accuracy: 0.9705\n",
      "Epoch 16: val_accuracy did not improve from 0.73913\n",
      "120/120 [==============================] - 8s 69ms/step - loss: 0.0891 - accuracy: 0.9705 - val_loss: 1.8146 - val_accuracy: 0.7319\n",
      "Epoch 17/30\n",
      "120/120 [==============================] - ETA: 0s - loss: 0.0709 - accuracy: 0.9752\n",
      "Epoch 17: val_accuracy did not improve from 0.73913\n",
      "120/120 [==============================] - 9s 73ms/step - loss: 0.0709 - accuracy: 0.9752 - val_loss: 1.9038 - val_accuracy: 0.7319\n",
      "Epoch 18/30\n",
      "120/120 [==============================] - ETA: 0s - loss: 0.0613 - accuracy: 0.9768\n",
      "Epoch 18: val_accuracy did not improve from 0.73913\n",
      "120/120 [==============================] - 9s 73ms/step - loss: 0.0613 - accuracy: 0.9768 - val_loss: 1.6953 - val_accuracy: 0.7391\n",
      "Epoch 19/30\n",
      "120/120 [==============================] - ETA: 0s - loss: 0.0651 - accuracy: 0.9747\n",
      "Epoch 19: val_accuracy did not improve from 0.73913\n",
      "120/120 [==============================] - 9s 74ms/step - loss: 0.0651 - accuracy: 0.9747 - val_loss: 1.6867 - val_accuracy: 0.7295\n",
      "Epoch 20/30\n",
      "120/120 [==============================] - ETA: 0s - loss: 0.0660 - accuracy: 0.9760\n",
      "Epoch 20: val_accuracy improved from 0.73913 to 0.75362, saving model to /content/drive/MyDrive/TaheriThesis/Dataset/Multimodal Sentiment/Models_2/resnet.h5\n",
      "120/120 [==============================] - 11s 91ms/step - loss: 0.0660 - accuracy: 0.9760 - val_loss: 1.8972 - val_accuracy: 0.7536\n",
      "Epoch 21/30\n",
      "120/120 [==============================] - ETA: 0s - loss: 0.0934 - accuracy: 0.9671\n",
      "Epoch 21: val_accuracy did not improve from 0.75362\n",
      "120/120 [==============================] - 9s 74ms/step - loss: 0.0934 - accuracy: 0.9671 - val_loss: 1.9987 - val_accuracy: 0.7077\n",
      "Epoch 22/30\n",
      "120/120 [==============================] - ETA: 0s - loss: 0.1188 - accuracy: 0.9590\n",
      "Epoch 22: val_accuracy improved from 0.75362 to 0.75604, saving model to /content/drive/MyDrive/TaheriThesis/Dataset/Multimodal Sentiment/Models_2/resnet.h5\n",
      "120/120 [==============================] - 10s 85ms/step - loss: 0.1188 - accuracy: 0.9590 - val_loss: 1.9951 - val_accuracy: 0.7560\n",
      "Epoch 23/30\n",
      "120/120 [==============================] - ETA: 0s - loss: 0.1175 - accuracy: 0.9614\n",
      "Epoch 23: val_accuracy did not improve from 0.75604\n",
      "120/120 [==============================] - 8s 69ms/step - loss: 0.1175 - accuracy: 0.9614 - val_loss: 1.8278 - val_accuracy: 0.7005\n",
      "Epoch 24/30\n",
      "120/120 [==============================] - ETA: 0s - loss: 0.1134 - accuracy: 0.9603\n",
      "Epoch 24: val_accuracy did not improve from 0.75604\n",
      "120/120 [==============================] - 9s 75ms/step - loss: 0.1134 - accuracy: 0.9603 - val_loss: 1.8618 - val_accuracy: 0.7174\n",
      "Epoch 25/30\n",
      "120/120 [==============================] - ETA: 0s - loss: 0.0969 - accuracy: 0.9666\n",
      "Epoch 25: val_accuracy did not improve from 0.75604\n",
      "120/120 [==============================] - 8s 69ms/step - loss: 0.0969 - accuracy: 0.9666 - val_loss: 1.7107 - val_accuracy: 0.6860\n",
      "Epoch 26/30\n",
      "120/120 [==============================] - ETA: 0s - loss: 0.0833 - accuracy: 0.9684\n",
      "Epoch 26: val_accuracy did not improve from 0.75604\n",
      "120/120 [==============================] - 9s 75ms/step - loss: 0.0833 - accuracy: 0.9684 - val_loss: 1.9090 - val_accuracy: 0.7391\n",
      "Epoch 27/30\n",
      "120/120 [==============================] - ETA: 0s - loss: 0.0872 - accuracy: 0.9695\n",
      "Epoch 27: val_accuracy did not improve from 0.75604\n",
      "120/120 [==============================] - 9s 74ms/step - loss: 0.0872 - accuracy: 0.9695 - val_loss: 1.5864 - val_accuracy: 0.7367\n",
      "Epoch 28/30\n",
      "120/120 [==============================] - ETA: 0s - loss: 0.0570 - accuracy: 0.9760\n",
      "Epoch 28: val_accuracy did not improve from 0.75604\n",
      "120/120 [==============================] - 9s 73ms/step - loss: 0.0570 - accuracy: 0.9760 - val_loss: 1.9838 - val_accuracy: 0.7246\n",
      "Epoch 29/30\n",
      "120/120 [==============================] - ETA: 0s - loss: 0.0503 - accuracy: 0.9778\n",
      "Epoch 29: val_accuracy did not improve from 0.75604\n",
      "120/120 [==============================] - 9s 74ms/step - loss: 0.0503 - accuracy: 0.9778 - val_loss: 1.7696 - val_accuracy: 0.7367\n",
      "Epoch 30/30\n",
      "120/120 [==============================] - ETA: 0s - loss: 0.0436 - accuracy: 0.9802\n",
      "Epoch 30: val_accuracy did not improve from 0.75604\n",
      "120/120 [==============================] - 9s 74ms/step - loss: 0.0436 - accuracy: 0.9802 - val_loss: 1.7281 - val_accuracy: 0.7391\n",
      "Model Name: inception\n",
      "\n",
      "Epoch 1/30\n",
      "120/120 [==============================] - ETA: 0s - loss: 1.9602 - accuracy: 0.2163\n",
      "Epoch 1: val_accuracy improved from -inf to 0.21981, saving model to /content/drive/MyDrive/TaheriThesis/Dataset/Multimodal Sentiment/Models_2/inception.h5\n",
      "120/120 [==============================] - 63s 182ms/step - loss: 1.9602 - accuracy: 0.2163 - val_loss: 12679.9336 - val_accuracy: 0.2198\n",
      "Epoch 2/30\n",
      "120/120 [==============================] - ETA: 0s - loss: 1.8955 - accuracy: 0.2379\n",
      "Epoch 2: val_accuracy improved from 0.21981 to 0.30676, saving model to /content/drive/MyDrive/TaheriThesis/Dataset/Multimodal Sentiment/Models_2/inception.h5\n",
      "120/120 [==============================] - 15s 128ms/step - loss: 1.8955 - accuracy: 0.2379 - val_loss: 2.0335 - val_accuracy: 0.3068\n",
      "Epoch 3/30\n",
      "120/120 [==============================] - ETA: 0s - loss: 1.8932 - accuracy: 0.2340\n",
      "Epoch 3: val_accuracy did not improve from 0.30676\n",
      "120/120 [==============================] - 14s 115ms/step - loss: 1.8932 - accuracy: 0.2340 - val_loss: 584.8431 - val_accuracy: 0.2319\n",
      "Epoch 4/30\n",
      "120/120 [==============================] - ETA: 0s - loss: 1.8877 - accuracy: 0.2442\n",
      "Epoch 4: val_accuracy did not improve from 0.30676\n",
      "120/120 [==============================] - 13s 112ms/step - loss: 1.8877 - accuracy: 0.2442 - val_loss: 29.1467 - val_accuracy: 0.2560\n",
      "Epoch 5/30\n",
      "120/120 [==============================] - ETA: 0s - loss: 1.8785 - accuracy: 0.2468\n",
      "Epoch 5: val_accuracy did not improve from 0.30676\n",
      "120/120 [==============================] - 13s 110ms/step - loss: 1.8785 - accuracy: 0.2468 - val_loss: 15.8707 - val_accuracy: 0.2754\n",
      "Epoch 6/30\n",
      "120/120 [==============================] - ETA: 0s - loss: 1.8721 - accuracy: 0.2536\n",
      "Epoch 6: val_accuracy did not improve from 0.30676\n",
      "120/120 [==============================] - 13s 111ms/step - loss: 1.8721 - accuracy: 0.2536 - val_loss: 4.5227 - val_accuracy: 0.2415\n",
      "Epoch 7/30\n",
      "120/120 [==============================] - ETA: 0s - loss: 1.8751 - accuracy: 0.2570\n",
      "Epoch 7: val_accuracy did not improve from 0.30676\n",
      "120/120 [==============================] - 13s 111ms/step - loss: 1.8751 - accuracy: 0.2570 - val_loss: 73.0343 - val_accuracy: 0.2053\n",
      "Epoch 8/30\n",
      "120/120 [==============================] - ETA: 0s - loss: 1.8776 - accuracy: 0.2617\n",
      "Epoch 8: val_accuracy did not improve from 0.30676\n",
      "120/120 [==============================] - 13s 111ms/step - loss: 1.8776 - accuracy: 0.2617 - val_loss: 2.1366 - val_accuracy: 0.1787\n",
      "Epoch 9/30\n",
      "120/120 [==============================] - ETA: 0s - loss: 1.8732 - accuracy: 0.2567\n",
      "Epoch 9: val_accuracy did not improve from 0.30676\n",
      "120/120 [==============================] - 13s 111ms/step - loss: 1.8732 - accuracy: 0.2567 - val_loss: 708.7503 - val_accuracy: 0.2367\n",
      "Epoch 10/30\n",
      "120/120 [==============================] - ETA: 0s - loss: 1.8551 - accuracy: 0.2622\n",
      "Epoch 10: val_accuracy did not improve from 0.30676\n",
      "120/120 [==============================] - 14s 114ms/step - loss: 1.8551 - accuracy: 0.2622 - val_loss: 5.3186 - val_accuracy: 0.2705\n",
      "Epoch 11/30\n",
      "120/120 [==============================] - ETA: 0s - loss: 1.8417 - accuracy: 0.2747\n",
      "Epoch 11: val_accuracy did not improve from 0.30676\n",
      "120/120 [==============================] - 13s 112ms/step - loss: 1.8417 - accuracy: 0.2747 - val_loss: 3.1695 - val_accuracy: 0.2802\n",
      "Epoch 12/30\n",
      "120/120 [==============================] - ETA: 0s - loss: 1.8244 - accuracy: 0.2951\n",
      "Epoch 12: val_accuracy did not improve from 0.30676\n",
      "120/120 [==============================] - 13s 112ms/step - loss: 1.8244 - accuracy: 0.2951 - val_loss: 2.0728 - val_accuracy: 0.2657\n",
      "Epoch 13/30\n",
      "120/120 [==============================] - ETA: 0s - loss: 1.8121 - accuracy: 0.2885\n",
      "Epoch 13: val_accuracy did not improve from 0.30676\n",
      "120/120 [==============================] - 13s 112ms/step - loss: 1.8121 - accuracy: 0.2885 - val_loss: 8.9054 - val_accuracy: 0.2923\n",
      "Epoch 14/30\n",
      "120/120 [==============================] - ETA: 0s - loss: 1.7974 - accuracy: 0.3063\n",
      "Epoch 14: val_accuracy did not improve from 0.30676\n",
      "120/120 [==============================] - 14s 114ms/step - loss: 1.7974 - accuracy: 0.3063 - val_loss: 5.0795 - val_accuracy: 0.3068\n",
      "Epoch 15/30\n",
      "120/120 [==============================] - ETA: 0s - loss: 1.7954 - accuracy: 0.3097\n",
      "Epoch 15: val_accuracy did not improve from 0.30676\n",
      "120/120 [==============================] - 14s 114ms/step - loss: 1.7954 - accuracy: 0.3097 - val_loss: 7.0485 - val_accuracy: 0.2874\n",
      "Epoch 16/30\n",
      "120/120 [==============================] - ETA: 0s - loss: 1.7612 - accuracy: 0.3146\n",
      "Epoch 16: val_accuracy did not improve from 0.30676\n",
      "120/120 [==============================] - 14s 114ms/step - loss: 1.7612 - accuracy: 0.3146 - val_loss: 6.5553 - val_accuracy: 0.2246\n",
      "Epoch 17/30\n",
      "120/120 [==============================] - ETA: 0s - loss: 1.7101 - accuracy: 0.3394\n",
      "Epoch 17: val_accuracy did not improve from 0.30676\n",
      "120/120 [==============================] - 13s 112ms/step - loss: 1.7101 - accuracy: 0.3394 - val_loss: 2.5239 - val_accuracy: 0.2729\n",
      "Epoch 18/30\n",
      "120/120 [==============================] - ETA: 0s - loss: 1.6763 - accuracy: 0.3538\n",
      "Epoch 18: val_accuracy did not improve from 0.30676\n",
      "120/120 [==============================] - 14s 114ms/step - loss: 1.6763 - accuracy: 0.3538 - val_loss: 2.0162 - val_accuracy: 0.2633\n",
      "Epoch 19/30\n",
      "120/120 [==============================] - ETA: 0s - loss: 1.6231 - accuracy: 0.3765\n",
      "Epoch 19: val_accuracy did not improve from 0.30676\n",
      "120/120 [==============================] - 14s 114ms/step - loss: 1.6231 - accuracy: 0.3765 - val_loss: 2.2988 - val_accuracy: 0.2995\n",
      "Epoch 20/30\n",
      "120/120 [==============================] - ETA: 0s - loss: 1.5742 - accuracy: 0.3947\n",
      "Epoch 20: val_accuracy did not improve from 0.30676\n",
      "120/120 [==============================] - 13s 113ms/step - loss: 1.5742 - accuracy: 0.3947 - val_loss: 2.4308 - val_accuracy: 0.2560\n",
      "Epoch 21/30\n",
      "120/120 [==============================] - ETA: 0s - loss: 1.5358 - accuracy: 0.4153\n",
      "Epoch 21: val_accuracy did not improve from 0.30676\n",
      "120/120 [==============================] - 14s 114ms/step - loss: 1.5358 - accuracy: 0.4153 - val_loss: 1.8227 - val_accuracy: 0.2778\n",
      "Epoch 22/30\n",
      "120/120 [==============================] - ETA: 0s - loss: 1.4806 - accuracy: 0.4344\n",
      "Epoch 22: val_accuracy did not improve from 0.30676\n",
      "120/120 [==============================] - 14s 114ms/step - loss: 1.4806 - accuracy: 0.4344 - val_loss: 4.9508 - val_accuracy: 0.2850\n",
      "Epoch 23/30\n",
      "120/120 [==============================] - ETA: 0s - loss: 1.4376 - accuracy: 0.4487\n",
      "Epoch 23: val_accuracy did not improve from 0.30676\n",
      "120/120 [==============================] - 14s 114ms/step - loss: 1.4376 - accuracy: 0.4487 - val_loss: 2.4846 - val_accuracy: 0.2271\n",
      "Epoch 24/30\n",
      "120/120 [==============================] - ETA: 0s - loss: 1.4862 - accuracy: 0.4320\n",
      "Epoch 24: val_accuracy improved from 0.30676 to 0.32850, saving model to /content/drive/MyDrive/TaheriThesis/Dataset/Multimodal Sentiment/Models_2/inception.h5\n",
      "120/120 [==============================] - 17s 143ms/step - loss: 1.4862 - accuracy: 0.4320 - val_loss: 2.1190 - val_accuracy: 0.3285\n",
      "Epoch 25/30\n",
      "120/120 [==============================] - ETA: 0s - loss: 1.4092 - accuracy: 0.4558\n",
      "Epoch 25: val_accuracy improved from 0.32850 to 0.37681, saving model to /content/drive/MyDrive/TaheriThesis/Dataset/Multimodal Sentiment/Models_2/inception.h5\n",
      "120/120 [==============================] - 16s 133ms/step - loss: 1.4092 - accuracy: 0.4558 - val_loss: 2.3635 - val_accuracy: 0.3768\n",
      "Epoch 26/30\n",
      "120/120 [==============================] - ETA: 0s - loss: 1.3212 - accuracy: 0.4907\n",
      "Epoch 26: val_accuracy did not improve from 0.37681\n",
      "120/120 [==============================] - 14s 117ms/step - loss: 1.3212 - accuracy: 0.4907 - val_loss: 1.6771 - val_accuracy: 0.3575\n",
      "Epoch 27/30\n",
      "120/120 [==============================] - ETA: 0s - loss: 1.2250 - accuracy: 0.5218\n",
      "Epoch 27: val_accuracy improved from 0.37681 to 0.41063, saving model to /content/drive/MyDrive/TaheriThesis/Dataset/Multimodal Sentiment/Models_2/inception.h5\n",
      "120/120 [==============================] - 17s 144ms/step - loss: 1.2250 - accuracy: 0.5218 - val_loss: 1.7471 - val_accuracy: 0.4106\n",
      "Epoch 28/30\n",
      "120/120 [==============================] - ETA: 0s - loss: 1.1636 - accuracy: 0.5547\n",
      "Epoch 28: val_accuracy did not improve from 0.41063\n",
      "120/120 [==============================] - 14s 115ms/step - loss: 1.1636 - accuracy: 0.5547 - val_loss: 1.9117 - val_accuracy: 0.4082\n",
      "Epoch 29/30\n",
      "120/120 [==============================] - ETA: 0s - loss: 1.1441 - accuracy: 0.5578\n",
      "Epoch 29: val_accuracy improved from 0.41063 to 0.43237, saving model to /content/drive/MyDrive/TaheriThesis/Dataset/Multimodal Sentiment/Models_2/inception.h5\n",
      "120/120 [==============================] - 17s 146ms/step - loss: 1.1441 - accuracy: 0.5578 - val_loss: 1.6299 - val_accuracy: 0.4324\n",
      "Epoch 30/30\n",
      "120/120 [==============================] - ETA: 0s - loss: 1.1160 - accuracy: 0.5758\n",
      "Epoch 30: val_accuracy did not improve from 0.43237\n",
      "120/120 [==============================] - 14s 116ms/step - loss: 1.1160 - accuracy: 0.5758 - val_loss: 7.1493 - val_accuracy: 0.3478\n",
      "Model Name: densenet\n",
      "\n",
      "Epoch 1/30\n",
      "120/120 [==============================] - ETA: 0s - loss: 2.0784 - accuracy: 0.2092\n",
      "Epoch 1: val_accuracy improved from -inf to 0.22464, saving model to /content/drive/MyDrive/TaheriThesis/Dataset/Multimodal Sentiment/Models_2/densenet.h5\n",
      "120/120 [==============================] - 107s 281ms/step - loss: 2.0784 - accuracy: 0.2092 - val_loss: 2.0177 - val_accuracy: 0.2246\n",
      "Epoch 2/30\n",
      "120/120 [==============================] - ETA: 0s - loss: 1.9626 - accuracy: 0.2181\n",
      "Epoch 2: val_accuracy did not improve from 0.22464\n",
      "120/120 [==============================] - 23s 192ms/step - loss: 1.9626 - accuracy: 0.2181 - val_loss: 8.2364 - val_accuracy: 0.1667\n",
      "Epoch 3/30\n",
      "120/120 [==============================] - ETA: 0s - loss: 1.9426 - accuracy: 0.2165\n",
      "Epoch 3: val_accuracy did not improve from 0.22464\n",
      "120/120 [==============================] - 23s 189ms/step - loss: 1.9426 - accuracy: 0.2165 - val_loss: 6.1067 - val_accuracy: 0.1739\n",
      "Epoch 4/30\n",
      "120/120 [==============================] - ETA: 0s - loss: 1.9248 - accuracy: 0.2254\n",
      "Epoch 4: val_accuracy improved from 0.22464 to 0.22947, saving model to /content/drive/MyDrive/TaheriThesis/Dataset/Multimodal Sentiment/Models_2/densenet.h5\n",
      "120/120 [==============================] - 26s 215ms/step - loss: 1.9248 - accuracy: 0.2254 - val_loss: 2.0232 - val_accuracy: 0.2295\n",
      "Epoch 5/30\n",
      "120/120 [==============================] - ETA: 0s - loss: 1.9280 - accuracy: 0.2228\n",
      "Epoch 5: val_accuracy did not improve from 0.22947\n",
      "120/120 [==============================] - 23s 189ms/step - loss: 1.9280 - accuracy: 0.2228 - val_loss: 223.1753 - val_accuracy: 0.2271\n",
      "Epoch 6/30\n",
      "120/120 [==============================] - ETA: 0s - loss: 1.9282 - accuracy: 0.2296\n",
      "Epoch 6: val_accuracy did not improve from 0.22947\n",
      "120/120 [==============================] - 23s 189ms/step - loss: 1.9282 - accuracy: 0.2296 - val_loss: 10.4421 - val_accuracy: 0.1932\n",
      "Epoch 7/30\n",
      "120/120 [==============================] - ETA: 0s - loss: 1.9128 - accuracy: 0.2304\n",
      "Epoch 7: val_accuracy improved from 0.22947 to 0.24879, saving model to /content/drive/MyDrive/TaheriThesis/Dataset/Multimodal Sentiment/Models_2/densenet.h5\n",
      "120/120 [==============================] - 26s 214ms/step - loss: 1.9128 - accuracy: 0.2304 - val_loss: 1.8499 - val_accuracy: 0.2488\n",
      "Epoch 8/30\n",
      "120/120 [==============================] - ETA: 0s - loss: 1.9031 - accuracy: 0.2434\n",
      "Epoch 8: val_accuracy did not improve from 0.24879\n",
      "120/120 [==============================] - 23s 190ms/step - loss: 1.9031 - accuracy: 0.2434 - val_loss: 1.9381 - val_accuracy: 0.2415\n",
      "Epoch 9/30\n",
      "120/120 [==============================] - ETA: 0s - loss: 1.9376 - accuracy: 0.2189\n",
      "Epoch 9: val_accuracy did not improve from 0.24879\n",
      "120/120 [==============================] - 23s 190ms/step - loss: 1.9376 - accuracy: 0.2189 - val_loss: 2.9145 - val_accuracy: 0.2126\n",
      "Epoch 10/30\n",
      "120/120 [==============================] - ETA: 0s - loss: 1.9112 - accuracy: 0.2387\n",
      "Epoch 10: val_accuracy did not improve from 0.24879\n",
      "120/120 [==============================] - 23s 189ms/step - loss: 1.9112 - accuracy: 0.2387 - val_loss: 1.8975 - val_accuracy: 0.1860\n",
      "Epoch 11/30\n",
      "120/120 [==============================] - ETA: 0s - loss: 1.8936 - accuracy: 0.2452\n",
      "Epoch 11: val_accuracy improved from 0.24879 to 0.25604, saving model to /content/drive/MyDrive/TaheriThesis/Dataset/Multimodal Sentiment/Models_2/densenet.h5\n",
      "120/120 [==============================] - 26s 215ms/step - loss: 1.8936 - accuracy: 0.2452 - val_loss: 3.6546 - val_accuracy: 0.2560\n",
      "Epoch 12/30\n",
      "120/120 [==============================] - ETA: 0s - loss: 1.8935 - accuracy: 0.2476\n",
      "Epoch 12: val_accuracy improved from 0.25604 to 0.25845, saving model to /content/drive/MyDrive/TaheriThesis/Dataset/Multimodal Sentiment/Models_2/densenet.h5\n",
      "120/120 [==============================] - 26s 214ms/step - loss: 1.8935 - accuracy: 0.2476 - val_loss: 2.3293 - val_accuracy: 0.2585\n",
      "Epoch 13/30\n",
      "120/120 [==============================] - ETA: 0s - loss: 1.8858 - accuracy: 0.2510\n",
      "Epoch 13: val_accuracy improved from 0.25845 to 0.26570, saving model to /content/drive/MyDrive/TaheriThesis/Dataset/Multimodal Sentiment/Models_2/densenet.h5\n",
      "120/120 [==============================] - 26s 216ms/step - loss: 1.8858 - accuracy: 0.2510 - val_loss: 1.7922 - val_accuracy: 0.2657\n",
      "Epoch 14/30\n",
      "120/120 [==============================] - ETA: 0s - loss: 1.8781 - accuracy: 0.2505\n",
      "Epoch 14: val_accuracy did not improve from 0.26570\n",
      "120/120 [==============================] - 23s 188ms/step - loss: 1.8781 - accuracy: 0.2505 - val_loss: 3.6018 - val_accuracy: 0.2222\n",
      "Epoch 15/30\n",
      "120/120 [==============================] - ETA: 0s - loss: 1.8881 - accuracy: 0.2452\n",
      "Epoch 15: val_accuracy did not improve from 0.26570\n",
      "120/120 [==============================] - 23s 189ms/step - loss: 1.8881 - accuracy: 0.2452 - val_loss: 2.0758 - val_accuracy: 0.2512\n",
      "Epoch 16/30\n",
      "120/120 [==============================] - ETA: 0s - loss: 1.8878 - accuracy: 0.2408\n",
      "Epoch 16: val_accuracy improved from 0.26570 to 0.29469, saving model to /content/drive/MyDrive/TaheriThesis/Dataset/Multimodal Sentiment/Models_2/densenet.h5\n",
      "120/120 [==============================] - 26s 213ms/step - loss: 1.8878 - accuracy: 0.2408 - val_loss: 2.5713 - val_accuracy: 0.2947\n",
      "Epoch 17/30\n",
      "120/120 [==============================] - ETA: 0s - loss: 1.8765 - accuracy: 0.2630\n",
      "Epoch 17: val_accuracy improved from 0.29469 to 0.35266, saving model to /content/drive/MyDrive/TaheriThesis/Dataset/Multimodal Sentiment/Models_2/densenet.h5\n",
      "120/120 [==============================] - 26s 213ms/step - loss: 1.8765 - accuracy: 0.2630 - val_loss: 1.7393 - val_accuracy: 0.3527\n",
      "Epoch 18/30\n",
      "120/120 [==============================] - ETA: 0s - loss: 1.8652 - accuracy: 0.2625\n",
      "Epoch 18: val_accuracy did not improve from 0.35266\n",
      "120/120 [==============================] - 23s 190ms/step - loss: 1.8652 - accuracy: 0.2625 - val_loss: 1.8216 - val_accuracy: 0.2560\n",
      "Epoch 19/30\n",
      "120/120 [==============================] - ETA: 0s - loss: 1.8563 - accuracy: 0.2661\n",
      "Epoch 19: val_accuracy did not improve from 0.35266\n",
      "120/120 [==============================] - 23s 189ms/step - loss: 1.8563 - accuracy: 0.2661 - val_loss: 1.8302 - val_accuracy: 0.2246\n",
      "Epoch 20/30\n",
      "120/120 [==============================] - ETA: 0s - loss: 1.8541 - accuracy: 0.2630\n",
      "Epoch 20: val_accuracy did not improve from 0.35266\n",
      "120/120 [==============================] - 23s 193ms/step - loss: 1.8541 - accuracy: 0.2630 - val_loss: 1.7589 - val_accuracy: 0.3068\n",
      "Epoch 21/30\n",
      "120/120 [==============================] - ETA: 0s - loss: 1.8494 - accuracy: 0.2585\n",
      "Epoch 21: val_accuracy did not improve from 0.35266\n",
      "120/120 [==============================] - 23s 193ms/step - loss: 1.8494 - accuracy: 0.2585 - val_loss: 3.0885 - val_accuracy: 0.2681\n",
      "Epoch 22/30\n",
      "120/120 [==============================] - ETA: 0s - loss: 1.8564 - accuracy: 0.2617\n",
      "Epoch 22: val_accuracy did not improve from 0.35266\n",
      "120/120 [==============================] - 23s 188ms/step - loss: 1.8564 - accuracy: 0.2617 - val_loss: 3.9662 - val_accuracy: 0.2053\n",
      "Epoch 23/30\n",
      "120/120 [==============================] - ETA: 0s - loss: 1.8656 - accuracy: 0.2575\n",
      "Epoch 23: val_accuracy did not improve from 0.35266\n",
      "120/120 [==============================] - 23s 189ms/step - loss: 1.8656 - accuracy: 0.2575 - val_loss: 2.0911 - val_accuracy: 0.2778\n",
      "Epoch 24/30\n",
      "120/120 [==============================] - ETA: 0s - loss: 1.8424 - accuracy: 0.2661\n",
      "Epoch 24: val_accuracy did not improve from 0.35266\n",
      "120/120 [==============================] - 23s 190ms/step - loss: 1.8424 - accuracy: 0.2661 - val_loss: 1.8277 - val_accuracy: 0.2391\n",
      "Epoch 25/30\n",
      "120/120 [==============================] - ETA: 0s - loss: 1.8260 - accuracy: 0.2841\n",
      "Epoch 25: val_accuracy did not improve from 0.35266\n",
      "120/120 [==============================] - 23s 190ms/step - loss: 1.8260 - accuracy: 0.2841 - val_loss: 1.7390 - val_accuracy: 0.2560\n",
      "Epoch 26/30\n",
      "120/120 [==============================] - ETA: 0s - loss: 1.8268 - accuracy: 0.2839\n",
      "Epoch 26: val_accuracy did not improve from 0.35266\n",
      "120/120 [==============================] - 23s 189ms/step - loss: 1.8268 - accuracy: 0.2839 - val_loss: 2.2664 - val_accuracy: 0.3092\n",
      "Epoch 27/30\n",
      "120/120 [==============================] - ETA: 0s - loss: 1.8468 - accuracy: 0.2732\n",
      "Epoch 27: val_accuracy did not improve from 0.35266\n",
      "120/120 [==============================] - 23s 188ms/step - loss: 1.8468 - accuracy: 0.2732 - val_loss: 3.3762 - val_accuracy: 0.1981\n",
      "Epoch 28/30\n",
      "120/120 [==============================] - ETA: 0s - loss: 1.8540 - accuracy: 0.2752\n",
      "Epoch 28: val_accuracy did not improve from 0.35266\n",
      "120/120 [==============================] - 23s 189ms/step - loss: 1.8540 - accuracy: 0.2752 - val_loss: 2.3679 - val_accuracy: 0.1836\n",
      "Epoch 29/30\n",
      "120/120 [==============================] - ETA: 0s - loss: 1.8496 - accuracy: 0.2672\n",
      "Epoch 29: val_accuracy did not improve from 0.35266\n",
      "120/120 [==============================] - 23s 189ms/step - loss: 1.8496 - accuracy: 0.2672 - val_loss: 1.7254 - val_accuracy: 0.3164\n",
      "Epoch 30/30\n",
      "120/120 [==============================] - ETA: 0s - loss: 1.8161 - accuracy: 0.2820\n",
      "Epoch 30: val_accuracy did not improve from 0.35266\n",
      "120/120 [==============================] - 23s 189ms/step - loss: 1.8161 - accuracy: 0.2820 - val_loss: 2.1955 - val_accuracy: 0.2729\n"
     ]
    }
   ],
   "source": [
    "model_name = ['resnet']\n",
    "list_model = visual_models()\n",
    "\n",
    "for mn,model in enumerate(list_model):\n",
    "\n",
    "  model.compile(loss='categorical_crossentropy', \n",
    "                      optimizer=Adam()\n",
    ", \n",
    "                      metrics = [\"accuracy\"])\n",
    "  print(f\"Model Name: {model_name[mn]}\\n\")\n",
    "  # Training model\n",
    "  model.fit(x=train_image, \n",
    "              y=y_train,\n",
    "              epochs=30, \n",
    "              batch_size =32,\n",
    "              validation_data=(valid_image,y_valid),\n",
    "              verbose = 1,\n",
    "              class_weight = class_weights,\n",
    "              callbacks = callbacks_check(model_name[mn])\n",
    "              )"
   ]
  },
  {
   "cell_type": "markdown",
   "metadata": {
    "id": "U543x2hvaEI9"
   },
   "source": [
    "## Visual Models Performance"
   ]
  },
  {
   "cell_type": "code",
   "execution_count": 12,
   "metadata": {
    "id": "WbQQnBNkaEJA"
   },
   "outputs": [],
   "source": [
    "visual_models = ['resnet',]\n",
    "visual_model_names = ['ResNet']\n",
    "\n",
    "def visual_models_accuracy(saved_model): \n",
    "  my_dict = {}\n",
    "  # Prediction \n",
    "  model = load_model(models_path+'Models_2/'+f\"{saved_model}.h5\")\n",
    "  y_pred = np.argmax(model.predict(test_image), axis=-1)\n",
    "\n",
    "  y_true = test_data['enc_label']\n",
    "\n",
    "  my_dict['Accuracy'] = accuracy_score(y_true, y_pred)*100\n",
    "  my_dict['Precision'] = precision_score(y_true, y_pred,average = 'weighted')*100\n",
    "  my_dict['Recall'] = recall_score(y_true, y_pred,average = 'weighted')*100 \n",
    "  my_dict['F1 Score'] = f1_score(y_true, y_pred,average = 'weighted')*100 \n",
    "  return my_dict"
   ]
  },
  {
   "cell_type": "code",
   "execution_count": 21,
   "metadata": {
    "colab": {
     "base_uri": "https://localhost:8080/"
    },
    "id": "ifFG2vO9aEJB",
    "outputId": "51e37d94-8520-4394-a7ad-c799faa58161"
   },
   "outputs": [
    {
     "name": "stdout",
     "output_type": "stream",
     "text": [
      "13/13 [==============================] - 19s 1s/step\n"
     ]
    }
   ],
   "source": [
    "accuracy = {f'{visual_model_names[i]}':visual_models_accuracy(model) for i,model in enumerate(visual_models)}\n",
    "# Save the performance parameter into json file\n",
    "with open(models_path+'Results_2/'+'visual_models_performance.json', 'w') as f:\n",
    "    json.dump(accuracy, f)\n"
   ]
  },
  {
   "cell_type": "code",
   "execution_count": 24,
   "metadata": {
    "colab": {
     "base_uri": "https://localhost:8080/",
     "height": 116
    },
    "id": "p3eIUlFy09qo",
    "outputId": "152d680a-1420-475c-a58d-887695c6173a"
   },
   "outputs": [
    {
     "name": "stdout",
     "output_type": "stream",
     "text": [
      "\u001b[1m=======  Visual Models Performance on Test Data  =============\n",
      "\u001b[0m\n"
     ]
    },
    {
     "data": {
      "text/html": [
       "\n",
       "  <div id=\"df-d00a7726-b82f-47be-89f5-7ce054dc5cb2\">\n",
       "    <div class=\"colab-df-container\">\n",
       "      <div>\n",
       "<style scoped>\n",
       "    .dataframe tbody tr th:only-of-type {\n",
       "        vertical-align: middle;\n",
       "    }\n",
       "\n",
       "    .dataframe tbody tr th {\n",
       "        vertical-align: top;\n",
       "    }\n",
       "\n",
       "    .dataframe thead th {\n",
       "        text-align: right;\n",
       "    }\n",
       "</style>\n",
       "<table border=\"1\" class=\"dataframe\">\n",
       "  <thead>\n",
       "    <tr style=\"text-align: right;\">\n",
       "      <th></th>\n",
       "      <th>Accuracy</th>\n",
       "      <th>Precision</th>\n",
       "      <th>Recall</th>\n",
       "      <th>F1 Score</th>\n",
       "    </tr>\n",
       "  </thead>\n",
       "  <tbody>\n",
       "    <tr>\n",
       "      <th>ResNet</th>\n",
       "      <td>70.53</td>\n",
       "      <td>73.36</td>\n",
       "      <td>70.53</td>\n",
       "      <td>70.36</td>\n",
       "    </tr>\n",
       "  </tbody>\n",
       "</table>\n",
       "</div>\n",
       "      <button class=\"colab-df-convert\" onclick=\"convertToInteractive('df-d00a7726-b82f-47be-89f5-7ce054dc5cb2')\"\n",
       "              title=\"Convert this dataframe to an interactive table.\"\n",
       "              style=\"display:none;\">\n",
       "        \n",
       "  <svg xmlns=\"http://www.w3.org/2000/svg\" height=\"24px\"viewBox=\"0 0 24 24\"\n",
       "       width=\"24px\">\n",
       "    <path d=\"M0 0h24v24H0V0z\" fill=\"none\"/>\n",
       "    <path d=\"M18.56 5.44l.94 2.06.94-2.06 2.06-.94-2.06-.94-.94-2.06-.94 2.06-2.06.94zm-11 1L8.5 8.5l.94-2.06 2.06-.94-2.06-.94L8.5 2.5l-.94 2.06-2.06.94zm10 10l.94 2.06.94-2.06 2.06-.94-2.06-.94-.94-2.06-.94 2.06-2.06.94z\"/><path d=\"M17.41 7.96l-1.37-1.37c-.4-.4-.92-.59-1.43-.59-.52 0-1.04.2-1.43.59L10.3 9.45l-7.72 7.72c-.78.78-.78 2.05 0 2.83L4 21.41c.39.39.9.59 1.41.59.51 0 1.02-.2 1.41-.59l7.78-7.78 2.81-2.81c.8-.78.8-2.07 0-2.86zM5.41 20L4 18.59l7.72-7.72 1.47 1.35L5.41 20z\"/>\n",
       "  </svg>\n",
       "      </button>\n",
       "      \n",
       "  <style>\n",
       "    .colab-df-container {\n",
       "      display:flex;\n",
       "      flex-wrap:wrap;\n",
       "      gap: 12px;\n",
       "    }\n",
       "\n",
       "    .colab-df-convert {\n",
       "      background-color: #E8F0FE;\n",
       "      border: none;\n",
       "      border-radius: 50%;\n",
       "      cursor: pointer;\n",
       "      display: none;\n",
       "      fill: #1967D2;\n",
       "      height: 32px;\n",
       "      padding: 0 0 0 0;\n",
       "      width: 32px;\n",
       "    }\n",
       "\n",
       "    .colab-df-convert:hover {\n",
       "      background-color: #E2EBFA;\n",
       "      box-shadow: 0px 1px 2px rgba(60, 64, 67, 0.3), 0px 1px 3px 1px rgba(60, 64, 67, 0.15);\n",
       "      fill: #174EA6;\n",
       "    }\n",
       "\n",
       "    [theme=dark] .colab-df-convert {\n",
       "      background-color: #3B4455;\n",
       "      fill: #D2E3FC;\n",
       "    }\n",
       "\n",
       "    [theme=dark] .colab-df-convert:hover {\n",
       "      background-color: #434B5C;\n",
       "      box-shadow: 0px 1px 3px 1px rgba(0, 0, 0, 0.15);\n",
       "      filter: drop-shadow(0px 1px 2px rgba(0, 0, 0, 0.3));\n",
       "      fill: #FFFFFF;\n",
       "    }\n",
       "  </style>\n",
       "\n",
       "      <script>\n",
       "        const buttonEl =\n",
       "          document.querySelector('#df-d00a7726-b82f-47be-89f5-7ce054dc5cb2 button.colab-df-convert');\n",
       "        buttonEl.style.display =\n",
       "          google.colab.kernel.accessAllowed ? 'block' : 'none';\n",
       "\n",
       "        async function convertToInteractive(key) {\n",
       "          const element = document.querySelector('#df-d00a7726-b82f-47be-89f5-7ce054dc5cb2');\n",
       "          const dataTable =\n",
       "            await google.colab.kernel.invokeFunction('convertToInteractive',\n",
       "                                                     [key], {});\n",
       "          if (!dataTable) return;\n",
       "\n",
       "          const docLinkHtml = 'Like what you see? Visit the ' +\n",
       "            '<a target=\"_blank\" href=https://colab.research.google.com/notebooks/data_table.ipynb>data table notebook</a>'\n",
       "            + ' to learn more about interactive tables.';\n",
       "          element.innerHTML = '';\n",
       "          dataTable['output_type'] = 'display_data';\n",
       "          await google.colab.output.renderOutput(dataTable, element);\n",
       "          const docLink = document.createElement('div');\n",
       "          docLink.innerHTML = docLinkHtml;\n",
       "          element.appendChild(docLink);\n",
       "        }\n",
       "      </script>\n",
       "    </div>\n",
       "  </div>\n",
       "  "
      ],
      "text/plain": [
       "        Accuracy  Precision  Recall  F1 Score\n",
       "ResNet     70.53      73.36   70.53     70.36"
      ]
     },
     "execution_count": 24,
     "metadata": {},
     "output_type": "execute_result"
    }
   ],
   "source": [
    "# Load the json file\n",
    "metrics = json.load(open(models_path+'Results_2/'+'visual_models_performance.json'))\n",
    "acc_list = []\n",
    "pr_list = []\n",
    "re_list = []\n",
    "f1_list = []\n",
    "for i in metrics.keys():\n",
    "  acc_list.append(round(metrics[i]['Accuracy'],2))\n",
    "  pr_list.append(round(metrics[i]['Precision'],2))\n",
    "  re_list.append(round(metrics[i]['Recall'],2))\n",
    "  f1_list.append(round(metrics[i]['F1 Score'],2))\n",
    "\n",
    "print (color.BOLD+f\"=======  Visual Models Performance on Test Data  =============\\n\"+color.END)\n",
    "# Create a dataframe\n",
    "performance_matrix = pd.DataFrame({'Accuracy':acc_list,'Precision':pr_list,\n",
    "                                   'Recall':re_list,'F1 Score':f1_list},\n",
    "                                  index =['ResNet'])\n",
    "performance_matrix"
   ]
  },
  {
   "cell_type": "markdown",
   "metadata": {
    "id": "oV4hkM1ybA2y"
   },
   "source": [
    "## Confusion Matrix (Visual Models)"
   ]
  },
  {
   "cell_type": "code",
   "execution_count": 25,
   "metadata": {
    "id": "l42SMBKYhQwz"
   },
   "outputs": [],
   "source": [
    "visual_models = ['resnet']\n",
    "visual_model_names = ['ResNet']\n",
    "class_names = ['happy','angry','disgust','fear','sad','surprise','other']\n",
    "def visual_models_confusion_matrix(saved_model,model_name): \n",
    "   \n",
    "  model = load_model(models_path+'Models_2/'+f\"{saved_model}.h5\")\n",
    "  y_pred = np.argmax(model.predict(test_image), axis=-1)\n",
    "\n",
    "  y_true = test_data['enc_label']\n",
    "  con_mat(y_true,y_pred,class_names,model_name) "
   ]
  },
  {
   "cell_type": "code",
   "execution_count": 29,
   "metadata": {
    "colab": {
     "base_uri": "https://localhost:8080/",
     "height": 400
    },
    "id": "Y50NUbd3bA3S",
    "outputId": "335c8995-3294-4b7a-80e2-6cfbd0fc20c1"
   },
   "outputs": [
    {
     "name": "stdout",
     "output_type": "stream",
     "text": [
      "\u001b[1m======= Confusion Matrices for Visual Models  =============\n",
      "\u001b[0m\n",
      "13/13 [==============================] - 21s 2s/step\n"
     ]
    },
    {
     "data": {
      "image/png": "[encoded data removed]",
      "text/plain": [
       "<Figure size 400x300 with 2 Axes>"
      ]
     },
     "metadata": {},
     "output_type": "display_data"
    }
   ],
   "source": [
    "print (color.BOLD+f\"======= Confusion Matrices for Visual Models  =============\\n\"+color.END)\n",
    "for i,model in enumerate(visual_models):\n",
    "  visual_models_confusion_matrix(model,visual_model_names[i])"
   ]
  },
  {
   "cell_type": "code",
   "execution_count": 30,
   "metadata": {
    "id": "jlkszFX8izIv"
   },
   "outputs": [],
   "source": [
    "visual_models = ['resnet']\n",
    "visual_model_names = ['ResNet']\n",
    "class_names = ['happy','angry','disgust','fear','sad','surprise','other']\n",
    "def visual_models_metrics(saved_model,model_name): \n",
    "   \n",
    "  model = load_model(models_path+'Models_2/'+f\"{saved_model}.h5\")\n",
    "  y_pred = np.argmax(model.predict(test_image), axis=-1)\n",
    "\n",
    "  y_true = test_data['enc_label']\n",
    "  # con_mat(y_true,y_pred,class_names,model_name) \n",
    "  print_metrices(y_true,y_pred)"
   ]
  },
  {
   "cell_type": "code",
   "execution_count": 31,
   "metadata": {
    "colab": {
     "base_uri": "https://localhost:8080/"
    },
    "id": "YF8HzXJUkbW9",
    "outputId": "b5ebdf54-75c1-4f22-c728-3fe8809f3ce4"
   },
   "outputs": [
    {
     "name": "stdout",
     "output_type": "stream",
     "text": [
      "\u001b[1m======= Matrices for Visual Models  =============\n",
      "\u001b[0m\n",
      "13/13 [==============================] - 27s 2s/step\n",
      "[[81  1  3  2  4  1  1]\n",
      " [ 6 31  3  0  3  0  1]\n",
      " [ 3  3 29  1  0  1  3]\n",
      " [ 6  1  2 32  0  1  2]\n",
      " [14  1  1  1 50  0  1]\n",
      " [13  0  1  3  5 24  1]\n",
      " [14  5  3  0 10  1 45]]\n",
      "              precision    recall  f1-score   support\n",
      "\n",
      "           0       0.59      0.87      0.70        93\n",
      "           1       0.74      0.70      0.72        44\n",
      "           2       0.69      0.72      0.71        40\n",
      "           3       0.82      0.73      0.77        44\n",
      "           4       0.69      0.74      0.71        68\n",
      "           5       0.86      0.51      0.64        47\n",
      "           6       0.83      0.58      0.68        78\n",
      "\n",
      "    accuracy                           0.71       414\n",
      "   macro avg       0.75      0.69      0.71       414\n",
      "weighted avg       0.73      0.71      0.70       414\n",
      "\n",
      "Accuracy :  0.7053140096618358\n",
      "Precison :  0.7335534786608521\n",
      "Recall :  0.7053140096618358\n",
      "F1 :  0.7035722671065089\n"
     ]
    }
   ],
   "source": [
    "print (color.BOLD+f\"======= Matrices for Visual Models  =============\\n\"+color.END)\n",
    "for i,model in enumerate(visual_models):\n",
    "  visual_models_metrics(model,visual_model_names[i])"
   ]
  },
  {
   "cell_type": "code",
   "execution_count": 32,
   "metadata": {
    "colab": {
     "base_uri": "https://localhost:8080/"
    },
    "id": "DwOAtpKwlTFw",
    "outputId": "092c8bcc-3c28-4bf3-b0e4-d30afb095bb3"
   },
   "outputs": [
    {
     "name": "stdout",
     "output_type": "stream",
     "text": [
      "\u001b[1m======= Matrices for Visual Models  =============\u001b[0m\n",
      "13/13 [==============================] - 22s 2s/step\n",
      "MCC for ResNet: 0.6535726347748353\n"
     ]
    }
   ],
   "source": [
    "from sklearn.metrics import matthews_corrcoef\n",
    "\n",
    "visual_models = [ 'resnet']\n",
    "visual_model_names = [ 'ResNet']\n",
    "class_names = ['happy', 'angry', 'disgust', 'fear', 'sad', 'surprise', 'other']\n",
    "\n",
    "def visual_models_metrics_MCC(saved_model, model_name):\n",
    "  model = load_model(models_path + 'Models_2/' + f\"{saved_model}.h5\")\n",
    "  y_pred = np.argmax(model.predict(test_image), axis=-1)\n",
    "  y_true = test_data['enc_label']\n",
    "\n",
    " \n",
    "\n",
    "  # Calculate MCC\n",
    "  mcc = matthews_corrcoef(y_true, y_pred)\n",
    "  print(f\"MCC for {model_name}: {mcc}\")\n",
    "\n",
    "print(f\"{color.BOLD}======= Matrices for Visual Models  ============={color.END}\")\n",
    "for i, model in enumerate(visual_models):\n",
    "  visual_models_metrics_MCC(model, visual_model_names[i])\n"
   ]
  }
 ],
 "metadata": {
  "colab": {
   "gpuType": "T4",
   "machine_shape": "hm",
   "provenance": []
  },
  "kernelspec": {
   "display_name": "Python 3 (ipykernel)",
   "language": "python",
   "name": "python3"
  },
  "language_info": {
   "codemirror_mode": {
    "name": "ipython",
    "version": 3
   },
   "file_extension": ".py",
   "mimetype": "text/x-python",
   "name": "python",
   "nbconvert_exporter": "python",
   "pygments_lexer": "ipython3",
   "version": "3.10.10"
  }
 },
 "nbformat": 4,
 "nbformat_minor": 1
}
